{
 "cells": [
  {
   "cell_type": "code",
   "execution_count": 10,
   "id": "f64792a5",
   "metadata": {},
   "outputs": [],
   "source": [
    "import networkx as nx\n",
    "import numpy as np\n",
    "import pandas as pd\n",
    "import matplotlib.pyplot as plt\n",
    "from collections import Counter\n",
    "from operator import itemgetter\n",
    "import powerlaw\n",
    "from networkx.drawing.nx_agraph import graphviz_layout\n",
    "import pickle\n",
    "from statistics import mean, stdev\n",
    "import seaborn as sns\n",
    "from cdlib import algorithms\n",
    "import json"
   ]
  },
  {
   "cell_type": "code",
   "execution_count": 11,
   "id": "fb130589",
   "metadata": {},
   "outputs": [],
   "source": [
    "path_graph = \"../DataSet StackOverflow/Graph_data/\""
   ]
  },
  {
   "cell_type": "code",
   "execution_count": 12,
   "id": "015dcb59",
   "metadata": {},
   "outputs": [],
   "source": [
    "G = nx.read_graphml(path_graph+\"Real_Network.graphml\")"
   ]
  },
  {
   "cell_type": "code",
   "execution_count": 13,
   "id": "9ae9a0c1",
   "metadata": {},
   "outputs": [],
   "source": [
    "saved_path = \"../DataSet StackOverflow/centrality_degree_nodes.csv\""
   ]
  },
  {
   "cell_type": "code",
   "execution_count": 14,
   "id": "ca2e14b0",
   "metadata": {},
   "outputs": [],
   "source": [
    "df = pd.read_csv(saved_path)\n",
    "new_centrality_nodes = list(df[\"Id\"])"
   ]
  },
  {
   "cell_type": "code",
   "execution_count": null,
   "id": "4a779965",
   "metadata": {},
   "outputs": [],
   "source": [
    "it_res = {0: {\"connected_components\":[], \"path\":[]},\n",
    "          1: {\"connected_components\":[], \"path\":[]},\n",
    "          2: {\"connected_components\":[], \"path\":[]},\n",
    "          3: {\"connected_components\":[], \"path\":[]},\n",
    "          4: {\"connected_components\":[], \"path\":[]},\n",
    "          5: {\"connected_components\":[], \"path\":[]},\n",
    "          6: {\"connected_components\":[], \"path\":[]},\n",
    "          7: {\"connected_components\":[], \"path\":[]},\n",
    "          8: {\"connected_components\":[], \"path\":[]}}"
   ]
  },
  {
   "cell_type": "code",
   "execution_count": 6,
   "id": "88589092",
   "metadata": {},
   "outputs": [],
   "source": [
    "for i in range(9):\n",
    "    G.remove_nodes_from(new_centrality_nodes[:10*i+10])\n",
    "    n_connected_component = list(nx.connected_components(G))\n",
    "    it_res[i][\"connected_components\"].append(len(n_connected_component))\n",
    "    it_res[i][\"connected_components\"].append(len(n_connected_component[0]))\n",
    "    max_diameter = 0\n",
    "    max_avg_path = 0\n",
    "    for s in n_connected_component:\n",
    "        diam = nx.diameter(G.subgraph(s))\n",
    "        if diam > max_diameter:\n",
    "            max_diameter = diam\n",
    "        avg_sp = nx.average_shortest_path_length(G.subgraph(s))\n",
    "        if avg_sp > max_avg_path:\n",
    "            max_avg_path = avg_sp\n",
    "    it_res[i][\"path\"].append(max_diameter)\n",
    "    it_res[i][\"path\"].append(max_avg_path)\n",
    "    jsonString = json.dumps(it_res)\n",
    "    jsonFile = open(f\"../DataSet StackOverflow/centrality_result_{i}.json\", \"w\")\n",
    "    jsonFile.write(jsonString)\n",
    "    jsonFile.close()"
   ]
  }
 ],
 "metadata": {
  "kernelspec": {
   "display_name": "Python 3 (ipykernel)",
   "language": "python",
   "name": "python3"
  },
  "language_info": {
   "codemirror_mode": {
    "name": "ipython",
    "version": 3
   },
   "file_extension": ".py",
   "mimetype": "text/x-python",
   "name": "python",
   "nbconvert_exporter": "python",
   "pygments_lexer": "ipython3",
   "version": "3.8.10"
  }
 },
 "nbformat": 4,
 "nbformat_minor": 5
}
