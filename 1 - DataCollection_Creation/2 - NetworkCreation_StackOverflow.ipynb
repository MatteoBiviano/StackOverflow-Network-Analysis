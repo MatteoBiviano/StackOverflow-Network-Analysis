{
 "cells": [
  {
   "cell_type": "code",
   "execution_count": 2,
   "metadata": {},
   "outputs": [],
   "source": [
    "import pandas as pd"
   ]
  },
  {
   "cell_type": "code",
   "execution_count": 4,
   "metadata": {},
   "outputs": [],
   "source": [
    "path = \"../DataSet StackOverflow/questions_2020_2021.csv\""
   ]
  },
  {
   "cell_type": "code",
   "execution_count": 5,
   "metadata": {},
   "outputs": [],
   "source": [
    "df = pd.read_csv(path)"
   ]
  },
  {
   "cell_type": "code",
   "execution_count": 6,
   "metadata": {},
   "outputs": [
    {
     "data": {
      "text/html": [
       "<div>\n",
       "<style scoped>\n",
       "    .dataframe tbody tr th:only-of-type {\n",
       "        vertical-align: middle;\n",
       "    }\n",
       "\n",
       "    .dataframe tbody tr th {\n",
       "        vertical-align: top;\n",
       "    }\n",
       "\n",
       "    .dataframe thead th {\n",
       "        text-align: right;\n",
       "    }\n",
       "</style>\n",
       "<table border=\"1\" class=\"dataframe\">\n",
       "  <thead>\n",
       "    <tr style=\"text-align: right;\">\n",
       "      <th></th>\n",
       "      <th>Tags</th>\n",
       "      <th>User_Name</th>\n",
       "      <th>Title</th>\n",
       "      <th>View_count</th>\n",
       "      <th>Down_vote_count</th>\n",
       "      <th>Up_vote_count</th>\n",
       "      <th>Answer_count</th>\n",
       "      <th>Score</th>\n",
       "      <th>Creation_date</th>\n",
       "      <th>Question_id</th>\n",
       "      <th>Question_link</th>\n",
       "    </tr>\n",
       "  </thead>\n",
       "  <tbody>\n",
       "    <tr>\n",
       "      <th>0</th>\n",
       "      <td>reactjs|-|webpack|-|sass|-|create-react-app|-|...</td>\n",
       "      <td>JDKot</td>\n",
       "      <td>Error: Node Sass version 5.0.0 is incompatible...</td>\n",
       "      <td>274097</td>\n",
       "      <td>0</td>\n",
       "      <td>491</td>\n",
       "      <td>15</td>\n",
       "      <td>491</td>\n",
       "      <td>491</td>\n",
       "      <td>1604168360</td>\n",
       "      <td>64625050</td>\n",
       "    </tr>\n",
       "    <tr>\n",
       "      <th>1</th>\n",
       "      <td>ios|-|xcode|-|xcode12|-|xcode12beta5|-|xcode12...</td>\n",
       "      <td>btxios</td>\n",
       "      <td>Xcode 12, building for iOS Simulator, but link...</td>\n",
       "      <td>221842</td>\n",
       "      <td>0</td>\n",
       "      <td>480</td>\n",
       "      <td>42</td>\n",
       "      <td>480</td>\n",
       "      <td>480</td>\n",
       "      <td>1598485226</td>\n",
       "      <td>63607158</td>\n",
       "    </tr>\n",
       "    <tr>\n",
       "      <th>2</th>\n",
       "      <td>git|-|</td>\n",
       "      <td>Davide Casiraghi</td>\n",
       "      <td>How to deal with this git warning? &amp;quot;Pulli...</td>\n",
       "      <td>111752</td>\n",
       "      <td>1</td>\n",
       "      <td>383</td>\n",
       "      <td>5</td>\n",
       "      <td>382</td>\n",
       "      <td>382</td>\n",
       "      <td>1593505137</td>\n",
       "      <td>62653114</td>\n",
       "    </tr>\n",
       "    <tr>\n",
       "      <th>3</th>\n",
       "      <td>ios|-|xcode|-|</td>\n",
       "      <td>C0D3</td>\n",
       "      <td>iPhone is not available. Please reconnect the ...</td>\n",
       "      <td>174432</td>\n",
       "      <td>1</td>\n",
       "      <td>295</td>\n",
       "      <td>33</td>\n",
       "      <td>294</td>\n",
       "      <td>294</td>\n",
       "      <td>1589784284</td>\n",
       "      <td>61863826</td>\n",
       "    </tr>\n",
       "    <tr>\n",
       "      <th>4</th>\n",
       "      <td>node.js|-|npm|-|terminal|-|macos-catalina|-|no...</td>\n",
       "      <td>Jeena</td>\n",
       "      <td>`npm install` fails on node-gyp rebuild with `...</td>\n",
       "      <td>87904</td>\n",
       "      <td>0</td>\n",
       "      <td>292</td>\n",
       "      <td>19</td>\n",
       "      <td>292</td>\n",
       "      <td>292</td>\n",
       "      <td>1583544679</td>\n",
       "      <td>60573595</td>\n",
       "    </tr>\n",
       "  </tbody>\n",
       "</table>\n",
       "</div>"
      ],
      "text/plain": [
       "                                                Tags         User_Name  \\\n",
       "0  reactjs|-|webpack|-|sass|-|create-react-app|-|...             JDKot   \n",
       "1  ios|-|xcode|-|xcode12|-|xcode12beta5|-|xcode12...            btxios   \n",
       "2                                             git|-|  Davide Casiraghi   \n",
       "3                                     ios|-|xcode|-|              C0D3   \n",
       "4  node.js|-|npm|-|terminal|-|macos-catalina|-|no...             Jeena   \n",
       "\n",
       "                                               Title  View_count  \\\n",
       "0  Error: Node Sass version 5.0.0 is incompatible...      274097   \n",
       "1  Xcode 12, building for iOS Simulator, but link...      221842   \n",
       "2  How to deal with this git warning? &quot;Pulli...      111752   \n",
       "3  iPhone is not available. Please reconnect the ...      174432   \n",
       "4  `npm install` fails on node-gyp rebuild with `...       87904   \n",
       "\n",
       "   Down_vote_count  Up_vote_count  Answer_count  Score  Creation_date  \\\n",
       "0                0            491            15    491            491   \n",
       "1                0            480            42    480            480   \n",
       "2                1            383             5    382            382   \n",
       "3                1            295            33    294            294   \n",
       "4                0            292            19    292            292   \n",
       "\n",
       "   Question_id  Question_link  \n",
       "0   1604168360       64625050  \n",
       "1   1598485226       63607158  \n",
       "2   1593505137       62653114  \n",
       "3   1589784284       61863826  \n",
       "4   1583544679       60573595  "
      ]
     },
     "execution_count": 6,
     "metadata": {},
     "output_type": "execute_result"
    }
   ],
   "source": [
    "df.head()"
   ]
  },
  {
   "cell_type": "code",
   "execution_count": 7,
   "metadata": {},
   "outputs": [],
   "source": [
    "tags_dict = {}\n",
    "for i in range(len(df)):\n",
    "    ll = df[\"Tags\"][i].split(\"|-|\")[:-1]\n",
    "    for tg in ll:\n",
    "        if tg not in tags_dict:\n",
    "            tags_dict[tg] = [df[\"Question_id\"][i]]\n",
    "        else:\n",
    "            tags_dict[tg].append(df[\"Question_id\"][i])"
   ]
  },
  {
   "cell_type": "code",
   "execution_count": 8,
   "metadata": {},
   "outputs": [],
   "source": [
    "tags = list(tags_dict.keys())\n",
    "couple_tags = []\n",
    "for i in range(len(tags)):\n",
    "    for j in tags[i+1:]:\n",
    "        couple_tags.append((tags[i], j))    "
   ]
  },
  {
   "cell_type": "code",
   "execution_count": 9,
   "metadata": {},
   "outputs": [
    {
     "data": {
      "text/plain": [
       "95876628"
      ]
     },
     "execution_count": 9,
     "metadata": {},
     "output_type": "execute_result"
    }
   ],
   "source": [
    "len(couple_tags)"
   ]
  },
  {
   "cell_type": "code",
   "execution_count": 10,
   "metadata": {},
   "outputs": [
    {
     "data": {
      "text/plain": [
       "13848"
      ]
     },
     "execution_count": 10,
     "metadata": {},
     "output_type": "execute_result"
    }
   ],
   "source": [
    "len(tags)"
   ]
  },
  {
   "cell_type": "code",
   "execution_count": 11,
   "metadata": {},
   "outputs": [],
   "source": [
    "source = []\n",
    "target = []\n",
    "count = []\n",
    "nodes = []\n",
    "for i in couple_tags:\n",
    "    ll = list(set(tags_dict[i[0]]) & set(tags_dict[i[1]]))\n",
    "    if len(ll)>0:\n",
    "        source.append(i[0])\n",
    "        target.append(i[1])\n",
    "        count.append(len(ll))\n",
    "        nodes.append(i[0])\n",
    "        nodes.append(i[1])"
   ]
  },
  {
   "cell_type": "code",
   "execution_count": 12,
   "metadata": {},
   "outputs": [],
   "source": [
    "nodes = list(set(nodes))"
   ]
  },
  {
   "cell_type": "code",
   "execution_count": 16,
   "metadata": {},
   "outputs": [],
   "source": [
    "new_df = pd.DataFrame({\"Id\": nodes})\n",
    "new_df.to_csv(\"../DataSet StackOverflow/nodes.csv\", index=False)"
   ]
  },
  {
   "cell_type": "code",
   "execution_count": 17,
   "metadata": {},
   "outputs": [],
   "source": [
    "new_df = pd.DataFrame({\"Source\": source,\n",
    "                       \"Target\": target,\n",
    "                      \"Count\": count})\n",
    "new_df.to_csv(\"../DataSet StackOverflow/edges.csv\", index=False)"
   ]
  },
  {
   "cell_type": "code",
   "execution_count": null,
   "metadata": {},
   "outputs": [],
   "source": []
  }
 ],
 "metadata": {
  "kernelspec": {
   "display_name": "Python 3",
   "language": "python",
   "name": "python3"
  },
  "language_info": {
   "codemirror_mode": {
    "name": "ipython",
    "version": 3
   },
   "file_extension": ".py",
   "mimetype": "text/x-python",
   "name": "python",
   "nbconvert_exporter": "python",
   "pygments_lexer": "ipython3",
   "version": "3.8.3"
  }
 },
 "nbformat": 4,
 "nbformat_minor": 4
}
