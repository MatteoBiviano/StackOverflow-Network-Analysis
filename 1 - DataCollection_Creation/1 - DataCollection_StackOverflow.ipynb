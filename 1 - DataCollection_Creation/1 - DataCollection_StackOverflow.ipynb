{
 "cells": [
  {
   "cell_type": "markdown",
   "metadata": {},
   "source": [
    "# 1 - Data Crawling"
   ]
  },
  {
   "cell_type": "code",
   "execution_count": 1,
   "metadata": {},
   "outputs": [],
   "source": [
    "from stackapi import StackAPI\n",
    "import os\n",
    "import json\n",
    "import time\n",
    "import pandas as pd"
   ]
  },
  {
   "cell_type": "code",
   "execution_count": 2,
   "metadata": {},
   "outputs": [],
   "source": [
    "SITE = StackAPI('stackoverflow',   key = \"Y5FZk9DrTbRImUEfiQ5JJg((\" , impose_throttling = True)"
   ]
  },
  {
   "cell_type": "code",
   "execution_count": 3,
   "metadata": {},
   "outputs": [],
   "source": [
    "SITE.page_size = 100\n",
    "SITE.max_pages = 500"
   ]
  },
  {
   "cell_type": "markdown",
   "metadata": {},
   "source": [
    "Research from 1 Gennaio 2020 to 1 Gennaio 2021 sort by votes"
   ]
  },
  {
   "cell_type": "code",
   "execution_count": 4,
   "metadata": {},
   "outputs": [],
   "source": [
    "questions = SITE.fetch(\"questions\", filter = '!)rTkr_OQd(vR1j2O5o_q', fromdate =  1577836800, todate = 1609459200, sort = 'votes')"
   ]
  },
  {
   "cell_type": "code",
   "execution_count": 5,
   "metadata": {},
   "outputs": [
    {
     "data": {
      "text/plain": [
       "50000"
      ]
     },
     "execution_count": 5,
     "metadata": {},
     "output_type": "execute_result"
    }
   ],
   "source": [
    "len(questions[\"items\"])"
   ]
  },
  {
   "cell_type": "code",
   "execution_count": 6,
   "metadata": {},
   "outputs": [
    {
     "data": {
      "text/plain": [
       "{'tags': ['git', 'rebase'],\n",
       " 'owner': {'reputation': 35683,\n",
       "  'user_id': 2670370,\n",
       "  'user_type': 'registered',\n",
       "  'accept_rate': 35,\n",
       "  'profile_image': 'https://www.gravatar.com/avatar/6518601c45f36ac09aa177a3abfc1b21?s=128&d=identicon&r=PG',\n",
       "  'display_name': 'Shubham Chaudhary',\n",
       "  'link': 'https://stackoverflow.com/users/2670370/shubham-chaudhary'},\n",
       " 'is_answered': True,\n",
       " 'view_count': 1649792,\n",
       " 'down_vote_count': 1,\n",
       " 'up_vote_count': 2556,\n",
       " 'protected_date': 1518877107,\n",
       " 'answer_count': 24,\n",
       " 'score': 2555,\n",
       " 'last_activity_date': 1616291533,\n",
       " 'creation_date': 1466493780,\n",
       " 'last_edit_date': 1559734062,\n",
       " 'question_id': 37937984,\n",
       " 'link': 'https://stackoverflow.com/questions/37937984/git-refusing-to-merge-unrelated-histories-on-rebase',\n",
       " 'title': 'Git refusing to merge unrelated histories on rebase'}"
      ]
     },
     "execution_count": 6,
     "metadata": {},
     "output_type": "execute_result"
    }
   ],
   "source": [
    "questions[\"items\"][0]"
   ]
  },
  {
   "cell_type": "code",
   "execution_count": 6,
   "metadata": {},
   "outputs": [],
   "source": [
    "tags_dict = {}\n",
    "for i in questions[\"items\"]:\n",
    "    tags = i[\"tags\"]\n",
    "    for tg in tags:\n",
    "        if tg not in tags_dict:\n",
    "            tags_dict[tg] = []\n",
    "            tags_dict[tg].append(i[\"question_id\"])\n",
    "        else:\n",
    "            tags_dict[tg].append(i[\"question_id\"])"
   ]
  },
  {
   "cell_type": "code",
   "execution_count": 7,
   "metadata": {},
   "outputs": [
    {
     "data": {
      "text/plain": [
       "13848"
      ]
     },
     "execution_count": 7,
     "metadata": {},
     "output_type": "execute_result"
    }
   ],
   "source": [
    "len(tags_dict)"
   ]
  },
  {
   "cell_type": "markdown",
   "metadata": {},
   "source": [
    "Data Storage"
   ]
  },
  {
   "cell_type": "code",
   "execution_count": 28,
   "metadata": {},
   "outputs": [],
   "source": [
    "info_quest = []\n",
    "for i in questions[\"items\"]:\n",
    "    # question tags\n",
    "    tags = i[\"tags\"] \n",
    "    is_answered = i[\"is_answered\"]\n",
    "    # User name\n",
    "    display_name = i[\"owner\"][\"display_name\"]\n",
    "    # Questions view count\n",
    "    view_count = i[\"view_count\"]\n",
    "    # Question down vote\n",
    "    down_vote_count = i[\"down_vote_count\"]\n",
    "    # Question up vote\n",
    "    up_vote_count = i[\"up_vote_count\"]\n",
    "    # Question answer's count\n",
    "    answer_count = i[\"answer_count\"]\n",
    "    # Question score\n",
    "    score = i[\"score\"]\n",
    "    # Creation date\n",
    "    creation_date = i[\"creation_date\"]\n",
    "    # Question id\n",
    "    question_id = i[\"question_id\"]\n",
    "    # Question link\n",
    "    q_link = i[\"link\"]\n",
    "    # Question title\n",
    "    title = i[\"title\"]\n",
    "    info_quest.append((\n",
    "            tags,\n",
    "            display_name,\n",
    "            title,\n",
    "            view_count,\n",
    "            down_vote_count,\n",
    "            up_vote_count,\n",
    "            answer_count,\n",
    "            score,\n",
    "            creation_date,\n",
    "            question_id,\n",
    "            q_link,\n",
    "            is_answered))"
   ]
  },
  {
   "cell_type": "code",
   "execution_count": 29,
   "metadata": {},
   "outputs": [],
   "source": [
    "tags = []\n",
    "display_name = []\n",
    "title = []\n",
    "view_count = []\n",
    "down_vote_count = []\n",
    "up_vote_count = []\n",
    "answer_count = []\n",
    "score = []\n",
    "creation_date = []\n",
    "question_id = []\n",
    "q_link = []\n",
    "is_answered = []\n",
    "for i in info_quest:\n",
    "    s = \"\"\n",
    "    for tt in i[0]:\n",
    "        s = s + tt + \"|-|\"\n",
    "    tags.append(s)\n",
    "    display_name.append(i[1])\n",
    "    title.append(i[2])\n",
    "    view_count.append(i[3])\n",
    "    down_vote_count.append(i[4])\n",
    "    up_vote_count.append(i[5])\n",
    "    answer_count.append(i[6])\n",
    "    score.append(i[7])\n",
    "    creation_date.append(i[7])\n",
    "    question_id.append(i[8])\n",
    "    q_link.append(i[9])\n",
    "    is_answered.append(i[10])"
   ]
  },
  {
   "cell_type": "code",
   "execution_count": 30,
   "metadata": {},
   "outputs": [],
   "source": [
    "df = pd.DataFrame({\"Tags\": tags,\n",
    "                   \"User_Name\": display_name, \"Title\": title,\n",
    "                   \"View_count\": view_count, \"Down_vote_count\": down_vote_count, \"Up_vote_count\": up_vote_count,\n",
    "                   \"Answer_count\": answer_count, \"Score\": score, \"Creation_date\": creation_date, \n",
    "                   \"Question_id\": question_id, \"Question_link\": q_link, \"Is_Answered\":is_answered})\n",
    "df.to_csv(\"DataSet StackOverflow/questions_2020_2021.csv\", index=False)"
   ]
  },
  {
   "cell_type": "code",
   "execution_count": null,
   "metadata": {},
   "outputs": [],
   "source": []
  },
  {
   "cell_type": "code",
   "execution_count": null,
   "metadata": {},
   "outputs": [],
   "source": []
  }
 ],
 "metadata": {
  "kernelspec": {
   "display_name": "Python 3",
   "language": "python",
   "name": "python3"
  },
  "language_info": {
   "codemirror_mode": {
    "name": "ipython",
    "version": 3
   },
   "file_extension": ".py",
   "mimetype": "text/x-python",
   "name": "python",
   "nbconvert_exporter": "python",
   "pygments_lexer": "ipython3",
   "version": "3.8.3"
  }
 },
 "nbformat": 4,
 "nbformat_minor": 4
}
