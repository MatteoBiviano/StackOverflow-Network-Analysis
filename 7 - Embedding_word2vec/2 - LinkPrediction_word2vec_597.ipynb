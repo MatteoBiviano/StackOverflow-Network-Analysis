{
 "cells": [
  {
   "cell_type": "code",
   "execution_count": 1,
   "metadata": {},
   "outputs": [],
   "source": [
    "import pandas as pd\n",
    "import numpy as np\n",
    "import random\n",
    "import networkx as nx\n",
    "from tqdm import tqdm\n",
    "import re\n",
    "import matplotlib.pyplot as plt\n",
    "import itertools\n",
    "from operator import itemgetter\n",
    "import pickle\n",
    "\n",
    "from sklearn.linear_model import LogisticRegression\n",
    "from sklearn.metrics import classification_report, roc_auc_score\n",
    "from sklearn.model_selection import train_test_split\n",
    "from sklearn.metrics import confusion_matrix\n",
    "from sklearn.metrics import roc_curve\n",
    "from sklearn.metrics import auc"
   ]
  },
  {
   "cell_type": "code",
   "execution_count": 2,
   "metadata": {},
   "outputs": [],
   "source": [
    "import tensorflow as tf\n",
    "import tensorflow.keras\n",
    "import tensorflow.keras.backend as K\n",
    "from tensorflow.keras.models import Sequential \n",
    "from tensorflow.keras.layers import Dense, Activation\n",
    "from tensorflow.keras.wrappers.scikit_learn import KerasClassifier\n",
    "from tensorflow.keras import optimizers, utils, initializers, regularizers\n",
    "from tensorflow.keras.callbacks import EarlyStopping"
   ]
  },
  {
   "cell_type": "code",
   "execution_count": 3,
   "metadata": {},
   "outputs": [],
   "source": [
    "import linkpred\n",
    "from linkpred.evaluation import Pair\n",
    "import seaborn as sns"
   ]
  },
  {
   "cell_type": "code",
   "execution_count": 4,
   "metadata": {},
   "outputs": [],
   "source": [
    "import sklearn.metrics as metrics"
   ]
  },
  {
   "cell_type": "code",
   "execution_count": 5,
   "metadata": {},
   "outputs": [],
   "source": [
    "from gensim.models import Word2Vec"
   ]
  },
  {
   "cell_type": "code",
   "execution_count": 6,
   "metadata": {},
   "outputs": [],
   "source": [
    "with open('universe_1057.pickle', 'rb') as f:\n",
    "    universe_1057 = pickle.load(f)"
   ]
  },
  {
   "cell_type": "code",
   "execution_count": 7,
   "metadata": {},
   "outputs": [],
   "source": [
    "with open('universe_597.pickle', 'rb') as f:\n",
    "    universe_597 = pickle.load(f)"
   ]
  },
  {
   "cell_type": "code",
   "execution_count": 8,
   "metadata": {},
   "outputs": [
    {
     "data": {
      "text/plain": [
       "177310"
      ]
     },
     "execution_count": 8,
     "metadata": {},
     "output_type": "execute_result"
    }
   ],
   "source": [
    "len(universe_597)"
   ]
  },
  {
   "cell_type": "code",
   "execution_count": 9,
   "metadata": {},
   "outputs": [],
   "source": [
    "embedding_pickle_597 = pd.read_pickle('embedding_pickle_597.csv')"
   ]
  },
  {
   "cell_type": "code",
   "execution_count": 10,
   "metadata": {},
   "outputs": [],
   "source": [
    "edges_597 = pd.read_pickle('edges_original_597.csv')"
   ]
  },
  {
   "cell_type": "code",
   "execution_count": 11,
   "metadata": {},
   "outputs": [],
   "source": [
    "embedding_pickle_1057 = pd.read_pickle('embedding_pickle_1057.csv')"
   ]
  },
  {
   "cell_type": "code",
   "execution_count": 12,
   "metadata": {},
   "outputs": [],
   "source": [
    "edges_1057 = pd.read_pickle('edges_original_1057.csv')"
   ]
  },
  {
   "cell_type": "code",
   "execution_count": 13,
   "metadata": {},
   "outputs": [],
   "source": [
    "H_597 = nx.read_graphml(\"H_597.graphml\")"
   ]
  },
  {
   "cell_type": "code",
   "execution_count": 14,
   "metadata": {},
   "outputs": [],
   "source": [
    "all_unconnected_pairs_597 = []"
   ]
  },
  {
   "cell_type": "code",
   "execution_count": 15,
   "metadata": {},
   "outputs": [],
   "source": [
    "def check_isequal(x, a, b):\n",
    "    if x[0] == a:\n",
    "        if x[1] == b:\n",
    "            return True\n",
    "    if x[1] == a:\n",
    "        if x[0] == b:\n",
    "            return True\n",
    "    return False"
   ]
  },
  {
   "cell_type": "code",
   "execution_count": 16,
   "metadata": {},
   "outputs": [],
   "source": [
    "for ui in universe_597:\n",
    "    is_not = False\n",
    "    for i,j in edges_597.values:\n",
    "        if check_isequal(ui, i, j):\n",
    "            is_not = True\n",
    "            break\n",
    "    if not is_not:\n",
    "        all_unconnected_pairs_597.append((ui[0], ui[1]))"
   ]
  },
  {
   "cell_type": "code",
   "execution_count": 17,
   "metadata": {},
   "outputs": [
    {
     "data": {
      "text/plain": [
       "159299"
      ]
     },
     "execution_count": 17,
     "metadata": {},
     "output_type": "execute_result"
    }
   ],
   "source": [
    "len(all_unconnected_pairs_597)"
   ]
  },
  {
   "cell_type": "code",
   "execution_count": 18,
   "metadata": {},
   "outputs": [],
   "source": [
    "word2vec_597 = Word2Vec.load(\"word2vec_597.model\")"
   ]
  },
  {
   "cell_type": "markdown",
   "metadata": {},
   "source": [
    "Collegamenti inesistenti => target negativo"
   ]
  },
  {
   "cell_type": "code",
   "execution_count": 19,
   "metadata": {},
   "outputs": [],
   "source": [
    "node_1_unlinked = [word2vec_597.wv[i[0]] for i in all_unconnected_pairs_597]\n",
    "node_2_unlinked = [word2vec_597.wv[i[1]] for i in all_unconnected_pairs_597]\n",
    "\n",
    "data_597 = pd.DataFrame({'node_1':node_1_unlinked, \n",
    "                     'node_2':node_2_unlinked})\n",
    "\n",
    "# add target variable 'link'\n",
    "data_597['link'] = 0"
   ]
  },
  {
   "cell_type": "code",
   "execution_count": 20,
   "metadata": {},
   "outputs": [
    {
     "data": {
      "text/html": [
       "<div>\n",
       "<style scoped>\n",
       "    .dataframe tbody tr th:only-of-type {\n",
       "        vertical-align: middle;\n",
       "    }\n",
       "\n",
       "    .dataframe tbody tr th {\n",
       "        vertical-align: top;\n",
       "    }\n",
       "\n",
       "    .dataframe thead th {\n",
       "        text-align: right;\n",
       "    }\n",
       "</style>\n",
       "<table border=\"1\" class=\"dataframe\">\n",
       "  <thead>\n",
       "    <tr style=\"text-align: right;\">\n",
       "      <th></th>\n",
       "      <th>node_1</th>\n",
       "      <th>node_2</th>\n",
       "      <th>link</th>\n",
       "    </tr>\n",
       "  </thead>\n",
       "  <tbody>\n",
       "    <tr>\n",
       "      <th>0</th>\n",
       "      <td>[-0.011774609, 0.0046127765, -0.00472879, 0.00...</td>\n",
       "      <td>[0.002430141, 0.005948343, -0.0064370288, -0.0...</td>\n",
       "      <td>0</td>\n",
       "    </tr>\n",
       "    <tr>\n",
       "      <th>1</th>\n",
       "      <td>[0.0059981416, 0.0073024086, 0.004203002, -0.0...</td>\n",
       "      <td>[0.0036992745, 0.0004444936, -0.008025685, 0.0...</td>\n",
       "      <td>0</td>\n",
       "    </tr>\n",
       "    <tr>\n",
       "      <th>2</th>\n",
       "      <td>[0.009794094, 0.0039510047, 0.0069019194, 0.00...</td>\n",
       "      <td>[-0.0034460786, -0.004708949, 0.0045025223, -0...</td>\n",
       "      <td>0</td>\n",
       "    </tr>\n",
       "    <tr>\n",
       "      <th>3</th>\n",
       "      <td>[-0.004782298, 0.0074075586, -0.009036621, -0....</td>\n",
       "      <td>[-0.0034505723, 0.009572382, -0.0048857573, 0....</td>\n",
       "      <td>0</td>\n",
       "    </tr>\n",
       "    <tr>\n",
       "      <th>4</th>\n",
       "      <td>[0.002739371, -0.0048046284, 0.00023794279, 0....</td>\n",
       "      <td>[-0.008666487, -0.003407089, -0.007918215, -0....</td>\n",
       "      <td>0</td>\n",
       "    </tr>\n",
       "    <tr>\n",
       "      <th>...</th>\n",
       "      <td>...</td>\n",
       "      <td>...</td>\n",
       "      <td>...</td>\n",
       "    </tr>\n",
       "    <tr>\n",
       "      <th>159294</th>\n",
       "      <td>[0.00699057, 0.0040628863, -0.0029240248, -0.0...</td>\n",
       "      <td>[-0.011997137, 0.014423813, 0.007390902, 0.002...</td>\n",
       "      <td>0</td>\n",
       "    </tr>\n",
       "    <tr>\n",
       "      <th>159295</th>\n",
       "      <td>[-0.00059777295, 0.0035773763, -0.005621225, 0...</td>\n",
       "      <td>[0.008405226, -0.0013860974, 0.0076969857, 0.0...</td>\n",
       "      <td>0</td>\n",
       "    </tr>\n",
       "    <tr>\n",
       "      <th>159296</th>\n",
       "      <td>[0.007691934, -0.0004352603, -0.003290561, 0.0...</td>\n",
       "      <td>[0.00667359, -0.0026248435, -0.004343857, 0.00...</td>\n",
       "      <td>0</td>\n",
       "    </tr>\n",
       "    <tr>\n",
       "      <th>159297</th>\n",
       "      <td>[-0.004913537, 0.0014920309, -0.0062141786, -0...</td>\n",
       "      <td>[0.0064745815, 0.004576001, 0.0070170783, -0.0...</td>\n",
       "      <td>0</td>\n",
       "    </tr>\n",
       "    <tr>\n",
       "      <th>159298</th>\n",
       "      <td>[-0.010212442, 0.0035417725, 0.00023503497, -0...</td>\n",
       "      <td>[-0.003608633, 0.0015480684, -0.0068958155, 0....</td>\n",
       "      <td>0</td>\n",
       "    </tr>\n",
       "  </tbody>\n",
       "</table>\n",
       "<p>159299 rows × 3 columns</p>\n",
       "</div>"
      ],
      "text/plain": [
       "                                                   node_1  \\\n",
       "0       [-0.011774609, 0.0046127765, -0.00472879, 0.00...   \n",
       "1       [0.0059981416, 0.0073024086, 0.004203002, -0.0...   \n",
       "2       [0.009794094, 0.0039510047, 0.0069019194, 0.00...   \n",
       "3       [-0.004782298, 0.0074075586, -0.009036621, -0....   \n",
       "4       [0.002739371, -0.0048046284, 0.00023794279, 0....   \n",
       "...                                                   ...   \n",
       "159294  [0.00699057, 0.0040628863, -0.0029240248, -0.0...   \n",
       "159295  [-0.00059777295, 0.0035773763, -0.005621225, 0...   \n",
       "159296  [0.007691934, -0.0004352603, -0.003290561, 0.0...   \n",
       "159297  [-0.004913537, 0.0014920309, -0.0062141786, -0...   \n",
       "159298  [-0.010212442, 0.0035417725, 0.00023503497, -0...   \n",
       "\n",
       "                                                   node_2  link  \n",
       "0       [0.002430141, 0.005948343, -0.0064370288, -0.0...     0  \n",
       "1       [0.0036992745, 0.0004444936, -0.008025685, 0.0...     0  \n",
       "2       [-0.0034460786, -0.004708949, 0.0045025223, -0...     0  \n",
       "3       [-0.0034505723, 0.009572382, -0.0048857573, 0....     0  \n",
       "4       [-0.008666487, -0.003407089, -0.007918215, -0....     0  \n",
       "...                                                   ...   ...  \n",
       "159294  [-0.011997137, 0.014423813, 0.007390902, 0.002...     0  \n",
       "159295  [0.008405226, -0.0013860974, 0.0076969857, 0.0...     0  \n",
       "159296  [0.00667359, -0.0026248435, -0.004343857, 0.00...     0  \n",
       "159297  [0.0064745815, 0.004576001, 0.0070170783, -0.0...     0  \n",
       "159298  [-0.003608633, 0.0015480684, -0.0068958155, 0....     0  \n",
       "\n",
       "[159299 rows x 3 columns]"
      ]
     },
     "execution_count": 20,
     "metadata": {},
     "output_type": "execute_result"
    }
   ],
   "source": [
    "data_597"
   ]
  },
  {
   "cell_type": "code",
   "execution_count": 21,
   "metadata": {},
   "outputs": [],
   "source": [
    "def omissibile_links(G, df_edges):\n",
    "    initial_node_count = len(G.nodes)\n",
    "\n",
    "    fb_df_temp = df_edges.copy()\n",
    "\n",
    "    # empty list to store removable links\n",
    "    omissible_links_index = []\n",
    "\n",
    "    for i in tqdm(df_edges.index.values):\n",
    "\n",
    "      # remove a node pair and build a new graph\n",
    "      G_temp = nx.from_pandas_edgelist(fb_df_temp.drop(index = i), \"first\", \"second\", create_using=nx.Graph())\n",
    "\n",
    "      # check there is no spliting of graph and number of nodes is same\n",
    "      if (nx.number_connected_components(G_temp) == 1) and (len(G_temp.nodes) == initial_node_count):\n",
    "        omissible_links_index.append(i)\n",
    "        fb_df_temp = fb_df_temp.drop(index = i)\n",
    "    return omissible_links_index"
   ]
  },
  {
   "cell_type": "code",
   "execution_count": 22,
   "metadata": {},
   "outputs": [
    {
     "name": "stderr",
     "output_type": "stream",
     "text": [
      "100%|████████████████████████████████████████████████████████████████████████████| 18011/18011 [06:53<00:00, 43.51it/s]\n"
     ]
    }
   ],
   "source": [
    "omissible_links_597 =  omissibile_links(H_597, edges_597)"
   ]
  },
  {
   "cell_type": "code",
   "execution_count": 28,
   "metadata": {},
   "outputs": [
    {
     "data": {
      "text/plain": [
       "18011"
      ]
     },
     "execution_count": 28,
     "metadata": {},
     "output_type": "execute_result"
    }
   ],
   "source": [
    "len(edges_597)"
   ]
  },
  {
   "cell_type": "code",
   "execution_count": 26,
   "metadata": {},
   "outputs": [
    {
     "data": {
      "text/plain": [
       "17416"
      ]
     },
     "execution_count": 26,
     "metadata": {},
     "output_type": "execute_result"
    }
   ],
   "source": [
    "len(omissible_links_597)"
   ]
  },
  {
   "cell_type": "code",
   "execution_count": 30,
   "metadata": {},
   "outputs": [
    {
     "data": {
      "text/plain": [
       "177310"
      ]
     },
     "execution_count": 30,
     "metadata": {},
     "output_type": "execute_result"
    }
   ],
   "source": [
    "len(universe_597)"
   ]
  },
  {
   "cell_type": "code",
   "execution_count": 23,
   "metadata": {},
   "outputs": [],
   "source": [
    "# create dataframe of removable edges\n",
    "fb_df_ghost_597 = embedding_pickle_597.loc[omissible_links_597]\n",
    "\n",
    "fb_df_ghost_597 = fb_df_ghost_597.rename(columns={\"first\": \"node_1\", \"second\": \"node_2\"})\n",
    "# add the target variable 'link'\n",
    "fb_df_ghost_597['link'] = 1\n",
    "\n",
    "data_597 = data_597.append(fb_df_ghost_597[['node_1', 'node_2', 'link']], ignore_index=True)"
   ]
  },
  {
   "cell_type": "code",
   "execution_count": 24,
   "metadata": {},
   "outputs": [
    {
     "data": {
      "text/plain": [
       "0    159299\n",
       "1     17416\n",
       "Name: link, dtype: int64"
      ]
     },
     "execution_count": 24,
     "metadata": {},
     "output_type": "execute_result"
    }
   ],
   "source": [
    "data_597['link'].value_counts()"
   ]
  },
  {
   "cell_type": "code",
   "execution_count": 25,
   "metadata": {},
   "outputs": [],
   "source": [
    "data_597.to_pickle(\"data_597.csv\")"
   ]
  },
  {
   "cell_type": "markdown",
   "metadata": {},
   "source": [
    "----------------- Lettura dati -------------------"
   ]
  },
  {
   "cell_type": "code",
   "execution_count": 8,
   "metadata": {},
   "outputs": [],
   "source": [
    "data_597 = pd.read_pickle('data_597.csv')"
   ]
  },
  {
   "cell_type": "markdown",
   "metadata": {},
   "source": [
    "# 2 - Classificatori"
   ]
  },
  {
   "cell_type": "code",
   "execution_count": 6,
   "metadata": {},
   "outputs": [],
   "source": [
    "X_597 = []\n",
    "for i in range(data_597.shape[0]):\n",
    "    first = data_597.iloc[i][0]\n",
    "    second = data_597.iloc[i][1]\n",
    "    mixed = np.concatenate((first, second), 0)\n",
    "    X_597.append(mixed)"
   ]
  },
  {
   "cell_type": "code",
   "execution_count": 7,
   "metadata": {},
   "outputs": [],
   "source": [
    "xtrain_597, xtest_597, ytrain_597, ytest_597 = train_test_split(np.asarray(X_597), data_597['link'], \n",
    "                                                test_size = 0.3, \n",
    "                                                random_state = 35,\n",
    "                                                stratify=data_597['link'])"
   ]
  },
  {
   "cell_type": "markdown",
   "metadata": {},
   "source": [
    "### 1 - DecisionTree"
   ]
  },
  {
   "cell_type": "code",
   "execution_count": 6,
   "metadata": {},
   "outputs": [],
   "source": [
    "from sklearn import tree\n",
    "from sklearn.model_selection import ShuffleSplit, StratifiedKFold, GridSearchCV\n",
    "from sklearn.metrics import roc_curve, auc, roc_auc_score"
   ]
  },
  {
   "cell_type": "code",
   "execution_count": 59,
   "metadata": {},
   "outputs": [],
   "source": [
    "# Set the parameters by cross-validation\n",
    "tuned_parameters = {\n",
    "    'criterion' : ['gini', 'entropy'],\n",
    "    'max_depth': [2, 5, 10, 15, None],\n",
    "    'min_samples_split': [2, 5, 10, 20],\n",
    "    'min_samples_leaf': [1, 5, 10, 20],\n",
    "}\n",
    "scores = ['roc_auc']"
   ]
  },
  {
   "cell_type": "code",
   "execution_count": 57,
   "metadata": {},
   "outputs": [],
   "source": [
    "def builtGridSearch( X_train, X_test, y_train, y_test, tuned_parameters, scores):\n",
    "    optimals = {}\n",
    "    for score in scores:\n",
    "        print(\"------- Score = \" + str(score) + \" ------- \\n\")\n",
    "        model = tree.DecisionTreeClassifier()\n",
    "        k_fold = StratifiedKFold(n_splits=5, random_state=42)\n",
    "        \n",
    "        print(\"> Fold = \" + str(k_fold) + \"\\n\")\n",
    "        clf = GridSearchCV(model, tuned_parameters, error_score='raise', cv=5, scoring = score, return_train_score=True)\n",
    "\n",
    "        clf.fit(X_train, y_train)\n",
    "\n",
    "        print(\"> Best Parameter set: \\n\")\n",
    "        best = clf.best_params_\n",
    "        print(best)\n",
    "        \n",
    "        print(\"\\n> Grid scores:\\n\")\n",
    "        means = clf.cv_results_['mean_test_score']\n",
    "        stds = clf.cv_results_['std_test_score']\n",
    "        \n",
    "        parameters = {\"criterion\": [], \"max_depth\": [], \"min_samples_leaf\": [], \"min_samples_split\": []}\n",
    "        for mean, std, params in zip(means, stds, clf.cv_results_['params']):\n",
    "            print(\"%0.3f (+/-%0.03f) for %r\"\n",
    "                  % (mean, std * 2, params))\n",
    "            parameters[\"criterion\"].append(params[\"criterion\"])\n",
    "\n",
    "            if(params[\"max_depth\"] == None):\n",
    "                parameters[\"max_depth\"].append(0)\n",
    "            else:\n",
    "                parameters[\"max_depth\"].append(params[\"max_depth\"])\n",
    "\n",
    "            #parameters[\"max_depth\"].append(params[\"max_depth\"])\n",
    "            parameters[\"min_samples_leaf\"].append(params[\"min_samples_leaf\"])\n",
    "            parameters[\"min_samples_split\"].append(params[\"min_samples_split\"])\n",
    "        \n",
    "        print(\"-> Report\\n\") \n",
    "        y_true, y_pred = y_test, clf.predict(X_test)\n",
    "        print(classification_report(y_true, y_pred))\n",
    "        print(\"\\n\")\n",
    "        print(\"**** Matrice di Confusione *****\")\n",
    "        tn, fp, fn, tp = confusion_matrix(y_true, y_pred).ravel()\n",
    "        print(' True negative: %d False negative: %d' % (tn, fn))\n",
    "        print(' True positive: %d False positive: %d' % (tp, fp))\n",
    "\n",
    "        \n",
    "        # Creazione del csv\n",
    "        d = {score: means, 'std_dev': stds*2, 'criterion': parameters[\"criterion\"], \"max_depth\": parameters[\"max_depth\"], \"min_samples_leaf\": parameters[\"min_samples_leaf\"], \"min_samples_split\": parameters[\"min_samples_split\"]}\n",
    "        \n",
    "        dataF = pd.DataFrame(data=d)\n",
    "        \n",
    "        dataF.to_csv(\"result_DT_gridsearch.csv\",index=False, header=True)\n",
    "        \n",
    "\n",
    "        print(\"...........RESULTS FOR TRAINING.........\")\n",
    "        print(\"........................................\")\n",
    "        means = clf.cv_results_['mean_train_score']\n",
    "        stds = clf.cv_results_['std_train_score']\n",
    "        for mean, std, params in zip(means, stds, clf.cv_results_['params']):\n",
    "            print(\"%0.3f (+/-%0.03f) for %r\"\n",
    "                  % (mean, std * 2, params))        \n",
    "        \n",
    "        print(\"____________________________________________\")\n",
    "        \n",
    "        optimals[score] = best\n",
    "    return optimals"
   ]
  },
  {
   "cell_type": "code",
   "execution_count": 42,
   "metadata": {},
   "outputs": [
    {
     "name": "stdout",
     "output_type": "stream",
     "text": [
      "------- Score = roc_auc ------- \n",
      "\n",
      "> Fold = StratifiedKFold(n_splits=5, random_state=42, shuffle=False)\n",
      "\n"
     ]
    },
    {
     "name": "stderr",
     "output_type": "stream",
     "text": [
      "C:\\ProgramData\\Anaconda3\\lib\\site-packages\\sklearn\\model_selection\\_split.py:293: FutureWarning: Setting a random_state has no effect since shuffle is False. This will raise an error in 0.24. You should leave random_state to its default (None), or set shuffle=True.\n",
      "  warnings.warn(\n"
     ]
    },
    {
     "name": "stdout",
     "output_type": "stream",
     "text": [
      "> Best Parameter set: \n",
      "\n",
      "{'criterion': 'entropy', 'max_depth': None, 'min_samples_leaf': 20, 'min_samples_split': 10}\n",
      "\n",
      "> Grid scores:\n",
      "\n",
      "0.533 (+/-0.011) for {'criterion': 'gini', 'max_depth': 2, 'min_samples_leaf': 1, 'min_samples_split': 2}\n",
      "0.533 (+/-0.011) for {'criterion': 'gini', 'max_depth': 2, 'min_samples_leaf': 1, 'min_samples_split': 5}\n",
      "0.533 (+/-0.011) for {'criterion': 'gini', 'max_depth': 2, 'min_samples_leaf': 1, 'min_samples_split': 10}\n",
      "0.533 (+/-0.011) for {'criterion': 'gini', 'max_depth': 2, 'min_samples_leaf': 1, 'min_samples_split': 20}\n",
      "0.533 (+/-0.011) for {'criterion': 'gini', 'max_depth': 2, 'min_samples_leaf': 5, 'min_samples_split': 2}\n",
      "0.533 (+/-0.011) for {'criterion': 'gini', 'max_depth': 2, 'min_samples_leaf': 5, 'min_samples_split': 5}\n",
      "0.533 (+/-0.011) for {'criterion': 'gini', 'max_depth': 2, 'min_samples_leaf': 5, 'min_samples_split': 10}\n",
      "0.533 (+/-0.011) for {'criterion': 'gini', 'max_depth': 2, 'min_samples_leaf': 5, 'min_samples_split': 20}\n",
      "0.533 (+/-0.011) for {'criterion': 'gini', 'max_depth': 2, 'min_samples_leaf': 10, 'min_samples_split': 2}\n",
      "0.533 (+/-0.011) for {'criterion': 'gini', 'max_depth': 2, 'min_samples_leaf': 10, 'min_samples_split': 5}\n",
      "0.533 (+/-0.011) for {'criterion': 'gini', 'max_depth': 2, 'min_samples_leaf': 10, 'min_samples_split': 10}\n",
      "0.533 (+/-0.011) for {'criterion': 'gini', 'max_depth': 2, 'min_samples_leaf': 10, 'min_samples_split': 20}\n",
      "0.533 (+/-0.011) for {'criterion': 'gini', 'max_depth': 2, 'min_samples_leaf': 20, 'min_samples_split': 2}\n",
      "0.533 (+/-0.011) for {'criterion': 'gini', 'max_depth': 2, 'min_samples_leaf': 20, 'min_samples_split': 5}\n",
      "0.533 (+/-0.011) for {'criterion': 'gini', 'max_depth': 2, 'min_samples_leaf': 20, 'min_samples_split': 10}\n",
      "0.533 (+/-0.011) for {'criterion': 'gini', 'max_depth': 2, 'min_samples_leaf': 20, 'min_samples_split': 20}\n",
      "0.602 (+/-0.007) for {'criterion': 'gini', 'max_depth': 5, 'min_samples_leaf': 1, 'min_samples_split': 2}\n",
      "0.602 (+/-0.006) for {'criterion': 'gini', 'max_depth': 5, 'min_samples_leaf': 1, 'min_samples_split': 5}\n",
      "0.602 (+/-0.005) for {'criterion': 'gini', 'max_depth': 5, 'min_samples_leaf': 1, 'min_samples_split': 10}\n",
      "0.602 (+/-0.006) for {'criterion': 'gini', 'max_depth': 5, 'min_samples_leaf': 1, 'min_samples_split': 20}\n",
      "0.603 (+/-0.006) for {'criterion': 'gini', 'max_depth': 5, 'min_samples_leaf': 5, 'min_samples_split': 2}\n",
      "0.603 (+/-0.006) for {'criterion': 'gini', 'max_depth': 5, 'min_samples_leaf': 5, 'min_samples_split': 5}\n",
      "0.603 (+/-0.006) for {'criterion': 'gini', 'max_depth': 5, 'min_samples_leaf': 5, 'min_samples_split': 10}\n",
      "0.603 (+/-0.006) for {'criterion': 'gini', 'max_depth': 5, 'min_samples_leaf': 5, 'min_samples_split': 20}\n",
      "0.604 (+/-0.007) for {'criterion': 'gini', 'max_depth': 5, 'min_samples_leaf': 10, 'min_samples_split': 2}\n",
      "0.604 (+/-0.007) for {'criterion': 'gini', 'max_depth': 5, 'min_samples_leaf': 10, 'min_samples_split': 5}\n",
      "0.604 (+/-0.007) for {'criterion': 'gini', 'max_depth': 5, 'min_samples_leaf': 10, 'min_samples_split': 10}\n",
      "0.604 (+/-0.007) for {'criterion': 'gini', 'max_depth': 5, 'min_samples_leaf': 10, 'min_samples_split': 20}\n",
      "0.604 (+/-0.007) for {'criterion': 'gini', 'max_depth': 5, 'min_samples_leaf': 20, 'min_samples_split': 2}\n",
      "0.604 (+/-0.007) for {'criterion': 'gini', 'max_depth': 5, 'min_samples_leaf': 20, 'min_samples_split': 5}\n",
      "0.604 (+/-0.007) for {'criterion': 'gini', 'max_depth': 5, 'min_samples_leaf': 20, 'min_samples_split': 10}\n",
      "0.604 (+/-0.007) for {'criterion': 'gini', 'max_depth': 5, 'min_samples_leaf': 20, 'min_samples_split': 20}\n",
      "0.655 (+/-0.016) for {'criterion': 'gini', 'max_depth': 10, 'min_samples_leaf': 1, 'min_samples_split': 2}\n",
      "0.656 (+/-0.016) for {'criterion': 'gini', 'max_depth': 10, 'min_samples_leaf': 1, 'min_samples_split': 5}\n",
      "0.660 (+/-0.016) for {'criterion': 'gini', 'max_depth': 10, 'min_samples_leaf': 1, 'min_samples_split': 10}\n",
      "0.663 (+/-0.017) for {'criterion': 'gini', 'max_depth': 10, 'min_samples_leaf': 1, 'min_samples_split': 20}\n",
      "0.664 (+/-0.016) for {'criterion': 'gini', 'max_depth': 10, 'min_samples_leaf': 5, 'min_samples_split': 2}\n",
      "0.663 (+/-0.016) for {'criterion': 'gini', 'max_depth': 10, 'min_samples_leaf': 5, 'min_samples_split': 5}\n",
      "0.664 (+/-0.013) for {'criterion': 'gini', 'max_depth': 10, 'min_samples_leaf': 5, 'min_samples_split': 10}\n",
      "0.666 (+/-0.016) for {'criterion': 'gini', 'max_depth': 10, 'min_samples_leaf': 5, 'min_samples_split': 20}\n",
      "0.667 (+/-0.016) for {'criterion': 'gini', 'max_depth': 10, 'min_samples_leaf': 10, 'min_samples_split': 2}\n",
      "0.668 (+/-0.017) for {'criterion': 'gini', 'max_depth': 10, 'min_samples_leaf': 10, 'min_samples_split': 5}\n",
      "0.668 (+/-0.015) for {'criterion': 'gini', 'max_depth': 10, 'min_samples_leaf': 10, 'min_samples_split': 10}\n",
      "0.668 (+/-0.017) for {'criterion': 'gini', 'max_depth': 10, 'min_samples_leaf': 10, 'min_samples_split': 20}\n",
      "0.670 (+/-0.015) for {'criterion': 'gini', 'max_depth': 10, 'min_samples_leaf': 20, 'min_samples_split': 2}\n",
      "0.670 (+/-0.014) for {'criterion': 'gini', 'max_depth': 10, 'min_samples_leaf': 20, 'min_samples_split': 5}\n",
      "0.670 (+/-0.014) for {'criterion': 'gini', 'max_depth': 10, 'min_samples_leaf': 20, 'min_samples_split': 10}\n",
      "0.670 (+/-0.015) for {'criterion': 'gini', 'max_depth': 10, 'min_samples_leaf': 20, 'min_samples_split': 20}\n",
      "0.663 (+/-0.014) for {'criterion': 'gini', 'max_depth': 15, 'min_samples_leaf': 1, 'min_samples_split': 2}\n",
      "0.670 (+/-0.016) for {'criterion': 'gini', 'max_depth': 15, 'min_samples_leaf': 1, 'min_samples_split': 5}\n",
      "0.677 (+/-0.014) for {'criterion': 'gini', 'max_depth': 15, 'min_samples_leaf': 1, 'min_samples_split': 10}\n",
      "0.688 (+/-0.014) for {'criterion': 'gini', 'max_depth': 15, 'min_samples_leaf': 1, 'min_samples_split': 20}\n",
      "0.683 (+/-0.018) for {'criterion': 'gini', 'max_depth': 15, 'min_samples_leaf': 5, 'min_samples_split': 2}\n",
      "0.681 (+/-0.018) for {'criterion': 'gini', 'max_depth': 15, 'min_samples_leaf': 5, 'min_samples_split': 5}\n",
      "0.683 (+/-0.017) for {'criterion': 'gini', 'max_depth': 15, 'min_samples_leaf': 5, 'min_samples_split': 10}\n",
      "0.690 (+/-0.014) for {'criterion': 'gini', 'max_depth': 15, 'min_samples_leaf': 5, 'min_samples_split': 20}\n",
      "0.691 (+/-0.015) for {'criterion': 'gini', 'max_depth': 15, 'min_samples_leaf': 10, 'min_samples_split': 2}\n",
      "0.689 (+/-0.014) for {'criterion': 'gini', 'max_depth': 15, 'min_samples_leaf': 10, 'min_samples_split': 5}\n",
      "0.692 (+/-0.012) for {'criterion': 'gini', 'max_depth': 15, 'min_samples_leaf': 10, 'min_samples_split': 10}\n",
      "0.691 (+/-0.015) for {'criterion': 'gini', 'max_depth': 15, 'min_samples_leaf': 10, 'min_samples_split': 20}\n",
      "0.694 (+/-0.016) for {'criterion': 'gini', 'max_depth': 15, 'min_samples_leaf': 20, 'min_samples_split': 2}\n",
      "0.694 (+/-0.016) for {'criterion': 'gini', 'max_depth': 15, 'min_samples_leaf': 20, 'min_samples_split': 5}\n",
      "0.695 (+/-0.017) for {'criterion': 'gini', 'max_depth': 15, 'min_samples_leaf': 20, 'min_samples_split': 10}\n",
      "0.695 (+/-0.018) for {'criterion': 'gini', 'max_depth': 15, 'min_samples_leaf': 20, 'min_samples_split': 20}\n",
      "0.653 (+/-0.003) for {'criterion': 'gini', 'max_depth': None, 'min_samples_leaf': 1, 'min_samples_split': 2}\n",
      "0.663 (+/-0.007) for {'criterion': 'gini', 'max_depth': None, 'min_samples_leaf': 1, 'min_samples_split': 5}\n",
      "0.678 (+/-0.007) for {'criterion': 'gini', 'max_depth': None, 'min_samples_leaf': 1, 'min_samples_split': 10}\n",
      "0.701 (+/-0.006) for {'criterion': 'gini', 'max_depth': None, 'min_samples_leaf': 1, 'min_samples_split': 20}\n",
      "0.693 (+/-0.008) for {'criterion': 'gini', 'max_depth': None, 'min_samples_leaf': 5, 'min_samples_split': 2}\n",
      "0.693 (+/-0.010) for {'criterion': 'gini', 'max_depth': None, 'min_samples_leaf': 5, 'min_samples_split': 5}\n",
      "0.693 (+/-0.010) for {'criterion': 'gini', 'max_depth': None, 'min_samples_leaf': 5, 'min_samples_split': 10}\n",
      "0.713 (+/-0.010) for {'criterion': 'gini', 'max_depth': None, 'min_samples_leaf': 5, 'min_samples_split': 20}\n",
      "0.721 (+/-0.009) for {'criterion': 'gini', 'max_depth': None, 'min_samples_leaf': 10, 'min_samples_split': 2}\n",
      "0.722 (+/-0.007) for {'criterion': 'gini', 'max_depth': None, 'min_samples_leaf': 10, 'min_samples_split': 5}\n",
      "0.721 (+/-0.010) for {'criterion': 'gini', 'max_depth': None, 'min_samples_leaf': 10, 'min_samples_split': 10}\n",
      "0.722 (+/-0.010) for {'criterion': 'gini', 'max_depth': None, 'min_samples_leaf': 10, 'min_samples_split': 20}\n",
      "0.748 (+/-0.013) for {'criterion': 'gini', 'max_depth': None, 'min_samples_leaf': 20, 'min_samples_split': 2}\n",
      "0.749 (+/-0.013) for {'criterion': 'gini', 'max_depth': None, 'min_samples_leaf': 20, 'min_samples_split': 5}\n",
      "0.748 (+/-0.014) for {'criterion': 'gini', 'max_depth': None, 'min_samples_leaf': 20, 'min_samples_split': 10}\n",
      "0.749 (+/-0.013) for {'criterion': 'gini', 'max_depth': None, 'min_samples_leaf': 20, 'min_samples_split': 20}\n",
      "0.601 (+/-0.014) for {'criterion': 'entropy', 'max_depth': 2, 'min_samples_leaf': 1, 'min_samples_split': 2}\n",
      "0.601 (+/-0.014) for {'criterion': 'entropy', 'max_depth': 2, 'min_samples_leaf': 1, 'min_samples_split': 5}\n",
      "0.601 (+/-0.014) for {'criterion': 'entropy', 'max_depth': 2, 'min_samples_leaf': 1, 'min_samples_split': 10}\n",
      "0.601 (+/-0.014) for {'criterion': 'entropy', 'max_depth': 2, 'min_samples_leaf': 1, 'min_samples_split': 20}\n",
      "0.601 (+/-0.014) for {'criterion': 'entropy', 'max_depth': 2, 'min_samples_leaf': 5, 'min_samples_split': 2}\n",
      "0.601 (+/-0.014) for {'criterion': 'entropy', 'max_depth': 2, 'min_samples_leaf': 5, 'min_samples_split': 5}\n",
      "0.601 (+/-0.014) for {'criterion': 'entropy', 'max_depth': 2, 'min_samples_leaf': 5, 'min_samples_split': 10}\n",
      "0.601 (+/-0.014) for {'criterion': 'entropy', 'max_depth': 2, 'min_samples_leaf': 5, 'min_samples_split': 20}\n",
      "0.601 (+/-0.014) for {'criterion': 'entropy', 'max_depth': 2, 'min_samples_leaf': 10, 'min_samples_split': 2}\n",
      "0.601 (+/-0.014) for {'criterion': 'entropy', 'max_depth': 2, 'min_samples_leaf': 10, 'min_samples_split': 5}\n",
      "0.601 (+/-0.014) for {'criterion': 'entropy', 'max_depth': 2, 'min_samples_leaf': 10, 'min_samples_split': 10}\n",
      "0.601 (+/-0.014) for {'criterion': 'entropy', 'max_depth': 2, 'min_samples_leaf': 10, 'min_samples_split': 20}\n",
      "0.601 (+/-0.014) for {'criterion': 'entropy', 'max_depth': 2, 'min_samples_leaf': 20, 'min_samples_split': 2}\n",
      "0.601 (+/-0.014) for {'criterion': 'entropy', 'max_depth': 2, 'min_samples_leaf': 20, 'min_samples_split': 5}\n",
      "0.601 (+/-0.014) for {'criterion': 'entropy', 'max_depth': 2, 'min_samples_leaf': 20, 'min_samples_split': 10}\n",
      "0.601 (+/-0.014) for {'criterion': 'entropy', 'max_depth': 2, 'min_samples_leaf': 20, 'min_samples_split': 20}\n",
      "0.648 (+/-0.018) for {'criterion': 'entropy', 'max_depth': 5, 'min_samples_leaf': 1, 'min_samples_split': 2}\n",
      "0.648 (+/-0.018) for {'criterion': 'entropy', 'max_depth': 5, 'min_samples_leaf': 1, 'min_samples_split': 5}\n",
      "0.648 (+/-0.018) for {'criterion': 'entropy', 'max_depth': 5, 'min_samples_leaf': 1, 'min_samples_split': 10}\n",
      "0.648 (+/-0.018) for {'criterion': 'entropy', 'max_depth': 5, 'min_samples_leaf': 1, 'min_samples_split': 20}\n",
      "0.647 (+/-0.018) for {'criterion': 'entropy', 'max_depth': 5, 'min_samples_leaf': 5, 'min_samples_split': 2}\n",
      "0.647 (+/-0.018) for {'criterion': 'entropy', 'max_depth': 5, 'min_samples_leaf': 5, 'min_samples_split': 5}\n",
      "0.647 (+/-0.018) for {'criterion': 'entropy', 'max_depth': 5, 'min_samples_leaf': 5, 'min_samples_split': 10}\n",
      "0.647 (+/-0.018) for {'criterion': 'entropy', 'max_depth': 5, 'min_samples_leaf': 5, 'min_samples_split': 20}\n",
      "0.648 (+/-0.018) for {'criterion': 'entropy', 'max_depth': 5, 'min_samples_leaf': 10, 'min_samples_split': 2}\n",
      "0.648 (+/-0.018) for {'criterion': 'entropy', 'max_depth': 5, 'min_samples_leaf': 10, 'min_samples_split': 5}\n",
      "0.648 (+/-0.018) for {'criterion': 'entropy', 'max_depth': 5, 'min_samples_leaf': 10, 'min_samples_split': 10}\n",
      "0.648 (+/-0.018) for {'criterion': 'entropy', 'max_depth': 5, 'min_samples_leaf': 10, 'min_samples_split': 20}\n",
      "0.648 (+/-0.019) for {'criterion': 'entropy', 'max_depth': 5, 'min_samples_leaf': 20, 'min_samples_split': 2}\n",
      "0.648 (+/-0.019) for {'criterion': 'entropy', 'max_depth': 5, 'min_samples_leaf': 20, 'min_samples_split': 5}\n",
      "0.648 (+/-0.019) for {'criterion': 'entropy', 'max_depth': 5, 'min_samples_leaf': 20, 'min_samples_split': 10}\n",
      "0.648 (+/-0.019) for {'criterion': 'entropy', 'max_depth': 5, 'min_samples_leaf': 20, 'min_samples_split': 20}\n",
      "0.698 (+/-0.015) for {'criterion': 'entropy', 'max_depth': 10, 'min_samples_leaf': 1, 'min_samples_split': 2}\n",
      "0.699 (+/-0.015) for {'criterion': 'entropy', 'max_depth': 10, 'min_samples_leaf': 1, 'min_samples_split': 5}\n",
      "0.701 (+/-0.012) for {'criterion': 'entropy', 'max_depth': 10, 'min_samples_leaf': 1, 'min_samples_split': 10}\n",
      "0.705 (+/-0.012) for {'criterion': 'entropy', 'max_depth': 10, 'min_samples_leaf': 1, 'min_samples_split': 20}\n",
      "0.702 (+/-0.013) for {'criterion': 'entropy', 'max_depth': 10, 'min_samples_leaf': 5, 'min_samples_split': 2}\n",
      "0.701 (+/-0.012) for {'criterion': 'entropy', 'max_depth': 10, 'min_samples_leaf': 5, 'min_samples_split': 5}\n",
      "0.701 (+/-0.014) for {'criterion': 'entropy', 'max_depth': 10, 'min_samples_leaf': 5, 'min_samples_split': 10}\n",
      "0.705 (+/-0.013) for {'criterion': 'entropy', 'max_depth': 10, 'min_samples_leaf': 5, 'min_samples_split': 20}\n",
      "0.706 (+/-0.008) for {'criterion': 'entropy', 'max_depth': 10, 'min_samples_leaf': 10, 'min_samples_split': 2}\n",
      "0.707 (+/-0.009) for {'criterion': 'entropy', 'max_depth': 10, 'min_samples_leaf': 10, 'min_samples_split': 5}\n",
      "0.707 (+/-0.009) for {'criterion': 'entropy', 'max_depth': 10, 'min_samples_leaf': 10, 'min_samples_split': 10}\n",
      "0.706 (+/-0.009) for {'criterion': 'entropy', 'max_depth': 10, 'min_samples_leaf': 10, 'min_samples_split': 20}\n",
      "0.711 (+/-0.008) for {'criterion': 'entropy', 'max_depth': 10, 'min_samples_leaf': 20, 'min_samples_split': 2}\n",
      "0.712 (+/-0.007) for {'criterion': 'entropy', 'max_depth': 10, 'min_samples_leaf': 20, 'min_samples_split': 5}\n",
      "0.712 (+/-0.008) for {'criterion': 'entropy', 'max_depth': 10, 'min_samples_leaf': 20, 'min_samples_split': 10}\n",
      "0.712 (+/-0.007) for {'criterion': 'entropy', 'max_depth': 10, 'min_samples_leaf': 20, 'min_samples_split': 20}\n",
      "0.673 (+/-0.023) for {'criterion': 'entropy', 'max_depth': 15, 'min_samples_leaf': 1, 'min_samples_split': 2}\n",
      "0.674 (+/-0.026) for {'criterion': 'entropy', 'max_depth': 15, 'min_samples_leaf': 1, 'min_samples_split': 5}\n",
      "0.684 (+/-0.024) for {'criterion': 'entropy', 'max_depth': 15, 'min_samples_leaf': 1, 'min_samples_split': 10}\n",
      "0.702 (+/-0.024) for {'criterion': 'entropy', 'max_depth': 15, 'min_samples_leaf': 1, 'min_samples_split': 20}\n",
      "0.690 (+/-0.023) for {'criterion': 'entropy', 'max_depth': 15, 'min_samples_leaf': 5, 'min_samples_split': 2}\n",
      "0.690 (+/-0.020) for {'criterion': 'entropy', 'max_depth': 15, 'min_samples_leaf': 5, 'min_samples_split': 5}\n",
      "0.690 (+/-0.023) for {'criterion': 'entropy', 'max_depth': 15, 'min_samples_leaf': 5, 'min_samples_split': 10}\n",
      "0.705 (+/-0.024) for {'criterion': 'entropy', 'max_depth': 15, 'min_samples_leaf': 5, 'min_samples_split': 20}\n",
      "0.708 (+/-0.019) for {'criterion': 'entropy', 'max_depth': 15, 'min_samples_leaf': 10, 'min_samples_split': 2}\n",
      "0.708 (+/-0.017) for {'criterion': 'entropy', 'max_depth': 15, 'min_samples_leaf': 10, 'min_samples_split': 5}\n",
      "0.707 (+/-0.018) for {'criterion': 'entropy', 'max_depth': 15, 'min_samples_leaf': 10, 'min_samples_split': 10}\n",
      "0.708 (+/-0.019) for {'criterion': 'entropy', 'max_depth': 15, 'min_samples_leaf': 10, 'min_samples_split': 20}\n",
      "0.730 (+/-0.024) for {'criterion': 'entropy', 'max_depth': 15, 'min_samples_leaf': 20, 'min_samples_split': 2}\n",
      "0.730 (+/-0.024) for {'criterion': 'entropy', 'max_depth': 15, 'min_samples_leaf': 20, 'min_samples_split': 5}\n",
      "0.730 (+/-0.023) for {'criterion': 'entropy', 'max_depth': 15, 'min_samples_leaf': 20, 'min_samples_split': 10}\n",
      "0.729 (+/-0.024) for {'criterion': 'entropy', 'max_depth': 15, 'min_samples_leaf': 20, 'min_samples_split': 20}\n",
      "0.654 (+/-0.004) for {'criterion': 'entropy', 'max_depth': None, 'min_samples_leaf': 1, 'min_samples_split': 2}\n",
      "0.659 (+/-0.009) for {'criterion': 'entropy', 'max_depth': None, 'min_samples_leaf': 1, 'min_samples_split': 5}\n",
      "0.675 (+/-0.009) for {'criterion': 'entropy', 'max_depth': None, 'min_samples_leaf': 1, 'min_samples_split': 10}\n",
      "0.702 (+/-0.006) for {'criterion': 'entropy', 'max_depth': None, 'min_samples_leaf': 1, 'min_samples_split': 20}\n",
      "0.690 (+/-0.012) for {'criterion': 'entropy', 'max_depth': None, 'min_samples_leaf': 5, 'min_samples_split': 2}\n",
      "0.689 (+/-0.013) for {'criterion': 'entropy', 'max_depth': None, 'min_samples_leaf': 5, 'min_samples_split': 5}\n",
      "0.690 (+/-0.011) for {'criterion': 'entropy', 'max_depth': None, 'min_samples_leaf': 5, 'min_samples_split': 10}\n",
      "0.707 (+/-0.013) for {'criterion': 'entropy', 'max_depth': None, 'min_samples_leaf': 5, 'min_samples_split': 20}\n",
      "0.719 (+/-0.008) for {'criterion': 'entropy', 'max_depth': None, 'min_samples_leaf': 10, 'min_samples_split': 2}\n",
      "0.719 (+/-0.008) for {'criterion': 'entropy', 'max_depth': None, 'min_samples_leaf': 10, 'min_samples_split': 5}\n",
      "0.719 (+/-0.009) for {'criterion': 'entropy', 'max_depth': None, 'min_samples_leaf': 10, 'min_samples_split': 10}\n",
      "0.719 (+/-0.010) for {'criterion': 'entropy', 'max_depth': None, 'min_samples_leaf': 10, 'min_samples_split': 20}\n",
      "0.752 (+/-0.008) for {'criterion': 'entropy', 'max_depth': None, 'min_samples_leaf': 20, 'min_samples_split': 2}\n",
      "0.753 (+/-0.006) for {'criterion': 'entropy', 'max_depth': None, 'min_samples_leaf': 20, 'min_samples_split': 5}\n",
      "0.753 (+/-0.008) for {'criterion': 'entropy', 'max_depth': None, 'min_samples_leaf': 20, 'min_samples_split': 10}\n",
      "0.752 (+/-0.006) for {'criterion': 'entropy', 'max_depth': None, 'min_samples_leaf': 20, 'min_samples_split': 20}\n",
      "-> Report\n",
      "\n",
      "              precision    recall  f1-score   support\n",
      "\n",
      "           0       0.93      0.96      0.95     47790\n",
      "           1       0.49      0.32      0.39      5225\n",
      "\n",
      "    accuracy                           0.90     53015\n",
      "   macro avg       0.71      0.64      0.67     53015\n",
      "weighted avg       0.89      0.90      0.89     53015\n",
      "\n",
      "\n",
      "\n",
      "**** Matrice di Confusione *****\n",
      " True negative: 46057 False negative: 3531\n",
      " True positive: 1694 False positive: 1733\n",
      "...........RESULTS FOR TRAINING.........\n",
      "........................................\n",
      "0.533 (+/-0.007) for {'criterion': 'gini', 'max_depth': 2, 'min_samples_leaf': 1, 'min_samples_split': 2}\n",
      "0.533 (+/-0.007) for {'criterion': 'gini', 'max_depth': 2, 'min_samples_leaf': 1, 'min_samples_split': 5}\n",
      "0.533 (+/-0.007) for {'criterion': 'gini', 'max_depth': 2, 'min_samples_leaf': 1, 'min_samples_split': 10}\n",
      "0.533 (+/-0.007) for {'criterion': 'gini', 'max_depth': 2, 'min_samples_leaf': 1, 'min_samples_split': 20}\n",
      "0.533 (+/-0.007) for {'criterion': 'gini', 'max_depth': 2, 'min_samples_leaf': 5, 'min_samples_split': 2}\n",
      "0.533 (+/-0.007) for {'criterion': 'gini', 'max_depth': 2, 'min_samples_leaf': 5, 'min_samples_split': 5}\n",
      "0.533 (+/-0.007) for {'criterion': 'gini', 'max_depth': 2, 'min_samples_leaf': 5, 'min_samples_split': 10}\n",
      "0.533 (+/-0.007) for {'criterion': 'gini', 'max_depth': 2, 'min_samples_leaf': 5, 'min_samples_split': 20}\n",
      "0.533 (+/-0.007) for {'criterion': 'gini', 'max_depth': 2, 'min_samples_leaf': 10, 'min_samples_split': 2}\n",
      "0.533 (+/-0.007) for {'criterion': 'gini', 'max_depth': 2, 'min_samples_leaf': 10, 'min_samples_split': 5}\n",
      "0.533 (+/-0.007) for {'criterion': 'gini', 'max_depth': 2, 'min_samples_leaf': 10, 'min_samples_split': 10}\n",
      "0.533 (+/-0.007) for {'criterion': 'gini', 'max_depth': 2, 'min_samples_leaf': 10, 'min_samples_split': 20}\n",
      "0.533 (+/-0.007) for {'criterion': 'gini', 'max_depth': 2, 'min_samples_leaf': 20, 'min_samples_split': 2}\n",
      "0.533 (+/-0.007) for {'criterion': 'gini', 'max_depth': 2, 'min_samples_leaf': 20, 'min_samples_split': 5}\n",
      "0.533 (+/-0.007) for {'criterion': 'gini', 'max_depth': 2, 'min_samples_leaf': 20, 'min_samples_split': 10}\n",
      "0.533 (+/-0.007) for {'criterion': 'gini', 'max_depth': 2, 'min_samples_leaf': 20, 'min_samples_split': 20}\n",
      "0.605 (+/-0.002) for {'criterion': 'gini', 'max_depth': 5, 'min_samples_leaf': 1, 'min_samples_split': 2}\n",
      "0.605 (+/-0.002) for {'criterion': 'gini', 'max_depth': 5, 'min_samples_leaf': 1, 'min_samples_split': 5}\n",
      "0.605 (+/-0.002) for {'criterion': 'gini', 'max_depth': 5, 'min_samples_leaf': 1, 'min_samples_split': 10}\n",
      "0.605 (+/-0.002) for {'criterion': 'gini', 'max_depth': 5, 'min_samples_leaf': 1, 'min_samples_split': 20}\n",
      "0.605 (+/-0.002) for {'criterion': 'gini', 'max_depth': 5, 'min_samples_leaf': 5, 'min_samples_split': 2}\n",
      "0.605 (+/-0.002) for {'criterion': 'gini', 'max_depth': 5, 'min_samples_leaf': 5, 'min_samples_split': 5}\n",
      "0.605 (+/-0.002) for {'criterion': 'gini', 'max_depth': 5, 'min_samples_leaf': 5, 'min_samples_split': 10}\n",
      "0.605 (+/-0.002) for {'criterion': 'gini', 'max_depth': 5, 'min_samples_leaf': 5, 'min_samples_split': 20}\n",
      "0.605 (+/-0.002) for {'criterion': 'gini', 'max_depth': 5, 'min_samples_leaf': 10, 'min_samples_split': 2}\n",
      "0.605 (+/-0.002) for {'criterion': 'gini', 'max_depth': 5, 'min_samples_leaf': 10, 'min_samples_split': 5}\n",
      "0.605 (+/-0.002) for {'criterion': 'gini', 'max_depth': 5, 'min_samples_leaf': 10, 'min_samples_split': 10}\n",
      "0.605 (+/-0.002) for {'criterion': 'gini', 'max_depth': 5, 'min_samples_leaf': 10, 'min_samples_split': 20}\n",
      "0.604 (+/-0.002) for {'criterion': 'gini', 'max_depth': 5, 'min_samples_leaf': 20, 'min_samples_split': 2}\n",
      "0.604 (+/-0.002) for {'criterion': 'gini', 'max_depth': 5, 'min_samples_leaf': 20, 'min_samples_split': 5}\n",
      "0.605 (+/-0.002) for {'criterion': 'gini', 'max_depth': 5, 'min_samples_leaf': 20, 'min_samples_split': 10}\n",
      "0.605 (+/-0.002) for {'criterion': 'gini', 'max_depth': 5, 'min_samples_leaf': 20, 'min_samples_split': 20}\n",
      "0.683 (+/-0.018) for {'criterion': 'gini', 'max_depth': 10, 'min_samples_leaf': 1, 'min_samples_split': 2}\n",
      "0.683 (+/-0.018) for {'criterion': 'gini', 'max_depth': 10, 'min_samples_leaf': 1, 'min_samples_split': 5}\n",
      "0.682 (+/-0.018) for {'criterion': 'gini', 'max_depth': 10, 'min_samples_leaf': 1, 'min_samples_split': 10}\n",
      "0.682 (+/-0.018) for {'criterion': 'gini', 'max_depth': 10, 'min_samples_leaf': 1, 'min_samples_split': 20}\n",
      "0.682 (+/-0.018) for {'criterion': 'gini', 'max_depth': 10, 'min_samples_leaf': 5, 'min_samples_split': 2}\n",
      "0.682 (+/-0.018) for {'criterion': 'gini', 'max_depth': 10, 'min_samples_leaf': 5, 'min_samples_split': 5}\n",
      "0.682 (+/-0.018) for {'criterion': 'gini', 'max_depth': 10, 'min_samples_leaf': 5, 'min_samples_split': 10}\n",
      "0.682 (+/-0.018) for {'criterion': 'gini', 'max_depth': 10, 'min_samples_leaf': 5, 'min_samples_split': 20}\n",
      "0.682 (+/-0.018) for {'criterion': 'gini', 'max_depth': 10, 'min_samples_leaf': 10, 'min_samples_split': 2}\n",
      "0.682 (+/-0.019) for {'criterion': 'gini', 'max_depth': 10, 'min_samples_leaf': 10, 'min_samples_split': 5}\n",
      "0.682 (+/-0.018) for {'criterion': 'gini', 'max_depth': 10, 'min_samples_leaf': 10, 'min_samples_split': 10}\n",
      "0.682 (+/-0.018) for {'criterion': 'gini', 'max_depth': 10, 'min_samples_leaf': 10, 'min_samples_split': 20}\n",
      "0.681 (+/-0.018) for {'criterion': 'gini', 'max_depth': 10, 'min_samples_leaf': 20, 'min_samples_split': 2}\n",
      "0.681 (+/-0.018) for {'criterion': 'gini', 'max_depth': 10, 'min_samples_leaf': 20, 'min_samples_split': 5}\n",
      "0.681 (+/-0.018) for {'criterion': 'gini', 'max_depth': 10, 'min_samples_leaf': 20, 'min_samples_split': 10}\n",
      "0.681 (+/-0.018) for {'criterion': 'gini', 'max_depth': 10, 'min_samples_leaf': 20, 'min_samples_split': 20}\n",
      "0.750 (+/-0.021) for {'criterion': 'gini', 'max_depth': 15, 'min_samples_leaf': 1, 'min_samples_split': 2}\n",
      "0.749 (+/-0.021) for {'criterion': 'gini', 'max_depth': 15, 'min_samples_leaf': 1, 'min_samples_split': 5}\n",
      "0.748 (+/-0.021) for {'criterion': 'gini', 'max_depth': 15, 'min_samples_leaf': 1, 'min_samples_split': 10}\n",
      "0.745 (+/-0.022) for {'criterion': 'gini', 'max_depth': 15, 'min_samples_leaf': 1, 'min_samples_split': 20}\n",
      "0.750 (+/-0.021) for {'criterion': 'gini', 'max_depth': 15, 'min_samples_leaf': 5, 'min_samples_split': 2}\n",
      "0.750 (+/-0.021) for {'criterion': 'gini', 'max_depth': 15, 'min_samples_leaf': 5, 'min_samples_split': 5}\n",
      "0.750 (+/-0.021) for {'criterion': 'gini', 'max_depth': 15, 'min_samples_leaf': 5, 'min_samples_split': 10}\n",
      "0.748 (+/-0.021) for {'criterion': 'gini', 'max_depth': 15, 'min_samples_leaf': 5, 'min_samples_split': 20}\n",
      "0.749 (+/-0.021) for {'criterion': 'gini', 'max_depth': 15, 'min_samples_leaf': 10, 'min_samples_split': 2}\n",
      "0.749 (+/-0.021) for {'criterion': 'gini', 'max_depth': 15, 'min_samples_leaf': 10, 'min_samples_split': 5}\n",
      "0.749 (+/-0.021) for {'criterion': 'gini', 'max_depth': 15, 'min_samples_leaf': 10, 'min_samples_split': 10}\n",
      "0.749 (+/-0.021) for {'criterion': 'gini', 'max_depth': 15, 'min_samples_leaf': 10, 'min_samples_split': 20}\n",
      "0.748 (+/-0.020) for {'criterion': 'gini', 'max_depth': 15, 'min_samples_leaf': 20, 'min_samples_split': 2}\n",
      "0.748 (+/-0.020) for {'criterion': 'gini', 'max_depth': 15, 'min_samples_leaf': 20, 'min_samples_split': 5}\n",
      "0.748 (+/-0.020) for {'criterion': 'gini', 'max_depth': 15, 'min_samples_leaf': 20, 'min_samples_split': 10}\n",
      "0.748 (+/-0.020) for {'criterion': 'gini', 'max_depth': 15, 'min_samples_leaf': 20, 'min_samples_split': 20}\n",
      "1.000 (+/-0.000) for {'criterion': 'gini', 'max_depth': None, 'min_samples_leaf': 1, 'min_samples_split': 2}\n",
      "0.998 (+/-0.000) for {'criterion': 'gini', 'max_depth': None, 'min_samples_leaf': 1, 'min_samples_split': 5}\n",
      "0.992 (+/-0.000) for {'criterion': 'gini', 'max_depth': None, 'min_samples_leaf': 1, 'min_samples_split': 10}\n",
      "0.984 (+/-0.001) for {'criterion': 'gini', 'max_depth': None, 'min_samples_leaf': 1, 'min_samples_split': 20}\n",
      "0.986 (+/-0.001) for {'criterion': 'gini', 'max_depth': None, 'min_samples_leaf': 5, 'min_samples_split': 2}\n",
      "0.986 (+/-0.001) for {'criterion': 'gini', 'max_depth': None, 'min_samples_leaf': 5, 'min_samples_split': 5}\n",
      "0.986 (+/-0.001) for {'criterion': 'gini', 'max_depth': None, 'min_samples_leaf': 5, 'min_samples_split': 10}\n",
      "0.976 (+/-0.001) for {'criterion': 'gini', 'max_depth': None, 'min_samples_leaf': 5, 'min_samples_split': 20}\n",
      "0.970 (+/-0.001) for {'criterion': 'gini', 'max_depth': None, 'min_samples_leaf': 10, 'min_samples_split': 2}\n",
      "0.970 (+/-0.002) for {'criterion': 'gini', 'max_depth': None, 'min_samples_leaf': 10, 'min_samples_split': 5}\n",
      "0.970 (+/-0.001) for {'criterion': 'gini', 'max_depth': None, 'min_samples_leaf': 10, 'min_samples_split': 10}\n",
      "0.970 (+/-0.001) for {'criterion': 'gini', 'max_depth': None, 'min_samples_leaf': 10, 'min_samples_split': 20}\n",
      "0.948 (+/-0.001) for {'criterion': 'gini', 'max_depth': None, 'min_samples_leaf': 20, 'min_samples_split': 2}\n",
      "0.948 (+/-0.001) for {'criterion': 'gini', 'max_depth': None, 'min_samples_leaf': 20, 'min_samples_split': 5}\n",
      "0.948 (+/-0.001) for {'criterion': 'gini', 'max_depth': None, 'min_samples_leaf': 20, 'min_samples_split': 10}\n",
      "0.948 (+/-0.001) for {'criterion': 'gini', 'max_depth': None, 'min_samples_leaf': 20, 'min_samples_split': 20}\n",
      "0.602 (+/-0.011) for {'criterion': 'entropy', 'max_depth': 2, 'min_samples_leaf': 1, 'min_samples_split': 2}\n",
      "0.602 (+/-0.011) for {'criterion': 'entropy', 'max_depth': 2, 'min_samples_leaf': 1, 'min_samples_split': 5}\n",
      "0.602 (+/-0.011) for {'criterion': 'entropy', 'max_depth': 2, 'min_samples_leaf': 1, 'min_samples_split': 10}\n",
      "0.602 (+/-0.011) for {'criterion': 'entropy', 'max_depth': 2, 'min_samples_leaf': 1, 'min_samples_split': 20}\n",
      "0.602 (+/-0.011) for {'criterion': 'entropy', 'max_depth': 2, 'min_samples_leaf': 5, 'min_samples_split': 2}\n",
      "0.602 (+/-0.011) for {'criterion': 'entropy', 'max_depth': 2, 'min_samples_leaf': 5, 'min_samples_split': 5}\n",
      "0.602 (+/-0.011) for {'criterion': 'entropy', 'max_depth': 2, 'min_samples_leaf': 5, 'min_samples_split': 10}\n",
      "0.602 (+/-0.011) for {'criterion': 'entropy', 'max_depth': 2, 'min_samples_leaf': 5, 'min_samples_split': 20}\n",
      "0.602 (+/-0.011) for {'criterion': 'entropy', 'max_depth': 2, 'min_samples_leaf': 10, 'min_samples_split': 2}\n",
      "0.602 (+/-0.011) for {'criterion': 'entropy', 'max_depth': 2, 'min_samples_leaf': 10, 'min_samples_split': 5}\n",
      "0.602 (+/-0.011) for {'criterion': 'entropy', 'max_depth': 2, 'min_samples_leaf': 10, 'min_samples_split': 10}\n",
      "0.602 (+/-0.011) for {'criterion': 'entropy', 'max_depth': 2, 'min_samples_leaf': 10, 'min_samples_split': 20}\n",
      "0.602 (+/-0.011) for {'criterion': 'entropy', 'max_depth': 2, 'min_samples_leaf': 20, 'min_samples_split': 2}\n",
      "0.602 (+/-0.011) for {'criterion': 'entropy', 'max_depth': 2, 'min_samples_leaf': 20, 'min_samples_split': 5}\n",
      "0.602 (+/-0.011) for {'criterion': 'entropy', 'max_depth': 2, 'min_samples_leaf': 20, 'min_samples_split': 10}\n",
      "0.602 (+/-0.011) for {'criterion': 'entropy', 'max_depth': 2, 'min_samples_leaf': 20, 'min_samples_split': 20}\n",
      "0.650 (+/-0.018) for {'criterion': 'entropy', 'max_depth': 5, 'min_samples_leaf': 1, 'min_samples_split': 2}\n",
      "0.650 (+/-0.018) for {'criterion': 'entropy', 'max_depth': 5, 'min_samples_leaf': 1, 'min_samples_split': 5}\n",
      "0.650 (+/-0.018) for {'criterion': 'entropy', 'max_depth': 5, 'min_samples_leaf': 1, 'min_samples_split': 10}\n",
      "0.650 (+/-0.018) for {'criterion': 'entropy', 'max_depth': 5, 'min_samples_leaf': 1, 'min_samples_split': 20}\n",
      "0.651 (+/-0.018) for {'criterion': 'entropy', 'max_depth': 5, 'min_samples_leaf': 5, 'min_samples_split': 2}\n",
      "0.651 (+/-0.018) for {'criterion': 'entropy', 'max_depth': 5, 'min_samples_leaf': 5, 'min_samples_split': 5}\n",
      "0.651 (+/-0.018) for {'criterion': 'entropy', 'max_depth': 5, 'min_samples_leaf': 5, 'min_samples_split': 10}\n",
      "0.651 (+/-0.018) for {'criterion': 'entropy', 'max_depth': 5, 'min_samples_leaf': 5, 'min_samples_split': 20}\n",
      "0.651 (+/-0.018) for {'criterion': 'entropy', 'max_depth': 5, 'min_samples_leaf': 10, 'min_samples_split': 2}\n",
      "0.651 (+/-0.018) for {'criterion': 'entropy', 'max_depth': 5, 'min_samples_leaf': 10, 'min_samples_split': 5}\n",
      "0.651 (+/-0.018) for {'criterion': 'entropy', 'max_depth': 5, 'min_samples_leaf': 10, 'min_samples_split': 10}\n",
      "0.651 (+/-0.018) for {'criterion': 'entropy', 'max_depth': 5, 'min_samples_leaf': 10, 'min_samples_split': 20}\n",
      "0.651 (+/-0.018) for {'criterion': 'entropy', 'max_depth': 5, 'min_samples_leaf': 20, 'min_samples_split': 2}\n",
      "0.651 (+/-0.018) for {'criterion': 'entropy', 'max_depth': 5, 'min_samples_leaf': 20, 'min_samples_split': 5}\n",
      "0.651 (+/-0.018) for {'criterion': 'entropy', 'max_depth': 5, 'min_samples_leaf': 20, 'min_samples_split': 10}\n",
      "0.651 (+/-0.018) for {'criterion': 'entropy', 'max_depth': 5, 'min_samples_leaf': 20, 'min_samples_split': 20}\n",
      "0.750 (+/-0.014) for {'criterion': 'entropy', 'max_depth': 10, 'min_samples_leaf': 1, 'min_samples_split': 2}\n",
      "0.750 (+/-0.014) for {'criterion': 'entropy', 'max_depth': 10, 'min_samples_leaf': 1, 'min_samples_split': 5}\n",
      "0.750 (+/-0.014) for {'criterion': 'entropy', 'max_depth': 10, 'min_samples_leaf': 1, 'min_samples_split': 10}\n",
      "0.749 (+/-0.014) for {'criterion': 'entropy', 'max_depth': 10, 'min_samples_leaf': 1, 'min_samples_split': 20}\n",
      "0.750 (+/-0.014) for {'criterion': 'entropy', 'max_depth': 10, 'min_samples_leaf': 5, 'min_samples_split': 2}\n",
      "0.750 (+/-0.014) for {'criterion': 'entropy', 'max_depth': 10, 'min_samples_leaf': 5, 'min_samples_split': 5}\n",
      "0.750 (+/-0.014) for {'criterion': 'entropy', 'max_depth': 10, 'min_samples_leaf': 5, 'min_samples_split': 10}\n",
      "0.749 (+/-0.014) for {'criterion': 'entropy', 'max_depth': 10, 'min_samples_leaf': 5, 'min_samples_split': 20}\n",
      "0.750 (+/-0.014) for {'criterion': 'entropy', 'max_depth': 10, 'min_samples_leaf': 10, 'min_samples_split': 2}\n",
      "0.750 (+/-0.014) for {'criterion': 'entropy', 'max_depth': 10, 'min_samples_leaf': 10, 'min_samples_split': 5}\n",
      "0.750 (+/-0.013) for {'criterion': 'entropy', 'max_depth': 10, 'min_samples_leaf': 10, 'min_samples_split': 10}\n",
      "0.750 (+/-0.014) for {'criterion': 'entropy', 'max_depth': 10, 'min_samples_leaf': 10, 'min_samples_split': 20}\n",
      "0.747 (+/-0.013) for {'criterion': 'entropy', 'max_depth': 10, 'min_samples_leaf': 20, 'min_samples_split': 2}\n",
      "0.747 (+/-0.013) for {'criterion': 'entropy', 'max_depth': 10, 'min_samples_leaf': 20, 'min_samples_split': 5}\n",
      "0.747 (+/-0.013) for {'criterion': 'entropy', 'max_depth': 10, 'min_samples_leaf': 20, 'min_samples_split': 10}\n",
      "0.747 (+/-0.013) for {'criterion': 'entropy', 'max_depth': 10, 'min_samples_leaf': 20, 'min_samples_split': 20}\n",
      "0.846 (+/-0.028) for {'criterion': 'entropy', 'max_depth': 15, 'min_samples_leaf': 1, 'min_samples_split': 2}\n",
      "0.845 (+/-0.028) for {'criterion': 'entropy', 'max_depth': 15, 'min_samples_leaf': 1, 'min_samples_split': 5}\n",
      "0.843 (+/-0.028) for {'criterion': 'entropy', 'max_depth': 15, 'min_samples_leaf': 1, 'min_samples_split': 10}\n",
      "0.838 (+/-0.028) for {'criterion': 'entropy', 'max_depth': 15, 'min_samples_leaf': 1, 'min_samples_split': 20}\n",
      "0.842 (+/-0.029) for {'criterion': 'entropy', 'max_depth': 15, 'min_samples_leaf': 5, 'min_samples_split': 2}\n",
      "0.842 (+/-0.029) for {'criterion': 'entropy', 'max_depth': 15, 'min_samples_leaf': 5, 'min_samples_split': 5}\n",
      "0.842 (+/-0.029) for {'criterion': 'entropy', 'max_depth': 15, 'min_samples_leaf': 5, 'min_samples_split': 10}\n",
      "0.839 (+/-0.029) for {'criterion': 'entropy', 'max_depth': 15, 'min_samples_leaf': 5, 'min_samples_split': 20}\n",
      "0.838 (+/-0.030) for {'criterion': 'entropy', 'max_depth': 15, 'min_samples_leaf': 10, 'min_samples_split': 2}\n",
      "0.838 (+/-0.030) for {'criterion': 'entropy', 'max_depth': 15, 'min_samples_leaf': 10, 'min_samples_split': 5}\n",
      "0.838 (+/-0.030) for {'criterion': 'entropy', 'max_depth': 15, 'min_samples_leaf': 10, 'min_samples_split': 10}\n",
      "0.837 (+/-0.030) for {'criterion': 'entropy', 'max_depth': 15, 'min_samples_leaf': 10, 'min_samples_split': 20}\n",
      "0.829 (+/-0.029) for {'criterion': 'entropy', 'max_depth': 15, 'min_samples_leaf': 20, 'min_samples_split': 2}\n",
      "0.829 (+/-0.029) for {'criterion': 'entropy', 'max_depth': 15, 'min_samples_leaf': 20, 'min_samples_split': 5}\n",
      "0.829 (+/-0.029) for {'criterion': 'entropy', 'max_depth': 15, 'min_samples_leaf': 20, 'min_samples_split': 10}\n",
      "0.829 (+/-0.029) for {'criterion': 'entropy', 'max_depth': 15, 'min_samples_leaf': 20, 'min_samples_split': 20}\n",
      "1.000 (+/-0.000) for {'criterion': 'entropy', 'max_depth': None, 'min_samples_leaf': 1, 'min_samples_split': 2}\n",
      "0.998 (+/-0.000) for {'criterion': 'entropy', 'max_depth': None, 'min_samples_leaf': 1, 'min_samples_split': 5}\n",
      "0.994 (+/-0.000) for {'criterion': 'entropy', 'max_depth': None, 'min_samples_leaf': 1, 'min_samples_split': 10}\n",
      "0.986 (+/-0.001) for {'criterion': 'entropy', 'max_depth': None, 'min_samples_leaf': 1, 'min_samples_split': 20}\n",
      "0.991 (+/-0.000) for {'criterion': 'entropy', 'max_depth': None, 'min_samples_leaf': 5, 'min_samples_split': 2}\n",
      "0.991 (+/-0.000) for {'criterion': 'entropy', 'max_depth': None, 'min_samples_leaf': 5, 'min_samples_split': 5}\n",
      "0.991 (+/-0.000) for {'criterion': 'entropy', 'max_depth': None, 'min_samples_leaf': 5, 'min_samples_split': 10}\n",
      "0.983 (+/-0.001) for {'criterion': 'entropy', 'max_depth': None, 'min_samples_leaf': 5, 'min_samples_split': 20}\n",
      "0.978 (+/-0.000) for {'criterion': 'entropy', 'max_depth': None, 'min_samples_leaf': 10, 'min_samples_split': 2}\n",
      "0.978 (+/-0.000) for {'criterion': 'entropy', 'max_depth': None, 'min_samples_leaf': 10, 'min_samples_split': 5}\n",
      "0.978 (+/-0.000) for {'criterion': 'entropy', 'max_depth': None, 'min_samples_leaf': 10, 'min_samples_split': 10}\n",
      "0.978 (+/-0.000) for {'criterion': 'entropy', 'max_depth': None, 'min_samples_leaf': 10, 'min_samples_split': 20}\n",
      "0.958 (+/-0.001) for {'criterion': 'entropy', 'max_depth': None, 'min_samples_leaf': 20, 'min_samples_split': 2}\n",
      "0.958 (+/-0.001) for {'criterion': 'entropy', 'max_depth': None, 'min_samples_leaf': 20, 'min_samples_split': 5}\n",
      "0.958 (+/-0.001) for {'criterion': 'entropy', 'max_depth': None, 'min_samples_leaf': 20, 'min_samples_split': 10}\n",
      "0.958 (+/-0.001) for {'criterion': 'entropy', 'max_depth': None, 'min_samples_leaf': 20, 'min_samples_split': 20}\n",
      "____________________________________________\n"
     ]
    }
   ],
   "source": [
    "optimals_597 = builtGridSearch(xtrain_597, xtest_597, ytrain_597, ytest_597, tuned_parameters, scores)"
   ]
  },
  {
   "cell_type": "code",
   "execution_count": 43,
   "metadata": {},
   "outputs": [
    {
     "data": {
      "text/plain": [
       "{'roc_auc': {'criterion': 'entropy',\n",
       "  'max_depth': None,\n",
       "  'min_samples_leaf': 20,\n",
       "  'min_samples_split': 10}}"
      ]
     },
     "execution_count": 43,
     "metadata": {},
     "output_type": "execute_result"
    }
   ],
   "source": [
    "optimals_597"
   ]
  },
  {
   "cell_type": "code",
   "execution_count": 18,
   "metadata": {},
   "outputs": [],
   "source": [
    "model_597 = tree.DecisionTreeClassifier(criterion = \"entropy\", max_depth = None, min_samples_leaf = 20, min_samples_split = 10)\n",
    "model_597.fit(xtrain_597, ytrain_597)\n",
    "y_pred_597 = model_597.predict(xtest_597)"
   ]
  },
  {
   "cell_type": "code",
   "execution_count": 19,
   "metadata": {},
   "outputs": [],
   "source": [
    "y_score_597 = model_597.predict_proba(xtest_597)\n",
    "fpr0, tpr0, _ = roc_curve(ytest_597, y_score_597[:, 1])\n",
    "roc_auc0_597 = auc(fpr0, tpr0)"
   ]
  },
  {
   "cell_type": "code",
   "execution_count": 20,
   "metadata": {},
   "outputs": [
    {
     "data": {
      "image/png": "[encoded data removed]",
      "text/plain": [
       "<Figure size 432x288 with 1 Axes>"
      ]
     },
     "metadata": {
      "needs_background": "light"
     },
     "output_type": "display_data"
    }
   ],
   "source": [
    "plt.plot(fpr0, tpr0, color='darkorange', lw=3, label='$AUC_0$ = %.3f' % (roc_auc0_597))\n",
    "\n",
    "plt.plot([0, 1], [0, 1], color='navy', lw=2, linestyle='--')\n",
    "plt.xlim([0.0, 1.0])\n",
    "plt.ylim([0.0, 1.05])\n",
    "plt.xlabel('False Positive Rate', fontsize=16)\n",
    "plt.ylabel('True Positive Rate', fontsize=16)\n",
    "plt.title('ROC curve', fontsize=16)\n",
    "plt.legend(loc=\"lower right\", fontsize=14, frameon=False)\n",
    "plt.tick_params(axis='both', which='major', labelsize=16)\n",
    "plt.show()"
   ]
  },
  {
   "cell_type": "markdown",
   "metadata": {},
   "source": [
    "### 1 - DecisionTree_Bilanciato"
   ]
  },
  {
   "cell_type": "code",
   "execution_count": 9,
   "metadata": {},
   "outputs": [
    {
     "data": {
      "text/plain": [
       "141883"
      ]
     },
     "execution_count": 9,
     "metadata": {},
     "output_type": "execute_result"
    }
   ],
   "source": [
    "remove_n = data_597['link'].value_counts()[0] - data_597['link'].value_counts()[1]\n",
    "remove_n"
   ]
  },
  {
   "cell_type": "code",
   "execution_count": 11,
   "metadata": {},
   "outputs": [
    {
     "name": "stdout",
     "output_type": "stream",
     "text": [
      "1    17416\n",
      "0    17416\n",
      "Name: link, dtype: int64\n"
     ]
    }
   ],
   "source": [
    "df = data_597.copy()\n",
    "drop_indices = np.random.choice(df[df[\"link\"]==0].index, remove_n, replace=False)\n",
    "df_subset = df.drop(drop_indices)\n",
    "print(df_subset['link'].value_counts())\n",
    "\n",
    "X_sbset_597 = []\n",
    "for i in range(df_subset.shape[0]):\n",
    "    first = df_subset.iloc[i][0]\n",
    "    second = df_subset.iloc[i][1]\n",
    "    mixed = np.concatenate((first, second), 0)\n",
    "    X_sbset_597.append(mixed)\n",
    "    \n",
    "    \n",
    "xtrain_sb_597, xtest_sb_597, ytrain_sb_597, ytest_sb_597 = train_test_split(np.asarray(X_sbset_597), df_subset[\"link\"], \n",
    "                                                test_size = 0.3, \n",
    "                                                random_state = 35,\n",
    "                                                stratify=df_subset[\"link\"])"
   ]
  },
  {
   "cell_type": "code",
   "execution_count": null,
   "metadata": {},
   "outputs": [],
   "source": [
    "optimals_sb_597 = builtGridSearch(xtrain_sb_597, xtest_sb_597, ytrain_sb_597, ytest_sb_597, tuned_parameters, scores)"
   ]
  },
  {
   "cell_type": "code",
   "execution_count": 21,
   "metadata": {},
   "outputs": [
    {
     "data": {
      "text/plain": [
       "DecisionTreeClassifier(min_samples_leaf=20, min_samples_split=10)"
      ]
     },
     "execution_count": 21,
     "metadata": {},
     "output_type": "execute_result"
    }
   ],
   "source": [
    "model_sb_597 = tree.DecisionTreeClassifier(criterion = \"gini\", max_depth = None, min_samples_leaf = 20, min_samples_split = 10)\n",
    "model_sb_597.fit(xtrain_sb_597, ytrain_sb_597)"
   ]
  },
  {
   "cell_type": "code",
   "execution_count": 22,
   "metadata": {},
   "outputs": [],
   "source": [
    "y_score_sb_597 = model_sb_597.predict_proba(xtest_sb_597)\n",
    "fpr0, tpr0, _ = roc_curve(ytest_sb_597, y_score_sb_597[:, 1])\n",
    "roc_auc0_dt_597_sb = auc(fpr0, tpr0)"
   ]
  },
  {
   "cell_type": "code",
   "execution_count": 23,
   "metadata": {
    "scrolled": true
   },
   "outputs": [
    {
     "data": {
      "image/png": "[encoded data removed]",
      "text/plain": [
       "<Figure size 432x288 with 1 Axes>"
      ]
     },
     "metadata": {
      "needs_background": "light"
     },
     "output_type": "display_data"
    }
   ],
   "source": [
    "plt.plot(fpr0, tpr0, color='darkorange', lw=3, label='$AUC_0$ = %.3f' % (roc_auc0_dt_597_sb))\n",
    "plt.plot([0, 1], [0, 1], color='navy', lw=2, linestyle='--')\n",
    "plt.xlim([0.0, 1.0])\n",
    "plt.ylim([0.0, 1.05])\n",
    "plt.xlabel('False Positive Rate', fontsize=16)\n",
    "plt.ylabel('True Positive Rate', fontsize=16)\n",
    "plt.title('ROC curve', fontsize=16)\n",
    "plt.legend(loc=\"lower right\", fontsize=14, frameon=False)\n",
    "plt.tick_params(axis='both', which='major', labelsize=16)\n",
    "plt.show()"
   ]
  },
  {
   "cell_type": "markdown",
   "metadata": {},
   "source": [
    "### 2 - Regressione logistica"
   ]
  },
  {
   "cell_type": "code",
   "execution_count": 61,
   "metadata": {},
   "outputs": [],
   "source": [
    "lr = LogisticRegression()\n",
    "lr.fit(xtrain_597, ytrain_597)\n",
    "predictions = lr.predict_proba(xtest_597)"
   ]
  },
  {
   "cell_type": "code",
   "execution_count": 62,
   "metadata": {},
   "outputs": [
    {
     "name": "stdout",
     "output_type": "stream",
     "text": [
      "0.6910504349671759\n"
     ]
    }
   ],
   "source": [
    "y_score = lr.predict_proba(xtest_597)\n",
    "fpr0, tpr0, _ = roc_curve(ytest_597, y_score[:, 1])\n",
    "roc_auc0 = auc(fpr0, tpr0)\n",
    "print(roc_auc0)"
   ]
  },
  {
   "cell_type": "code",
   "execution_count": 63,
   "metadata": {},
   "outputs": [
    {
     "data": {
      "image/png": "[encoded data removed]",
      "text/plain": [
       "<Figure size 432x288 with 1 Axes>"
      ]
     },
     "metadata": {
      "needs_background": "light"
     },
     "output_type": "display_data"
    }
   ],
   "source": [
    "plt.plot(fpr0, tpr0, color='darkorange', lw=3, label='$AUC_0$ = %.3f' % (roc_auc0))\n",
    "\n",
    "plt.plot([0, 1], [0, 1], color='navy', lw=2, linestyle='--')\n",
    "plt.xlim([0.0, 1.0])\n",
    "plt.ylim([0.0, 1.05])\n",
    "plt.xlabel('False Positive Rate', fontsize=16)\n",
    "plt.ylabel('True Positive Rate', fontsize=16)\n",
    "plt.title('ROC curve', fontsize=16)\n",
    "plt.legend(loc=\"lower right\", fontsize=14, frameon=False)\n",
    "plt.tick_params(axis='both', which='major', labelsize=16)\n",
    "plt.show()"
   ]
  },
  {
   "cell_type": "markdown",
   "metadata": {},
   "source": [
    "### 2 - Regressione Logistica_Bilanciata"
   ]
  },
  {
   "cell_type": "code",
   "execution_count": 64,
   "metadata": {},
   "outputs": [
    {
     "data": {
      "text/plain": [
       "LogisticRegression()"
      ]
     },
     "execution_count": 64,
     "metadata": {},
     "output_type": "execute_result"
    }
   ],
   "source": [
    "lr = LogisticRegression()\n",
    "lr.fit(xtrain_sb_597, ytrain_sb_597)"
   ]
  },
  {
   "cell_type": "code",
   "execution_count": 65,
   "metadata": {},
   "outputs": [
    {
     "name": "stdout",
     "output_type": "stream",
     "text": [
      "0.677879718870905\n"
     ]
    }
   ],
   "source": [
    "y_score = lr.predict_proba(xtest_sb_597)\n",
    "fpr0, tpr0, _ = roc_curve(ytest_sb_597, y_score[:, 1])\n",
    "roc_auc0 = auc(fpr0, tpr0)\n",
    "print(roc_auc0)"
   ]
  },
  {
   "cell_type": "code",
   "execution_count": 66,
   "metadata": {},
   "outputs": [
    {
     "data": {
      "image/png": "[encoded data removed]",
      "text/plain": [
       "<Figure size 432x288 with 1 Axes>"
      ]
     },
     "metadata": {
      "needs_background": "light"
     },
     "output_type": "display_data"
    }
   ],
   "source": [
    "plt.plot(fpr0, tpr0, color='darkorange', lw=3, label='$AUC_0$ = %.3f' % (roc_auc0))\n",
    "\n",
    "plt.plot([0, 1], [0, 1], color='navy', lw=2, linestyle='--')\n",
    "plt.xlim([0.0, 1.0])\n",
    "plt.ylim([0.0, 1.05])\n",
    "plt.xlabel('False Positive Rate', fontsize=16)\n",
    "plt.ylabel('True Positive Rate', fontsize=16)\n",
    "plt.title('ROC curve', fontsize=16)\n",
    "plt.legend(loc=\"lower right\", fontsize=14, frameon=False)\n",
    "plt.tick_params(axis='both', which='major', labelsize=16)\n",
    "plt.show()"
   ]
  },
  {
   "cell_type": "markdown",
   "metadata": {},
   "source": [
    "### 3 - LGBM"
   ]
  },
  {
   "cell_type": "code",
   "execution_count": 33,
   "metadata": {},
   "outputs": [],
   "source": [
    "new_xtrain_597, xval_597, new_ytrain_597, yval_597 = train_test_split(xtrain_597, ytrain_597, \n",
    "                                                test_size = 0.3, \n",
    "                                                random_state = 35,\n",
    "                                                stratify=ytrain_597)"
   ]
  },
  {
   "cell_type": "code",
   "execution_count": 34,
   "metadata": {},
   "outputs": [],
   "source": [
    "import lightgbm as lgbm"
   ]
  },
  {
   "cell_type": "code",
   "execution_count": 35,
   "metadata": {},
   "outputs": [
    {
     "name": "stdout",
     "output_type": "stream",
     "text": [
      "[LightGBM] [Info] Number of positive: 8534, number of negative: 78056\n",
      "[LightGBM] [Warning] Auto-choosing col-wise multi-threading, the overhead of testing was 0.113585 seconds.\n",
      "You can set `force_col_wise=true` to remove the overhead.\n",
      "[LightGBM] [Info] Total Bins 49997\n",
      "[LightGBM] [Info] Number of data points in the train set: 86590, number of used features: 200\n",
      "[LightGBM] [Info] [binary:BoostFromScore]: pavg=0.098556 -> initscore=-2.213368\n",
      "[LightGBM] [Info] Start training from score -2.213368\n",
      "[1]\tvalid_0's auc: 0.757326\n",
      "Training until validation scores don't improve for 20 rounds\n",
      "[2]\tvalid_0's auc: 0.791043\n",
      "[3]\tvalid_0's auc: 0.810491\n",
      "[4]\tvalid_0's auc: 0.823219\n",
      "[5]\tvalid_0's auc: 0.831246\n",
      "[6]\tvalid_0's auc: 0.837601\n",
      "[7]\tvalid_0's auc: 0.842885\n",
      "[8]\tvalid_0's auc: 0.845428\n",
      "[9]\tvalid_0's auc: 0.84921\n",
      "[10]\tvalid_0's auc: 0.851657\n",
      "[11]\tvalid_0's auc: 0.855087\n",
      "[12]\tvalid_0's auc: 0.857813\n",
      "[13]\tvalid_0's auc: 0.859107\n",
      "[14]\tvalid_0's auc: 0.860044\n",
      "[15]\tvalid_0's auc: 0.861246\n",
      "[16]\tvalid_0's auc: 0.862167\n",
      "[17]\tvalid_0's auc: 0.8637\n",
      "[18]\tvalid_0's auc: 0.865526\n",
      "[19]\tvalid_0's auc: 0.866957\n",
      "[20]\tvalid_0's auc: 0.8682\n",
      "[21]\tvalid_0's auc: 0.870348\n",
      "[22]\tvalid_0's auc: 0.872381\n",
      "[23]\tvalid_0's auc: 0.874118\n",
      "[24]\tvalid_0's auc: 0.875439\n",
      "[25]\tvalid_0's auc: 0.877269\n",
      "[26]\tvalid_0's auc: 0.878656\n",
      "[27]\tvalid_0's auc: 0.879513\n",
      "[28]\tvalid_0's auc: 0.880217\n",
      "[29]\tvalid_0's auc: 0.881328\n",
      "[30]\tvalid_0's auc: 0.882393\n",
      "[31]\tvalid_0's auc: 0.882676\n",
      "[32]\tvalid_0's auc: 0.883538\n",
      "[33]\tvalid_0's auc: 0.884212\n",
      "[34]\tvalid_0's auc: 0.884429\n",
      "[35]\tvalid_0's auc: 0.884848\n",
      "[36]\tvalid_0's auc: 0.885268\n",
      "[37]\tvalid_0's auc: 0.885616\n",
      "[38]\tvalid_0's auc: 0.886003\n",
      "[39]\tvalid_0's auc: 0.886389\n",
      "[40]\tvalid_0's auc: 0.886803\n",
      "[41]\tvalid_0's auc: 0.887356\n",
      "[42]\tvalid_0's auc: 0.887862\n",
      "[43]\tvalid_0's auc: 0.888453\n",
      "[44]\tvalid_0's auc: 0.888777\n",
      "[45]\tvalid_0's auc: 0.88907\n",
      "[46]\tvalid_0's auc: 0.889309\n",
      "[47]\tvalid_0's auc: 0.889471\n",
      "[48]\tvalid_0's auc: 0.889624\n",
      "[49]\tvalid_0's auc: 0.890016\n",
      "[50]\tvalid_0's auc: 0.89023\n",
      "[51]\tvalid_0's auc: 0.890252\n",
      "[52]\tvalid_0's auc: 0.890506\n",
      "[53]\tvalid_0's auc: 0.890968\n",
      "[54]\tvalid_0's auc: 0.891051\n",
      "[55]\tvalid_0's auc: 0.891059\n",
      "[56]\tvalid_0's auc: 0.891121\n",
      "[57]\tvalid_0's auc: 0.891274\n",
      "[58]\tvalid_0's auc: 0.891261\n",
      "[59]\tvalid_0's auc: 0.891182\n",
      "[60]\tvalid_0's auc: 0.891232\n",
      "[61]\tvalid_0's auc: 0.891415\n",
      "[62]\tvalid_0's auc: 0.891535\n",
      "[63]\tvalid_0's auc: 0.891691\n",
      "[64]\tvalid_0's auc: 0.891913\n",
      "[65]\tvalid_0's auc: 0.891976\n",
      "[66]\tvalid_0's auc: 0.892075\n",
      "[67]\tvalid_0's auc: 0.892328\n",
      "[68]\tvalid_0's auc: 0.892378\n",
      "[69]\tvalid_0's auc: 0.892691\n",
      "[70]\tvalid_0's auc: 0.892974\n",
      "[71]\tvalid_0's auc: 0.893178\n",
      "[72]\tvalid_0's auc: 0.893186\n",
      "[73]\tvalid_0's auc: 0.892991\n",
      "[74]\tvalid_0's auc: 0.893028\n",
      "[75]\tvalid_0's auc: 0.89306\n",
      "[76]\tvalid_0's auc: 0.892974\n",
      "[77]\tvalid_0's auc: 0.893054\n",
      "[78]\tvalid_0's auc: 0.893146\n",
      "[79]\tvalid_0's auc: 0.89327\n",
      "[80]\tvalid_0's auc: 0.89324\n",
      "[81]\tvalid_0's auc: 0.893128\n",
      "[82]\tvalid_0's auc: 0.893008\n",
      "[83]\tvalid_0's auc: 0.893019\n",
      "[84]\tvalid_0's auc: 0.892973\n",
      "[85]\tvalid_0's auc: 0.893072\n",
      "[86]\tvalid_0's auc: 0.89322\n",
      "[87]\tvalid_0's auc: 0.893142\n",
      "[88]\tvalid_0's auc: 0.893184\n",
      "[89]\tvalid_0's auc: 0.893203\n",
      "[90]\tvalid_0's auc: 0.893279\n",
      "[91]\tvalid_0's auc: 0.893355\n",
      "[92]\tvalid_0's auc: 0.89345\n",
      "[93]\tvalid_0's auc: 0.89349\n",
      "[94]\tvalid_0's auc: 0.893593\n",
      "[95]\tvalid_0's auc: 0.893626\n",
      "[96]\tvalid_0's auc: 0.893648\n",
      "[97]\tvalid_0's auc: 0.89357\n",
      "[98]\tvalid_0's auc: 0.893542\n",
      "[99]\tvalid_0's auc: 0.893496\n",
      "[100]\tvalid_0's auc: 0.89361\n",
      "[101]\tvalid_0's auc: 0.893585\n",
      "[102]\tvalid_0's auc: 0.893666\n",
      "[103]\tvalid_0's auc: 0.893708\n",
      "[104]\tvalid_0's auc: 0.893877\n",
      "[105]\tvalid_0's auc: 0.89395\n",
      "[106]\tvalid_0's auc: 0.894045\n",
      "[107]\tvalid_0's auc: 0.894209\n",
      "[108]\tvalid_0's auc: 0.894221\n",
      "[109]\tvalid_0's auc: 0.894333\n",
      "[110]\tvalid_0's auc: 0.894311\n",
      "[111]\tvalid_0's auc: 0.894414\n",
      "[112]\tvalid_0's auc: 0.894312\n",
      "[113]\tvalid_0's auc: 0.894315\n",
      "[114]\tvalid_0's auc: 0.894239\n",
      "[115]\tvalid_0's auc: 0.894322\n",
      "[116]\tvalid_0's auc: 0.894268\n",
      "[117]\tvalid_0's auc: 0.894229\n",
      "[118]\tvalid_0's auc: 0.894257\n",
      "[119]\tvalid_0's auc: 0.894279\n",
      "[120]\tvalid_0's auc: 0.894289\n",
      "[121]\tvalid_0's auc: 0.894403\n",
      "[122]\tvalid_0's auc: 0.894242\n",
      "[123]\tvalid_0's auc: 0.894127\n",
      "[124]\tvalid_0's auc: 0.894267\n",
      "[125]\tvalid_0's auc: 0.894283\n",
      "[126]\tvalid_0's auc: 0.894308\n",
      "[127]\tvalid_0's auc: 0.894329\n",
      "[128]\tvalid_0's auc: 0.89429\n",
      "[129]\tvalid_0's auc: 0.894255\n",
      "[130]\tvalid_0's auc: 0.894275\n",
      "[131]\tvalid_0's auc: 0.894361\n",
      "Early stopping, best iteration is:\n",
      "[111]\tvalid_0's auc: 0.894414\n"
     ]
    }
   ],
   "source": [
    "train_data = lgbm.Dataset(new_xtrain_597, new_ytrain_597)\n",
    "test_data = lgbm.Dataset(xval_597, yval_597)\n",
    "\n",
    "# define parameters\n",
    "parameters = {\n",
    "    'objective': 'binary',\n",
    "    'metric': 'auc',\n",
    "    'is_unbalance': 'true',\n",
    "    'feature_fraction': 0.5,\n",
    "    'bagging_fraction': 0.5,\n",
    "    'bagging_freq': 20,\n",
    "    'num_threads' : 2,\n",
    "    'seed' : 76\n",
    "}\n",
    "\n",
    "# train lightGBM model\n",
    "model = lgbm.train(parameters,\n",
    "                   train_data,\n",
    "                   valid_sets=test_data,\n",
    "                   num_boost_round=1000,\n",
    "                   early_stopping_rounds=20)\n",
    "\n",
    "y_pred = model.predict(xtest_597)"
   ]
  },
  {
   "cell_type": "code",
   "execution_count": 36,
   "metadata": {},
   "outputs": [
    {
     "data": {
      "text/plain": [
       "array([0.07833624, 0.03502418, 0.12256976, ..., 0.26043244, 0.123401  ,\n",
       "       0.48227945])"
      ]
     },
     "execution_count": 36,
     "metadata": {},
     "output_type": "execute_result"
    }
   ],
   "source": [
    "y_pred"
   ]
  },
  {
   "cell_type": "code",
   "execution_count": 37,
   "metadata": {},
   "outputs": [
    {
     "name": "stdout",
     "output_type": "stream",
     "text": [
      "0.8955829641443676\n"
     ]
    }
   ],
   "source": [
    "fpr0, tpr0, _ = roc_curve(ytest_597, y_pred)\n",
    "roc_auc_lgbm = auc(fpr0, tpr0)\n",
    "print(roc_auc_lgbm)"
   ]
  },
  {
   "cell_type": "markdown",
   "metadata": {},
   "source": [
    "### 3 - LGBM_Bilanciato"
   ]
  },
  {
   "cell_type": "code",
   "execution_count": 39,
   "metadata": {},
   "outputs": [],
   "source": [
    "new_xtrain_sb_597, xval_sb_597, new_ytrain_sb_597, yval_sb_597 = train_test_split(xtrain_sb_597, ytrain_sb_597, \n",
    "                                                test_size = 0.3, \n",
    "                                                random_state = 35,\n",
    "                                                stratify=ytrain_sb_597)"
   ]
  },
  {
   "cell_type": "code",
   "execution_count": 40,
   "metadata": {},
   "outputs": [
    {
     "name": "stdout",
     "output_type": "stream",
     "text": [
      "[LightGBM] [Info] Number of positive: 8533, number of negative: 8534\n",
      "[LightGBM] [Warning] Auto-choosing col-wise multi-threading, the overhead of testing was 0.032846 seconds.\n",
      "You can set `force_col_wise=true` to remove the overhead.\n",
      "[LightGBM] [Info] Total Bins 50304\n",
      "[LightGBM] [Info] Number of data points in the train set: 17067, number of used features: 200\n",
      "[LightGBM] [Info] [binary:BoostFromScore]: pavg=0.499971 -> initscore=-0.000117\n",
      "[LightGBM] [Info] Start training from score -0.000117\n",
      "[1]\tvalid_0's auc: 0.742449\n",
      "Training until validation scores don't improve for 20 rounds\n",
      "[2]\tvalid_0's auc: 0.765786\n",
      "[3]\tvalid_0's auc: 0.785157\n",
      "[4]\tvalid_0's auc: 0.795195\n",
      "[5]\tvalid_0's auc: 0.798837\n",
      "[6]\tvalid_0's auc: 0.805851\n",
      "[7]\tvalid_0's auc: 0.814883\n",
      "[8]\tvalid_0's auc: 0.817239\n",
      "[9]\tvalid_0's auc: 0.819677\n",
      "[10]\tvalid_0's auc: 0.823925\n",
      "[11]\tvalid_0's auc: 0.826097\n",
      "[12]\tvalid_0's auc: 0.829719\n",
      "[13]\tvalid_0's auc: 0.832113\n",
      "[14]\tvalid_0's auc: 0.833588\n",
      "[15]\tvalid_0's auc: 0.836486\n",
      "[16]\tvalid_0's auc: 0.838997\n",
      "[17]\tvalid_0's auc: 0.840657\n",
      "[18]\tvalid_0's auc: 0.842269\n",
      "[19]\tvalid_0's auc: 0.843711\n",
      "[20]\tvalid_0's auc: 0.845014\n",
      "[21]\tvalid_0's auc: 0.847642\n",
      "[22]\tvalid_0's auc: 0.849119\n",
      "[23]\tvalid_0's auc: 0.851304\n",
      "[24]\tvalid_0's auc: 0.853859\n",
      "[25]\tvalid_0's auc: 0.855353\n",
      "[26]\tvalid_0's auc: 0.855967\n",
      "[27]\tvalid_0's auc: 0.856231\n",
      "[28]\tvalid_0's auc: 0.85771\n",
      "[29]\tvalid_0's auc: 0.859064\n",
      "[30]\tvalid_0's auc: 0.859661\n",
      "[31]\tvalid_0's auc: 0.859971\n",
      "[32]\tvalid_0's auc: 0.861024\n",
      "[33]\tvalid_0's auc: 0.860824\n",
      "[34]\tvalid_0's auc: 0.86137\n",
      "[35]\tvalid_0's auc: 0.862141\n",
      "[36]\tvalid_0's auc: 0.862871\n",
      "[37]\tvalid_0's auc: 0.862856\n",
      "[38]\tvalid_0's auc: 0.863376\n",
      "[39]\tvalid_0's auc: 0.863664\n",
      "[40]\tvalid_0's auc: 0.864026\n",
      "[41]\tvalid_0's auc: 0.864694\n",
      "[42]\tvalid_0's auc: 0.865644\n",
      "[43]\tvalid_0's auc: 0.86622\n",
      "[44]\tvalid_0's auc: 0.867161\n",
      "[45]\tvalid_0's auc: 0.867406\n",
      "[46]\tvalid_0's auc: 0.868066\n",
      "[47]\tvalid_0's auc: 0.868725\n",
      "[48]\tvalid_0's auc: 0.869351\n",
      "[49]\tvalid_0's auc: 0.869865\n",
      "[50]\tvalid_0's auc: 0.870474\n",
      "[51]\tvalid_0's auc: 0.870627\n",
      "[52]\tvalid_0's auc: 0.870791\n",
      "[53]\tvalid_0's auc: 0.871217\n",
      "[54]\tvalid_0's auc: 0.871308\n",
      "[55]\tvalid_0's auc: 0.871496\n",
      "[56]\tvalid_0's auc: 0.871583\n",
      "[57]\tvalid_0's auc: 0.871727\n",
      "[58]\tvalid_0's auc: 0.872092\n",
      "[59]\tvalid_0's auc: 0.872181\n",
      "[60]\tvalid_0's auc: 0.872501\n",
      "[61]\tvalid_0's auc: 0.872498\n",
      "[62]\tvalid_0's auc: 0.872624\n",
      "[63]\tvalid_0's auc: 0.872922\n",
      "[64]\tvalid_0's auc: 0.873544\n",
      "[65]\tvalid_0's auc: 0.873403\n",
      "[66]\tvalid_0's auc: 0.873722\n",
      "[67]\tvalid_0's auc: 0.873815\n",
      "[68]\tvalid_0's auc: 0.874228\n",
      "[69]\tvalid_0's auc: 0.874246\n",
      "[70]\tvalid_0's auc: 0.874234\n",
      "[71]\tvalid_0's auc: 0.874591\n",
      "[72]\tvalid_0's auc: 0.874384\n",
      "[73]\tvalid_0's auc: 0.874525\n",
      "[74]\tvalid_0's auc: 0.874457\n",
      "[75]\tvalid_0's auc: 0.874677\n",
      "[76]\tvalid_0's auc: 0.874926\n",
      "[77]\tvalid_0's auc: 0.875031\n",
      "[78]\tvalid_0's auc: 0.875024\n",
      "[79]\tvalid_0's auc: 0.875119\n",
      "[80]\tvalid_0's auc: 0.875251\n",
      "[81]\tvalid_0's auc: 0.875827\n",
      "[82]\tvalid_0's auc: 0.875531\n",
      "[83]\tvalid_0's auc: 0.875611\n",
      "[84]\tvalid_0's auc: 0.875949\n",
      "[85]\tvalid_0's auc: 0.876266\n",
      "[86]\tvalid_0's auc: 0.876345\n",
      "[87]\tvalid_0's auc: 0.876433\n",
      "[88]\tvalid_0's auc: 0.876247\n",
      "[89]\tvalid_0's auc: 0.876022\n",
      "[90]\tvalid_0's auc: 0.876089\n",
      "[91]\tvalid_0's auc: 0.876334\n",
      "[92]\tvalid_0's auc: 0.876576\n",
      "[93]\tvalid_0's auc: 0.876569\n",
      "[94]\tvalid_0's auc: 0.876573\n",
      "[95]\tvalid_0's auc: 0.87653\n",
      "[96]\tvalid_0's auc: 0.87651\n",
      "[97]\tvalid_0's auc: 0.876609\n",
      "[98]\tvalid_0's auc: 0.876552\n",
      "[99]\tvalid_0's auc: 0.876722\n",
      "[100]\tvalid_0's auc: 0.876644\n",
      "[101]\tvalid_0's auc: 0.87652\n",
      "[102]\tvalid_0's auc: 0.87646\n",
      "[103]\tvalid_0's auc: 0.876729\n",
      "[104]\tvalid_0's auc: 0.876677\n",
      "[105]\tvalid_0's auc: 0.876845\n",
      "[106]\tvalid_0's auc: 0.876845\n",
      "[107]\tvalid_0's auc: 0.876764\n",
      "[108]\tvalid_0's auc: 0.876821\n",
      "[109]\tvalid_0's auc: 0.876708\n",
      "[110]\tvalid_0's auc: 0.877014\n",
      "[111]\tvalid_0's auc: 0.877143\n",
      "[112]\tvalid_0's auc: 0.877315\n",
      "[113]\tvalid_0's auc: 0.877208\n",
      "[114]\tvalid_0's auc: 0.87726\n",
      "[115]\tvalid_0's auc: 0.87717\n",
      "[116]\tvalid_0's auc: 0.877165\n",
      "[117]\tvalid_0's auc: 0.87734\n",
      "[118]\tvalid_0's auc: 0.877265\n",
      "[119]\tvalid_0's auc: 0.877408\n",
      "[120]\tvalid_0's auc: 0.877464\n",
      "[121]\tvalid_0's auc: 0.877379\n",
      "[122]\tvalid_0's auc: 0.877335\n",
      "[123]\tvalid_0's auc: 0.877373\n",
      "[124]\tvalid_0's auc: 0.877184\n",
      "[125]\tvalid_0's auc: 0.877096\n",
      "[126]\tvalid_0's auc: 0.876875\n",
      "[127]\tvalid_0's auc: 0.876967\n",
      "[128]\tvalid_0's auc: 0.87714\n",
      "[129]\tvalid_0's auc: 0.877236\n",
      "[130]\tvalid_0's auc: 0.877401\n",
      "[131]\tvalid_0's auc: 0.877505\n",
      "[132]\tvalid_0's auc: 0.877373\n",
      "[133]\tvalid_0's auc: 0.87742\n",
      "[134]\tvalid_0's auc: 0.87735\n",
      "[135]\tvalid_0's auc: 0.877205\n",
      "[136]\tvalid_0's auc: 0.877132\n",
      "[137]\tvalid_0's auc: 0.877237\n",
      "[138]\tvalid_0's auc: 0.877232\n",
      "[139]\tvalid_0's auc: 0.877139\n",
      "[140]\tvalid_0's auc: 0.877052\n",
      "[141]\tvalid_0's auc: 0.87722\n",
      "[142]\tvalid_0's auc: 0.877205\n",
      "[143]\tvalid_0's auc: 0.87704\n",
      "[144]\tvalid_0's auc: 0.877097\n",
      "[145]\tvalid_0's auc: 0.877042\n",
      "[146]\tvalid_0's auc: 0.876968\n",
      "[147]\tvalid_0's auc: 0.876736\n",
      "[148]\tvalid_0's auc: 0.876758\n",
      "[149]\tvalid_0's auc: 0.87654\n",
      "[150]\tvalid_0's auc: 0.876317\n",
      "[151]\tvalid_0's auc: 0.8762\n",
      "Early stopping, best iteration is:\n",
      "[131]\tvalid_0's auc: 0.877505\n"
     ]
    }
   ],
   "source": [
    "train_data = lgbm.Dataset(new_xtrain_sb_597, new_ytrain_sb_597)\n",
    "test_data = lgbm.Dataset(xval_sb_597, yval_sb_597)\n",
    "\n",
    "# define parameters\n",
    "parameters = {\n",
    "    'objective': 'binary',\n",
    "    'metric': 'auc',\n",
    "    'is_unbalance': 'false',\n",
    "    'feature_fraction': 0.5,\n",
    "    'bagging_fraction': 0.5,\n",
    "    'bagging_freq': 20,\n",
    "    'num_threads' : 2,\n",
    "    'seed' : 76\n",
    "}\n",
    "\n",
    "# train lightGBM model\n",
    "model = lgbm.train(parameters,\n",
    "                   train_data,\n",
    "                   valid_sets=test_data,\n",
    "                   num_boost_round=1000,\n",
    "                   early_stopping_rounds=20)\n",
    "y_pred = model.predict(xtest_sb_597)"
   ]
  },
  {
   "cell_type": "code",
   "execution_count": 41,
   "metadata": {},
   "outputs": [
    {
     "name": "stdout",
     "output_type": "stream",
     "text": [
      "0.8860607037384676\n"
     ]
    }
   ],
   "source": [
    "fpr0, tpr0, _ = roc_curve(ytest_sb_597, y_pred)\n",
    "roc_auc_lgbm_sb = auc(fpr0, tpr0)\n",
    "print(roc_auc_lgbm_sb)"
   ]
  },
  {
   "cell_type": "markdown",
   "metadata": {},
   "source": [
    "### 3 - LinearSVC"
   ]
  },
  {
   "cell_type": "code",
   "execution_count": 12,
   "metadata": {},
   "outputs": [],
   "source": [
    "from sklearn.svm import LinearSVC\n",
    "from sklearn.svm import SVC\n",
    "from sklearn.calibration import CalibratedClassifierCV"
   ]
  },
  {
   "cell_type": "code",
   "execution_count": 13,
   "metadata": {},
   "outputs": [
    {
     "name": "stderr",
     "output_type": "stream",
     "text": [
      "C:\\ProgramData\\Anaconda3\\lib\\site-packages\\sklearn\\model_selection\\_split.py:293: FutureWarning: Setting a random_state has no effect since shuffle is False. This will raise an error in 0.24. You should leave random_state to its default (None), or set shuffle=True.\n",
      "  warnings.warn(\n"
     ]
    }
   ],
   "source": [
    "# Set the parameters by cross-validation\n",
    "tuned_parameters = {\n",
    "    'tol':(1.0, 1e-1, 1e-2, 1e-3, 1e-4, 1e-5, 1e-6),\n",
    "    'C': (0.001, 0.05, 0.01, 0.1, 1.0, 10.0, 50, 100.0)\n",
    "}\n",
    "# Set the parameters by cross-validation\n",
    "k_fold = StratifiedKFold(n_splits=4, random_state=42)\n",
    "\n",
    "scores = ['roc_auc']\n",
    "\n",
    "def gridsearch_linearsvc(X_train, y_train, X_test, y_test, k_fold, tuned_parameters, scores):\n",
    "    optimals = {}\n",
    "    for score in scores:\n",
    "        print(\"# Tuning hyper-parameters for ----> %s\" % score)\n",
    "        print()\n",
    "\n",
    "        svm = LinearSVC()\n",
    "\n",
    "        clf = GridSearchCV(svm, tuned_parameters, error_score='raise', cv=k_fold, scoring=score)\n",
    "\n",
    "        clf.fit(X_train, y_train)\n",
    "\n",
    "        print(\"Best parameters set found on development set:\")\n",
    "        print()\n",
    "        print(clf.best_params_)\n",
    "        print()\n",
    "        print(\"Grid scores on development set:\")\n",
    "        print()\n",
    "        means = clf.cv_results_['mean_test_score']\n",
    "        stds = clf.cv_results_['std_test_score']\n",
    "        for mean, std, params in zip(means, stds, clf.cv_results_['params']):\n",
    "            print(\"%0.3f (+/-%0.03f) for %r\"\n",
    "                  % (mean, std * 2, params))\n",
    "        print()\n",
    "\n",
    "        print(\"Detailed classification report:\")\n",
    "        print()\n",
    "        print(\"The model is trained on the full development set.\")\n",
    "        print(\"The scores are computed on the full evaluation set.\")\n",
    "        print()\n",
    "        y_true, y_pred = y_test, clf.predict(X_test)\n",
    "        print(classification_report(y_true, y_pred))\n",
    "        print()\n",
    "        print(\"**** Matrice di Confusione *****\")\n",
    "        tn, fp, fn, tp = confusion_matrix(y_true, y_pred).ravel()\n",
    "        print(' True negative: %d False negative: %d' % (tn, fn))\n",
    "        print(' True positive: %d False positive: %d' % (tp, fp))\n",
    "        print(\"____________________________________________\")\n",
    "        optimals[score] = clf.best_params_\n",
    "    return optimals"
   ]
  },
  {
   "cell_type": "code",
   "execution_count": 46,
   "metadata": {},
   "outputs": [
    {
     "name": "stdout",
     "output_type": "stream",
     "text": [
      "# Tuning hyper-parameters for ----> roc_auc\n",
      "\n"
     ]
    },
    {
     "name": "stderr",
     "output_type": "stream",
     "text": [
      "C:\\ProgramData\\Anaconda3\\lib\\site-packages\\sklearn\\svm\\_base.py:976: ConvergenceWarning: Liblinear failed to converge, increase the number of iterations.\n",
      "  warnings.warn(\"Liblinear failed to converge, increase \"\n",
      "C:\\ProgramData\\Anaconda3\\lib\\site-packages\\sklearn\\svm\\_base.py:976: ConvergenceWarning: Liblinear failed to converge, increase the number of iterations.\n",
      "  warnings.warn(\"Liblinear failed to converge, increase \"\n",
      "C:\\ProgramData\\Anaconda3\\lib\\site-packages\\sklearn\\svm\\_base.py:976: ConvergenceWarning: Liblinear failed to converge, increase the number of iterations.\n",
      "  warnings.warn(\"Liblinear failed to converge, increase \"\n",
      "C:\\ProgramData\\Anaconda3\\lib\\site-packages\\sklearn\\svm\\_base.py:976: ConvergenceWarning: Liblinear failed to converge, increase the number of iterations.\n",
      "  warnings.warn(\"Liblinear failed to converge, increase \"\n",
      "C:\\ProgramData\\Anaconda3\\lib\\site-packages\\sklearn\\svm\\_base.py:976: ConvergenceWarning: Liblinear failed to converge, increase the number of iterations.\n",
      "  warnings.warn(\"Liblinear failed to converge, increase \"\n",
      "C:\\ProgramData\\Anaconda3\\lib\\site-packages\\sklearn\\svm\\_base.py:976: ConvergenceWarning: Liblinear failed to converge, increase the number of iterations.\n",
      "  warnings.warn(\"Liblinear failed to converge, increase \"\n",
      "C:\\ProgramData\\Anaconda3\\lib\\site-packages\\sklearn\\svm\\_base.py:976: ConvergenceWarning: Liblinear failed to converge, increase the number of iterations.\n",
      "  warnings.warn(\"Liblinear failed to converge, increase \"\n",
      "C:\\ProgramData\\Anaconda3\\lib\\site-packages\\sklearn\\svm\\_base.py:976: ConvergenceWarning: Liblinear failed to converge, increase the number of iterations.\n",
      "  warnings.warn(\"Liblinear failed to converge, increase \"\n",
      "C:\\ProgramData\\Anaconda3\\lib\\site-packages\\sklearn\\svm\\_base.py:976: ConvergenceWarning: Liblinear failed to converge, increase the number of iterations.\n",
      "  warnings.warn(\"Liblinear failed to converge, increase \"\n",
      "C:\\ProgramData\\Anaconda3\\lib\\site-packages\\sklearn\\svm\\_base.py:976: ConvergenceWarning: Liblinear failed to converge, increase the number of iterations.\n",
      "  warnings.warn(\"Liblinear failed to converge, increase \"\n",
      "C:\\ProgramData\\Anaconda3\\lib\\site-packages\\sklearn\\svm\\_base.py:976: ConvergenceWarning: Liblinear failed to converge, increase the number of iterations.\n",
      "  warnings.warn(\"Liblinear failed to converge, increase \"\n",
      "C:\\ProgramData\\Anaconda3\\lib\\site-packages\\sklearn\\svm\\_base.py:976: ConvergenceWarning: Liblinear failed to converge, increase the number of iterations.\n",
      "  warnings.warn(\"Liblinear failed to converge, increase \"\n",
      "C:\\ProgramData\\Anaconda3\\lib\\site-packages\\sklearn\\svm\\_base.py:976: ConvergenceWarning: Liblinear failed to converge, increase the number of iterations.\n",
      "  warnings.warn(\"Liblinear failed to converge, increase \"\n",
      "C:\\ProgramData\\Anaconda3\\lib\\site-packages\\sklearn\\svm\\_base.py:976: ConvergenceWarning: Liblinear failed to converge, increase the number of iterations.\n",
      "  warnings.warn(\"Liblinear failed to converge, increase \"\n",
      "C:\\ProgramData\\Anaconda3\\lib\\site-packages\\sklearn\\svm\\_base.py:976: ConvergenceWarning: Liblinear failed to converge, increase the number of iterations.\n",
      "  warnings.warn(\"Liblinear failed to converge, increase \"\n",
      "C:\\ProgramData\\Anaconda3\\lib\\site-packages\\sklearn\\svm\\_base.py:976: ConvergenceWarning: Liblinear failed to converge, increase the number of iterations.\n",
      "  warnings.warn(\"Liblinear failed to converge, increase \"\n",
      "C:\\ProgramData\\Anaconda3\\lib\\site-packages\\sklearn\\svm\\_base.py:976: ConvergenceWarning: Liblinear failed to converge, increase the number of iterations.\n",
      "  warnings.warn(\"Liblinear failed to converge, increase \"\n",
      "C:\\ProgramData\\Anaconda3\\lib\\site-packages\\sklearn\\svm\\_base.py:976: ConvergenceWarning: Liblinear failed to converge, increase the number of iterations.\n",
      "  warnings.warn(\"Liblinear failed to converge, increase \"\n",
      "C:\\ProgramData\\Anaconda3\\lib\\site-packages\\sklearn\\svm\\_base.py:976: ConvergenceWarning: Liblinear failed to converge, increase the number of iterations.\n",
      "  warnings.warn(\"Liblinear failed to converge, increase \"\n",
      "C:\\ProgramData\\Anaconda3\\lib\\site-packages\\sklearn\\svm\\_base.py:976: ConvergenceWarning: Liblinear failed to converge, increase the number of iterations.\n",
      "  warnings.warn(\"Liblinear failed to converge, increase \"\n",
      "C:\\ProgramData\\Anaconda3\\lib\\site-packages\\sklearn\\svm\\_base.py:976: ConvergenceWarning: Liblinear failed to converge, increase the number of iterations.\n",
      "  warnings.warn(\"Liblinear failed to converge, increase \"\n",
      "C:\\ProgramData\\Anaconda3\\lib\\site-packages\\sklearn\\svm\\_base.py:976: ConvergenceWarning: Liblinear failed to converge, increase the number of iterations.\n",
      "  warnings.warn(\"Liblinear failed to converge, increase \"\n",
      "C:\\ProgramData\\Anaconda3\\lib\\site-packages\\sklearn\\svm\\_base.py:976: ConvergenceWarning: Liblinear failed to converge, increase the number of iterations.\n",
      "  warnings.warn(\"Liblinear failed to converge, increase \"\n",
      "C:\\ProgramData\\Anaconda3\\lib\\site-packages\\sklearn\\svm\\_base.py:976: ConvergenceWarning: Liblinear failed to converge, increase the number of iterations.\n",
      "  warnings.warn(\"Liblinear failed to converge, increase \"\n",
      "C:\\ProgramData\\Anaconda3\\lib\\site-packages\\sklearn\\svm\\_base.py:976: ConvergenceWarning: Liblinear failed to converge, increase the number of iterations.\n",
      "  warnings.warn(\"Liblinear failed to converge, increase \"\n",
      "C:\\ProgramData\\Anaconda3\\lib\\site-packages\\sklearn\\svm\\_base.py:976: ConvergenceWarning: Liblinear failed to converge, increase the number of iterations.\n",
      "  warnings.warn(\"Liblinear failed to converge, increase \"\n",
      "C:\\ProgramData\\Anaconda3\\lib\\site-packages\\sklearn\\svm\\_base.py:976: ConvergenceWarning: Liblinear failed to converge, increase the number of iterations.\n",
      "  warnings.warn(\"Liblinear failed to converge, increase \"\n",
      "C:\\ProgramData\\Anaconda3\\lib\\site-packages\\sklearn\\svm\\_base.py:976: ConvergenceWarning: Liblinear failed to converge, increase the number of iterations.\n",
      "  warnings.warn(\"Liblinear failed to converge, increase \"\n",
      "C:\\ProgramData\\Anaconda3\\lib\\site-packages\\sklearn\\svm\\_base.py:976: ConvergenceWarning: Liblinear failed to converge, increase the number of iterations.\n",
      "  warnings.warn(\"Liblinear failed to converge, increase \"\n",
      "C:\\ProgramData\\Anaconda3\\lib\\site-packages\\sklearn\\svm\\_base.py:976: ConvergenceWarning: Liblinear failed to converge, increase the number of iterations.\n",
      "  warnings.warn(\"Liblinear failed to converge, increase \"\n",
      "C:\\ProgramData\\Anaconda3\\lib\\site-packages\\sklearn\\svm\\_base.py:976: ConvergenceWarning: Liblinear failed to converge, increase the number of iterations.\n",
      "  warnings.warn(\"Liblinear failed to converge, increase \"\n",
      "C:\\ProgramData\\Anaconda3\\lib\\site-packages\\sklearn\\svm\\_base.py:976: ConvergenceWarning: Liblinear failed to converge, increase the number of iterations.\n",
      "  warnings.warn(\"Liblinear failed to converge, increase \"\n",
      "C:\\ProgramData\\Anaconda3\\lib\\site-packages\\sklearn\\svm\\_base.py:976: ConvergenceWarning: Liblinear failed to converge, increase the number of iterations.\n",
      "  warnings.warn(\"Liblinear failed to converge, increase \"\n",
      "C:\\ProgramData\\Anaconda3\\lib\\site-packages\\sklearn\\svm\\_base.py:976: ConvergenceWarning: Liblinear failed to converge, increase the number of iterations.\n",
      "  warnings.warn(\"Liblinear failed to converge, increase \"\n",
      "C:\\ProgramData\\Anaconda3\\lib\\site-packages\\sklearn\\svm\\_base.py:976: ConvergenceWarning: Liblinear failed to converge, increase the number of iterations.\n",
      "  warnings.warn(\"Liblinear failed to converge, increase \"\n",
      "C:\\ProgramData\\Anaconda3\\lib\\site-packages\\sklearn\\svm\\_base.py:976: ConvergenceWarning: Liblinear failed to converge, increase the number of iterations.\n",
      "  warnings.warn(\"Liblinear failed to converge, increase \"\n"
     ]
    },
    {
     "name": "stdout",
     "output_type": "stream",
     "text": [
      "Best parameters set found on development set:\n",
      "\n",
      "{'C': 100.0, 'tol': 1.0}\n",
      "\n",
      "Grid scores on development set:\n",
      "\n",
      "0.627 (+/-0.007) for {'C': 0.001, 'tol': 1.0}\n",
      "0.627 (+/-0.007) for {'C': 0.001, 'tol': 0.1}\n",
      "0.627 (+/-0.007) for {'C': 0.001, 'tol': 0.01}\n",
      "0.627 (+/-0.007) for {'C': 0.001, 'tol': 0.001}\n",
      "0.627 (+/-0.007) for {'C': 0.001, 'tol': 0.0001}\n",
      "0.627 (+/-0.007) for {'C': 0.001, 'tol': 1e-05}\n",
      "0.627 (+/-0.007) for {'C': 0.001, 'tol': 1e-06}\n",
      "0.678 (+/-0.011) for {'C': 0.05, 'tol': 1.0}\n",
      "0.678 (+/-0.011) for {'C': 0.05, 'tol': 0.1}\n",
      "0.678 (+/-0.011) for {'C': 0.05, 'tol': 0.01}\n",
      "0.678 (+/-0.011) for {'C': 0.05, 'tol': 0.001}\n",
      "0.678 (+/-0.011) for {'C': 0.05, 'tol': 0.0001}\n",
      "0.678 (+/-0.011) for {'C': 0.05, 'tol': 1e-05}\n",
      "0.678 (+/-0.011) for {'C': 0.05, 'tol': 1e-06}\n",
      "0.646 (+/-0.007) for {'C': 0.01, 'tol': 1.0}\n",
      "0.646 (+/-0.007) for {'C': 0.01, 'tol': 0.1}\n",
      "0.646 (+/-0.007) for {'C': 0.01, 'tol': 0.01}\n",
      "0.646 (+/-0.007) for {'C': 0.01, 'tol': 0.001}\n",
      "0.646 (+/-0.007) for {'C': 0.01, 'tol': 0.0001}\n",
      "0.646 (+/-0.007) for {'C': 0.01, 'tol': 1e-05}\n",
      "0.646 (+/-0.007) for {'C': 0.01, 'tol': 1e-06}\n",
      "0.688 (+/-0.013) for {'C': 0.1, 'tol': 1.0}\n",
      "0.688 (+/-0.013) for {'C': 0.1, 'tol': 0.1}\n",
      "0.688 (+/-0.013) for {'C': 0.1, 'tol': 0.01}\n",
      "0.688 (+/-0.013) for {'C': 0.1, 'tol': 0.001}\n",
      "0.688 (+/-0.013) for {'C': 0.1, 'tol': 0.0001}\n",
      "0.688 (+/-0.013) for {'C': 0.1, 'tol': 1e-05}\n",
      "0.688 (+/-0.013) for {'C': 0.1, 'tol': 1e-06}\n",
      "0.702 (+/-0.014) for {'C': 1.0, 'tol': 1.0}\n",
      "0.702 (+/-0.014) for {'C': 1.0, 'tol': 0.1}\n",
      "0.702 (+/-0.014) for {'C': 1.0, 'tol': 0.01}\n",
      "0.702 (+/-0.014) for {'C': 1.0, 'tol': 0.001}\n",
      "0.702 (+/-0.014) for {'C': 1.0, 'tol': 0.0001}\n",
      "0.702 (+/-0.014) for {'C': 1.0, 'tol': 1e-05}\n",
      "0.702 (+/-0.014) for {'C': 1.0, 'tol': 1e-06}\n",
      "0.703 (+/-0.013) for {'C': 10.0, 'tol': 1.0}\n",
      "0.703 (+/-0.013) for {'C': 10.0, 'tol': 0.1}\n",
      "0.703 (+/-0.013) for {'C': 10.0, 'tol': 0.01}\n",
      "0.703 (+/-0.013) for {'C': 10.0, 'tol': 0.001}\n",
      "0.703 (+/-0.013) for {'C': 10.0, 'tol': 0.0001}\n",
      "0.703 (+/-0.013) for {'C': 10.0, 'tol': 1e-05}\n",
      "0.703 (+/-0.013) for {'C': 10.0, 'tol': 1e-06}\n",
      "0.703 (+/-0.012) for {'C': 50, 'tol': 1.0}\n",
      "0.703 (+/-0.013) for {'C': 50, 'tol': 0.1}\n",
      "0.703 (+/-0.013) for {'C': 50, 'tol': 0.01}\n",
      "0.703 (+/-0.013) for {'C': 50, 'tol': 0.001}\n",
      "0.703 (+/-0.013) for {'C': 50, 'tol': 0.0001}\n",
      "0.703 (+/-0.013) for {'C': 50, 'tol': 1e-05}\n",
      "0.703 (+/-0.013) for {'C': 50, 'tol': 1e-06}\n",
      "0.704 (+/-0.013) for {'C': 100.0, 'tol': 1.0}\n",
      "0.703 (+/-0.013) for {'C': 100.0, 'tol': 0.1}\n",
      "0.703 (+/-0.013) for {'C': 100.0, 'tol': 0.01}\n",
      "0.703 (+/-0.013) for {'C': 100.0, 'tol': 0.001}\n",
      "0.703 (+/-0.013) for {'C': 100.0, 'tol': 0.0001}\n",
      "0.703 (+/-0.013) for {'C': 100.0, 'tol': 1e-05}\n",
      "0.703 (+/-0.013) for {'C': 100.0, 'tol': 1e-06}\n",
      "\n",
      "Detailed classification report:\n",
      "\n",
      "The model is trained on the full development set.\n",
      "The scores are computed on the full evaluation set.\n",
      "\n",
      "              precision    recall  f1-score   support\n",
      "\n",
      "           0       0.90      1.00      0.95     47790\n",
      "           1       0.96      0.00      0.01      5225\n",
      "\n",
      "    accuracy                           0.90     53015\n",
      "   macro avg       0.93      0.50      0.48     53015\n",
      "weighted avg       0.91      0.90      0.86     53015\n",
      "\n",
      "\n",
      "**** Matrice di Confusione *****\n",
      " True negative: 47789 False negative: 5203\n",
      " True positive: 22 False positive: 1\n",
      "____________________________________________\n"
     ]
    }
   ],
   "source": [
    "optimals_597 = gridsearch_linearsvc(xtrain_597, ytrain_597, xtest_597, ytest_597, k_fold, tuned_parameters, scores)"
   ]
  },
  {
   "cell_type": "code",
   "execution_count": 47,
   "metadata": {},
   "outputs": [
    {
     "data": {
      "text/plain": [
       "{'roc_auc': {'C': 100.0, 'tol': 1.0}}"
      ]
     },
     "execution_count": 47,
     "metadata": {},
     "output_type": "execute_result"
    }
   ],
   "source": [
    "optimals_597"
   ]
  },
  {
   "cell_type": "code",
   "execution_count": 70,
   "metadata": {},
   "outputs": [
    {
     "name": "stdout",
     "output_type": "stream",
     "text": [
      "0.7056607786658337\n"
     ]
    },
    {
     "data": {
      "image/png": "[encoded data removed]",
      "text/plain": [
       "<Figure size 432x288 with 1 Axes>"
      ]
     },
     "metadata": {
      "needs_background": "light"
     },
     "output_type": "display_data"
    }
   ],
   "source": [
    "model_597 = LinearSVC(C = 100.0, tol =1.0)\n",
    "model_597.fit(xtrain_597, ytrain_597)\n",
    "\n",
    "\n",
    "y_score_597 = model_597.predict(xtest_597)\n",
    "\n",
    "cclf = CalibratedClassifierCV(base_estimator=model_597, cv=5)\n",
    "cclf.fit(xtrain_597, ytrain_597)\n",
    "y_pred = cclf.predict(xtest_597)\n",
    "y_score_597 = cclf.predict_proba(xtest_597)\n",
    "fpr0, tpr0, _ = roc_curve(ytest_597, y_score_597[:, 1])\n",
    "roc_auc0 = auc(fpr0, tpr0)\n",
    "print(roc_auc0)\n",
    "\n",
    "plt.plot(fpr0, tpr0, color='darkorange', lw=3, label='$AUC_0$ = %.3f' % (roc_auc0))\n",
    "\n",
    "plt.plot([0, 1], [0, 1], color='navy', lw=2, linestyle='--')\n",
    "plt.xlim([0.0, 1.0])\n",
    "plt.ylim([0.0, 1.05])\n",
    "plt.xlabel('False Positive Rate', fontsize=16)\n",
    "plt.ylabel('True Positive Rate', fontsize=16)\n",
    "plt.title('ROC curve', fontsize=16)\n",
    "plt.legend(loc=\"lower right\", fontsize=14, frameon=False)\n",
    "plt.tick_params(axis='both', which='major', labelsize=16)\n",
    "plt.show()"
   ]
  },
  {
   "cell_type": "markdown",
   "metadata": {},
   "source": [
    "### 3 - LinearSVC_Bilanciato"
   ]
  },
  {
   "cell_type": "code",
   "execution_count": 14,
   "metadata": {},
   "outputs": [
    {
     "name": "stdout",
     "output_type": "stream",
     "text": [
      "# Tuning hyper-parameters for ----> roc_auc\n",
      "\n"
     ]
    },
    {
     "name": "stderr",
     "output_type": "stream",
     "text": [
      "C:\\ProgramData\\Anaconda3\\lib\\site-packages\\sklearn\\svm\\_base.py:976: ConvergenceWarning: Liblinear failed to converge, increase the number of iterations.\n",
      "  warnings.warn(\"Liblinear failed to converge, increase \"\n",
      "C:\\ProgramData\\Anaconda3\\lib\\site-packages\\sklearn\\svm\\_base.py:976: ConvergenceWarning: Liblinear failed to converge, increase the number of iterations.\n",
      "  warnings.warn(\"Liblinear failed to converge, increase \"\n",
      "C:\\ProgramData\\Anaconda3\\lib\\site-packages\\sklearn\\svm\\_base.py:976: ConvergenceWarning: Liblinear failed to converge, increase the number of iterations.\n",
      "  warnings.warn(\"Liblinear failed to converge, increase \"\n",
      "C:\\ProgramData\\Anaconda3\\lib\\site-packages\\sklearn\\svm\\_base.py:976: ConvergenceWarning: Liblinear failed to converge, increase the number of iterations.\n",
      "  warnings.warn(\"Liblinear failed to converge, increase \"\n",
      "C:\\ProgramData\\Anaconda3\\lib\\site-packages\\sklearn\\svm\\_base.py:976: ConvergenceWarning: Liblinear failed to converge, increase the number of iterations.\n",
      "  warnings.warn(\"Liblinear failed to converge, increase \"\n",
      "C:\\ProgramData\\Anaconda3\\lib\\site-packages\\sklearn\\svm\\_base.py:976: ConvergenceWarning: Liblinear failed to converge, increase the number of iterations.\n",
      "  warnings.warn(\"Liblinear failed to converge, increase \"\n",
      "C:\\ProgramData\\Anaconda3\\lib\\site-packages\\sklearn\\svm\\_base.py:976: ConvergenceWarning: Liblinear failed to converge, increase the number of iterations.\n",
      "  warnings.warn(\"Liblinear failed to converge, increase \"\n",
      "C:\\ProgramData\\Anaconda3\\lib\\site-packages\\sklearn\\svm\\_base.py:976: ConvergenceWarning: Liblinear failed to converge, increase the number of iterations.\n",
      "  warnings.warn(\"Liblinear failed to converge, increase \"\n",
      "C:\\ProgramData\\Anaconda3\\lib\\site-packages\\sklearn\\svm\\_base.py:976: ConvergenceWarning: Liblinear failed to converge, increase the number of iterations.\n",
      "  warnings.warn(\"Liblinear failed to converge, increase \"\n",
      "C:\\ProgramData\\Anaconda3\\lib\\site-packages\\sklearn\\svm\\_base.py:976: ConvergenceWarning: Liblinear failed to converge, increase the number of iterations.\n",
      "  warnings.warn(\"Liblinear failed to converge, increase \"\n",
      "C:\\ProgramData\\Anaconda3\\lib\\site-packages\\sklearn\\svm\\_base.py:976: ConvergenceWarning: Liblinear failed to converge, increase the number of iterations.\n",
      "  warnings.warn(\"Liblinear failed to converge, increase \"\n",
      "C:\\ProgramData\\Anaconda3\\lib\\site-packages\\sklearn\\svm\\_base.py:976: ConvergenceWarning: Liblinear failed to converge, increase the number of iterations.\n",
      "  warnings.warn(\"Liblinear failed to converge, increase \"\n",
      "C:\\ProgramData\\Anaconda3\\lib\\site-packages\\sklearn\\svm\\_base.py:976: ConvergenceWarning: Liblinear failed to converge, increase the number of iterations.\n",
      "  warnings.warn(\"Liblinear failed to converge, increase \"\n",
      "C:\\ProgramData\\Anaconda3\\lib\\site-packages\\sklearn\\svm\\_base.py:976: ConvergenceWarning: Liblinear failed to converge, increase the number of iterations.\n",
      "  warnings.warn(\"Liblinear failed to converge, increase \"\n",
      "C:\\ProgramData\\Anaconda3\\lib\\site-packages\\sklearn\\svm\\_base.py:976: ConvergenceWarning: Liblinear failed to converge, increase the number of iterations.\n",
      "  warnings.warn(\"Liblinear failed to converge, increase \"\n",
      "C:\\ProgramData\\Anaconda3\\lib\\site-packages\\sklearn\\svm\\_base.py:976: ConvergenceWarning: Liblinear failed to converge, increase the number of iterations.\n",
      "  warnings.warn(\"Liblinear failed to converge, increase \"\n",
      "C:\\ProgramData\\Anaconda3\\lib\\site-packages\\sklearn\\svm\\_base.py:976: ConvergenceWarning: Liblinear failed to converge, increase the number of iterations.\n",
      "  warnings.warn(\"Liblinear failed to converge, increase \"\n",
      "C:\\ProgramData\\Anaconda3\\lib\\site-packages\\sklearn\\svm\\_base.py:976: ConvergenceWarning: Liblinear failed to converge, increase the number of iterations.\n",
      "  warnings.warn(\"Liblinear failed to converge, increase \"\n",
      "C:\\ProgramData\\Anaconda3\\lib\\site-packages\\sklearn\\svm\\_base.py:976: ConvergenceWarning: Liblinear failed to converge, increase the number of iterations.\n",
      "  warnings.warn(\"Liblinear failed to converge, increase \"\n",
      "C:\\ProgramData\\Anaconda3\\lib\\site-packages\\sklearn\\svm\\_base.py:976: ConvergenceWarning: Liblinear failed to converge, increase the number of iterations.\n",
      "  warnings.warn(\"Liblinear failed to converge, increase \"\n",
      "C:\\ProgramData\\Anaconda3\\lib\\site-packages\\sklearn\\svm\\_base.py:976: ConvergenceWarning: Liblinear failed to converge, increase the number of iterations.\n",
      "  warnings.warn(\"Liblinear failed to converge, increase \"\n",
      "C:\\ProgramData\\Anaconda3\\lib\\site-packages\\sklearn\\svm\\_base.py:976: ConvergenceWarning: Liblinear failed to converge, increase the number of iterations.\n",
      "  warnings.warn(\"Liblinear failed to converge, increase \"\n",
      "C:\\ProgramData\\Anaconda3\\lib\\site-packages\\sklearn\\svm\\_base.py:976: ConvergenceWarning: Liblinear failed to converge, increase the number of iterations.\n",
      "  warnings.warn(\"Liblinear failed to converge, increase \"\n",
      "C:\\ProgramData\\Anaconda3\\lib\\site-packages\\sklearn\\svm\\_base.py:976: ConvergenceWarning: Liblinear failed to converge, increase the number of iterations.\n",
      "  warnings.warn(\"Liblinear failed to converge, increase \"\n",
      "C:\\ProgramData\\Anaconda3\\lib\\site-packages\\sklearn\\svm\\_base.py:976: ConvergenceWarning: Liblinear failed to converge, increase the number of iterations.\n",
      "  warnings.warn(\"Liblinear failed to converge, increase \"\n",
      "C:\\ProgramData\\Anaconda3\\lib\\site-packages\\sklearn\\svm\\_base.py:976: ConvergenceWarning: Liblinear failed to converge, increase the number of iterations.\n",
      "  warnings.warn(\"Liblinear failed to converge, increase \"\n",
      "C:\\ProgramData\\Anaconda3\\lib\\site-packages\\sklearn\\svm\\_base.py:976: ConvergenceWarning: Liblinear failed to converge, increase the number of iterations.\n",
      "  warnings.warn(\"Liblinear failed to converge, increase \"\n",
      "C:\\ProgramData\\Anaconda3\\lib\\site-packages\\sklearn\\svm\\_base.py:976: ConvergenceWarning: Liblinear failed to converge, increase the number of iterations.\n",
      "  warnings.warn(\"Liblinear failed to converge, increase \"\n",
      "C:\\ProgramData\\Anaconda3\\lib\\site-packages\\sklearn\\svm\\_base.py:976: ConvergenceWarning: Liblinear failed to converge, increase the number of iterations.\n",
      "  warnings.warn(\"Liblinear failed to converge, increase \"\n",
      "C:\\ProgramData\\Anaconda3\\lib\\site-packages\\sklearn\\svm\\_base.py:976: ConvergenceWarning: Liblinear failed to converge, increase the number of iterations.\n",
      "  warnings.warn(\"Liblinear failed to converge, increase \"\n",
      "C:\\ProgramData\\Anaconda3\\lib\\site-packages\\sklearn\\svm\\_base.py:976: ConvergenceWarning: Liblinear failed to converge, increase the number of iterations.\n",
      "  warnings.warn(\"Liblinear failed to converge, increase \"\n",
      "C:\\ProgramData\\Anaconda3\\lib\\site-packages\\sklearn\\svm\\_base.py:976: ConvergenceWarning: Liblinear failed to converge, increase the number of iterations.\n",
      "  warnings.warn(\"Liblinear failed to converge, increase \"\n",
      "C:\\ProgramData\\Anaconda3\\lib\\site-packages\\sklearn\\svm\\_base.py:976: ConvergenceWarning: Liblinear failed to converge, increase the number of iterations.\n",
      "  warnings.warn(\"Liblinear failed to converge, increase \"\n",
      "C:\\ProgramData\\Anaconda3\\lib\\site-packages\\sklearn\\svm\\_base.py:976: ConvergenceWarning: Liblinear failed to converge, increase the number of iterations.\n",
      "  warnings.warn(\"Liblinear failed to converge, increase \"\n",
      "C:\\ProgramData\\Anaconda3\\lib\\site-packages\\sklearn\\svm\\_base.py:976: ConvergenceWarning: Liblinear failed to converge, increase the number of iterations.\n",
      "  warnings.warn(\"Liblinear failed to converge, increase \"\n",
      "C:\\ProgramData\\Anaconda3\\lib\\site-packages\\sklearn\\svm\\_base.py:976: ConvergenceWarning: Liblinear failed to converge, increase the number of iterations.\n",
      "  warnings.warn(\"Liblinear failed to converge, increase \"\n"
     ]
    },
    {
     "name": "stdout",
     "output_type": "stream",
     "text": [
      "Best parameters set found on development set:\n",
      "\n",
      "{'C': 10.0, 'tol': 0.1}\n",
      "\n",
      "Grid scores on development set:\n",
      "\n",
      "0.622 (+/-0.018) for {'C': 0.001, 'tol': 1.0}\n",
      "0.622 (+/-0.018) for {'C': 0.001, 'tol': 0.1}\n",
      "0.622 (+/-0.018) for {'C': 0.001, 'tol': 0.01}\n",
      "0.622 (+/-0.018) for {'C': 0.001, 'tol': 0.001}\n",
      "0.622 (+/-0.018) for {'C': 0.001, 'tol': 0.0001}\n",
      "0.622 (+/-0.018) for {'C': 0.001, 'tol': 1e-05}\n",
      "0.622 (+/-0.018) for {'C': 0.001, 'tol': 1e-06}\n",
      "0.652 (+/-0.020) for {'C': 0.05, 'tol': 1.0}\n",
      "0.652 (+/-0.020) for {'C': 0.05, 'tol': 0.1}\n",
      "0.652 (+/-0.020) for {'C': 0.05, 'tol': 0.01}\n",
      "0.652 (+/-0.020) for {'C': 0.05, 'tol': 0.001}\n",
      "0.652 (+/-0.020) for {'C': 0.05, 'tol': 0.0001}\n",
      "0.652 (+/-0.020) for {'C': 0.05, 'tol': 1e-05}\n",
      "0.652 (+/-0.020) for {'C': 0.05, 'tol': 1e-06}\n",
      "0.629 (+/-0.019) for {'C': 0.01, 'tol': 1.0}\n",
      "0.629 (+/-0.019) for {'C': 0.01, 'tol': 0.1}\n",
      "0.629 (+/-0.019) for {'C': 0.01, 'tol': 0.01}\n",
      "0.629 (+/-0.019) for {'C': 0.01, 'tol': 0.001}\n",
      "0.629 (+/-0.019) for {'C': 0.01, 'tol': 0.0001}\n",
      "0.629 (+/-0.019) for {'C': 0.01, 'tol': 1e-05}\n",
      "0.629 (+/-0.019) for {'C': 0.01, 'tol': 1e-06}\n",
      "0.668 (+/-0.021) for {'C': 0.1, 'tol': 1.0}\n",
      "0.668 (+/-0.020) for {'C': 0.1, 'tol': 0.1}\n",
      "0.668 (+/-0.020) for {'C': 0.1, 'tol': 0.01}\n",
      "0.668 (+/-0.020) for {'C': 0.1, 'tol': 0.001}\n",
      "0.668 (+/-0.020) for {'C': 0.1, 'tol': 0.0001}\n",
      "0.668 (+/-0.020) for {'C': 0.1, 'tol': 1e-05}\n",
      "0.668 (+/-0.020) for {'C': 0.1, 'tol': 1e-06}\n",
      "0.703 (+/-0.018) for {'C': 1.0, 'tol': 1.0}\n",
      "0.703 (+/-0.018) for {'C': 1.0, 'tol': 0.1}\n",
      "0.703 (+/-0.018) for {'C': 1.0, 'tol': 0.01}\n",
      "0.703 (+/-0.018) for {'C': 1.0, 'tol': 0.001}\n",
      "0.703 (+/-0.018) for {'C': 1.0, 'tol': 0.0001}\n",
      "0.703 (+/-0.018) for {'C': 1.0, 'tol': 1e-05}\n",
      "0.703 (+/-0.018) for {'C': 1.0, 'tol': 1e-06}\n",
      "0.708 (+/-0.013) for {'C': 10.0, 'tol': 1.0}\n",
      "0.708 (+/-0.014) for {'C': 10.0, 'tol': 0.1}\n",
      "0.708 (+/-0.013) for {'C': 10.0, 'tol': 0.01}\n",
      "0.708 (+/-0.013) for {'C': 10.0, 'tol': 0.001}\n",
      "0.708 (+/-0.013) for {'C': 10.0, 'tol': 0.0001}\n",
      "0.708 (+/-0.013) for {'C': 10.0, 'tol': 1e-05}\n",
      "0.708 (+/-0.013) for {'C': 10.0, 'tol': 1e-06}\n",
      "0.708 (+/-0.012) for {'C': 50, 'tol': 1.0}\n",
      "0.708 (+/-0.013) for {'C': 50, 'tol': 0.1}\n",
      "0.708 (+/-0.013) for {'C': 50, 'tol': 0.01}\n",
      "0.708 (+/-0.013) for {'C': 50, 'tol': 0.001}\n",
      "0.708 (+/-0.013) for {'C': 50, 'tol': 0.0001}\n",
      "0.708 (+/-0.013) for {'C': 50, 'tol': 1e-05}\n",
      "0.708 (+/-0.013) for {'C': 50, 'tol': 1e-06}\n",
      "0.708 (+/-0.013) for {'C': 100.0, 'tol': 1.0}\n",
      "0.708 (+/-0.012) for {'C': 100.0, 'tol': 0.1}\n",
      "0.708 (+/-0.012) for {'C': 100.0, 'tol': 0.01}\n",
      "0.708 (+/-0.012) for {'C': 100.0, 'tol': 0.001}\n",
      "0.708 (+/-0.012) for {'C': 100.0, 'tol': 0.0001}\n",
      "0.708 (+/-0.012) for {'C': 100.0, 'tol': 1e-05}\n",
      "0.708 (+/-0.012) for {'C': 100.0, 'tol': 1e-06}\n",
      "\n",
      "Detailed classification report:\n",
      "\n",
      "The model is trained on the full development set.\n",
      "The scores are computed on the full evaluation set.\n",
      "\n",
      "              precision    recall  f1-score   support\n",
      "\n",
      "           0       0.64      0.71      0.67      5225\n",
      "           1       0.67      0.61      0.64      5225\n",
      "\n",
      "    accuracy                           0.66     10450\n",
      "   macro avg       0.66      0.66      0.66     10450\n",
      "weighted avg       0.66      0.66      0.66     10450\n",
      "\n",
      "\n",
      "**** Matrice di Confusione *****\n",
      " True negative: 3688 False negative: 2039\n",
      " True positive: 3186 False positive: 1537\n",
      "____________________________________________\n"
     ]
    }
   ],
   "source": [
    "optimals_sb_597 = gridsearch_linearsvc(xtrain_sb_597, ytrain_sb_597, xtest_sb_597, ytest_sb_597, k_fold, tuned_parameters, scores)"
   ]
  },
  {
   "cell_type": "code",
   "execution_count": 15,
   "metadata": {},
   "outputs": [
    {
     "data": {
      "text/plain": [
       "{'roc_auc': {'C': 10.0, 'tol': 0.1}}"
      ]
     },
     "execution_count": 15,
     "metadata": {},
     "output_type": "execute_result"
    }
   ],
   "source": [
    "optimals_sb_597"
   ]
  },
  {
   "cell_type": "code",
   "execution_count": 16,
   "metadata": {},
   "outputs": [
    {
     "name": "stdout",
     "output_type": "stream",
     "text": [
      "0.7141923307616583\n"
     ]
    },
    {
     "data": {
      "image/png": "[encoded data removed]",
      "text/plain": [
       "<Figure size 432x288 with 1 Axes>"
      ]
     },
     "metadata": {
      "needs_background": "light"
     },
     "output_type": "display_data"
    }
   ],
   "source": [
    "model_sb_597 = LinearSVC(C = 10.0, tol =0.1)\n",
    "model_sb_597.fit(xtrain_sb_597, ytrain_sb_597)\n",
    "\n",
    "\n",
    "y_score_sb_597 = model_sb_597.predict(xtest_sb_597)\n",
    "\n",
    "cclf = CalibratedClassifierCV(base_estimator=model_sb_597, cv=5)\n",
    "cclf.fit(xtrain_sb_597, ytrain_sb_597)\n",
    "y_pred = cclf.predict(xtest_sb_597)\n",
    "y_score_sb_597 = cclf.predict_proba(xtest_sb_597)\n",
    "fpr0, tpr0, _ = roc_curve(ytest_sb_597, y_score_sb_597[:, 1])\n",
    "roc_auc0 = auc(fpr0, tpr0)\n",
    "print(roc_auc0)\n",
    "\n",
    "plt.plot(fpr0, tpr0, color='darkorange', lw=3, label='$AUC_0$ = %.3f' % (roc_auc0))\n",
    "\n",
    "plt.plot([0, 1], [0, 1], color='navy', lw=2, linestyle='--')\n",
    "plt.xlim([0.0, 1.0])\n",
    "plt.ylim([0.0, 1.05])\n",
    "plt.xlabel('False Positive Rate', fontsize=16)\n",
    "plt.ylabel('True Positive Rate', fontsize=16)\n",
    "plt.title('ROC curve', fontsize=16)\n",
    "plt.legend(loc=\"lower right\", fontsize=14, frameon=False)\n",
    "plt.tick_params(axis='both', which='major', labelsize=16)\n",
    "plt.show()"
   ]
  },
  {
   "cell_type": "markdown",
   "metadata": {},
   "source": [
    "# 4 - NN"
   ]
  },
  {
   "cell_type": "code",
   "execution_count": 72,
   "metadata": {},
   "outputs": [],
   "source": [
    "def build_model_1( X_train):\n",
    "    optimizer='adagrad'\n",
    "    #optimizer='adam'\n",
    "    n_feature = X_train.shape[1]\n",
    "    model = Sequential()\n",
    "    model.add(Dense(32, input_dim=n_feature, activation='tanh'))\n",
    "    model.add(Dense(32, activation='tanh'))\n",
    "    model.add(Dense(32, activation='tanh'))\n",
    "    model.add(Dense(32, activation='tanh'))\n",
    "    model.add(Dense(32, activation='tanh'))\n",
    "    model.add(Dense(32, activation='tanh'))\n",
    "    model.add(Dense(32, activation='tanh'))\n",
    "    model.add(Dense(32, activation='tanh'))\n",
    "    # Linear\n",
    "    model.add(Dense(1, activation='sigmoid'))\n",
    "    model.compile(loss='binary_crossentropy', optimizer=optimizer, metrics=[\"AUC\"])\n",
    "    return model"
   ]
  },
  {
   "cell_type": "code",
   "execution_count": 73,
   "metadata": {},
   "outputs": [],
   "source": [
    "def build_model_2(X_train):\n",
    "    n_feature = X_train.shape[1]\n",
    "    model = Sequential()\n",
    "    model.add(Dense(128, input_dim=n_feature, activation='relu'))\n",
    "    model.add(Dense(32, activation='relu'))\n",
    "    model.add(Dense(32, activation='relu'))\n",
    "    model.add(Dense(32, activation='relu'))\n",
    "    model.add(Dense(32, activation='relu'))\n",
    "    # Linear\n",
    "    model.add(Dense(1, activation='sigmoid', kernel_regularizer=regularizers.l2(0.01)))\n",
    "    sgd = optimizers.SGD(learning_rate=0.1, momentum=0.9, nesterov=True)\n",
    "    model.compile(loss='binary_crossentropy', optimizer=sgd, metrics=[\"AUC\"])\n",
    "    return model"
   ]
  },
  {
   "cell_type": "code",
   "execution_count": 74,
   "metadata": {},
   "outputs": [
    {
     "name": "stdout",
     "output_type": "stream",
     "text": [
      "Epoch 1/30\n",
      "12370/12370 [==============================] - 16s 1ms/step - loss: 0.3221 - auc: 0.5824 - val_loss: 0.3160 - val_auc: 0.6208\n",
      "Epoch 2/30\n",
      "12370/12370 [==============================] - 15s 1ms/step - loss: 0.3129 - auc: 0.6183 - val_loss: 0.3107 - val_auc: 0.6292\n",
      "Epoch 3/30\n",
      "12370/12370 [==============================] - 15s 1ms/step - loss: 0.3112 - auc: 0.6275 - val_loss: 0.3102 - val_auc: 0.6338\n",
      "Epoch 4/30\n",
      "12370/12370 [==============================] - 15s 1ms/step - loss: 0.3107 - auc: 0.6318 - val_loss: 0.3097 - val_auc: 0.6374\n",
      "Epoch 5/30\n",
      "12370/12370 [==============================] - 15s 1ms/step - loss: 0.3102 - auc: 0.6361 - val_loss: 0.3092 - val_auc: 0.6412\n",
      "Epoch 6/30\n",
      "12370/12370 [==============================] - 16s 1ms/step - loss: 0.3096 - auc: 0.6403 - val_loss: 0.3087 - val_auc: 0.6456\n",
      "Epoch 7/30\n",
      "12370/12370 [==============================] - 15s 1ms/step - loss: 0.3090 - auc: 0.6440 - val_loss: 0.3081 - val_auc: 0.6506\n",
      "Epoch 8/30\n",
      "12370/12370 [==============================] - 15s 1ms/step - loss: 0.3083 - auc: 0.6492 - val_loss: 0.3073 - val_auc: 0.6538\n",
      "Epoch 9/30\n",
      "12370/12370 [==============================] - 15s 1ms/step - loss: 0.3075 - auc: 0.6528 - val_loss: 0.3065 - val_auc: 0.6585\n",
      "Epoch 10/30\n",
      "12370/12370 [==============================] - 16s 1ms/step - loss: 0.3065 - auc: 0.6577 - val_loss: 0.3055 - val_auc: 0.6623\n",
      "Epoch 11/30\n",
      "12370/12370 [==============================] - 15s 1ms/step - loss: 0.3054 - auc: 0.6619 - val_loss: 0.3044 - val_auc: 0.6663\n",
      "Epoch 12/30\n",
      "12370/12370 [==============================] - 15s 1ms/step - loss: 0.3040 - auc: 0.6659 - val_loss: 0.3030 - val_auc: 0.6701\n",
      "Epoch 13/30\n",
      "12370/12370 [==============================] - 15s 1ms/step - loss: 0.3024 - auc: 0.6704 - val_loss: 0.3015 - val_auc: 0.6741\n",
      "Epoch 14/30\n",
      "12370/12370 [==============================] - 16s 1ms/step - loss: 0.3008 - auc: 0.6741 - val_loss: 0.3005 - val_auc: 0.6768\n",
      "Epoch 15/30\n",
      "12370/12370 [==============================] - 15s 1ms/step - loss: 0.2994 - auc: 0.6775 - val_loss: 0.2989 - val_auc: 0.6799\n",
      "Epoch 16/30\n",
      "12370/12370 [==============================] - 15s 1ms/step - loss: 0.2981 - auc: 0.6800 - val_loss: 0.2980 - val_auc: 0.6827\n",
      "Epoch 17/30\n",
      "12370/12370 [==============================] - 15s 1ms/step - loss: 0.2971 - auc: 0.6834 - val_loss: 0.2972 - val_auc: 0.6840\n",
      "Epoch 18/30\n",
      "12370/12370 [==============================] - 16s 1ms/step - loss: 0.2963 - auc: 0.6856 - val_loss: 0.2967 - val_auc: 0.6863\n",
      "Epoch 19/30\n",
      "12370/12370 [==============================] - 15s 1ms/step - loss: 0.2957 - auc: 0.6874 - val_loss: 0.2962 - val_auc: 0.6873\n",
      "Epoch 20/30\n",
      "12370/12370 [==============================] - 15s 1ms/step - loss: 0.2951 - auc: 0.6890 - val_loss: 0.2957 - val_auc: 0.6883\n",
      "Epoch 21/30\n",
      "12370/12370 [==============================] - 15s 1ms/step - loss: 0.2947 - auc: 0.6903 - val_loss: 0.2955 - val_auc: 0.6892\n",
      "Epoch 22/30\n",
      "12370/12370 [==============================] - 15s 1ms/step - loss: 0.2942 - auc: 0.6913 - val_loss: 0.2952 - val_auc: 0.6902\n",
      "Epoch 23/30\n",
      "12370/12370 [==============================] - 15s 1ms/step - loss: 0.2939 - auc: 0.6926 - val_loss: 0.2947 - val_auc: 0.6913\n",
      "Epoch 24/30\n",
      "12370/12370 [==============================] - 15s 1ms/step - loss: 0.2935 - auc: 0.6938 - val_loss: 0.2946 - val_auc: 0.6922\n",
      "Epoch 25/30\n",
      "12370/12370 [==============================] - 15s 1ms/step - loss: 0.2932 - auc: 0.6945 - val_loss: 0.2943 - val_auc: 0.6929\n",
      "Epoch 26/30\n",
      "12370/12370 [==============================] - 16s 1ms/step - loss: 0.2930 - auc: 0.6951 - val_loss: 0.2941 - val_auc: 0.6933\n",
      "Epoch 27/30\n",
      "12370/12370 [==============================] - 16s 1ms/step - loss: 0.2927 - auc: 0.6962 - val_loss: 0.2938 - val_auc: 0.6937\n",
      "Epoch 28/30\n",
      "12370/12370 [==============================] - 15s 1ms/step - loss: 0.2925 - auc: 0.6965 - val_loss: 0.2937 - val_auc: 0.6944\n",
      "Epoch 29/30\n",
      "12370/12370 [==============================] - 15s 1ms/step - loss: 0.2923 - auc: 0.6973 - val_loss: 0.2935 - val_auc: 0.6947\n",
      "Epoch 30/30\n",
      "12370/12370 [==============================] - 15s 1ms/step - loss: 0.2920 - auc: 0.6978 - val_loss: 0.2933 - val_auc: 0.6956\n",
      "Epoch 1/30\n",
      "2474/2474 [==============================] - 4s 2ms/step - loss: 0.3235 - auc: 0.4960 - val_loss: 0.3220 - val_auc: 0.5000\n",
      "Epoch 2/30\n",
      "2474/2474 [==============================] - 4s 1ms/step - loss: 0.3223 - auc: 0.4959 - val_loss: 0.3219 - val_auc: 0.5000\n",
      "Epoch 3/30\n",
      "2474/2474 [==============================] - 4s 1ms/step - loss: 0.3214 - auc: 0.5253 - val_loss: 0.3198 - val_auc: 0.5763\n",
      "Epoch 4/30\n",
      "2474/2474 [==============================] - 4s 2ms/step - loss: 0.3166 - auc: 0.5849 - val_loss: 0.3117 - val_auc: 0.6324\n",
      "Epoch 5/30\n",
      "2474/2474 [==============================] - 4s 2ms/step - loss: 0.3150 - auc: 0.5987 - val_loss: 0.3125 - val_auc: 0.6172\n",
      "Epoch 6/30\n",
      "2474/2474 [==============================] - 4s 1ms/step - loss: 0.3145 - auc: 0.6061 - val_loss: 0.3101 - val_auc: 0.6421\n",
      "Epoch 7/30\n",
      "2474/2474 [==============================] - 4s 2ms/step - loss: 0.3135 - auc: 0.6129 - val_loss: 0.3129 - val_auc: 0.6267\n",
      "Epoch 8/30\n",
      "2474/2474 [==============================] - 4s 1ms/step - loss: 0.3126 - auc: 0.6205 - val_loss: 0.3083 - val_auc: 0.6587\n",
      "Epoch 9/30\n",
      "2474/2474 [==============================] - 4s 1ms/step - loss: 0.3121 - auc: 0.6180 - val_loss: 0.3099 - val_auc: 0.6583\n",
      "Epoch 10/30\n",
      "2474/2474 [==============================] - 4s 2ms/step - loss: 0.3107 - auc: 0.6259 - val_loss: 0.3238 - val_auc: 0.6647\n",
      "Epoch 11/30\n",
      "2474/2474 [==============================] - 4s 2ms/step - loss: 0.3134 - auc: 0.6176 - val_loss: 0.3203 - val_auc: 0.6730\n",
      "Epoch 12/30\n",
      "2474/2474 [==============================] - 4s 1ms/step - loss: 0.3126 - auc: 0.6239 - val_loss: 0.3091 - val_auc: 0.6824\n",
      "Epoch 13/30\n",
      "2474/2474 [==============================] - 4s 1ms/step - loss: 0.3128 - auc: 0.6118 - val_loss: 0.3079 - val_auc: 0.6820\n",
      "Epoch 14/30\n",
      "2474/2474 [==============================] - 4s 2ms/step - loss: 0.3119 - auc: 0.6219 - val_loss: 0.3096 - val_auc: 0.6802\n",
      "Epoch 15/30\n",
      "2474/2474 [==============================] - 4s 1ms/step - loss: 0.3099 - auc: 0.6362 - val_loss: 0.3027 - val_auc: 0.6865\n",
      "Epoch 16/30\n",
      "2474/2474 [==============================] - 4s 1ms/step - loss: 0.3063 - auc: 0.6506 - val_loss: 0.3008 - val_auc: 0.6969\n",
      "Epoch 17/30\n",
      "2474/2474 [==============================] - 4s 2ms/step - loss: 0.3059 - auc: 0.6477 - val_loss: 0.2971 - val_auc: 0.6963\n",
      "Epoch 18/30\n",
      "2474/2474 [==============================] - 4s 2ms/step - loss: 0.3054 - auc: 0.6538 - val_loss: 0.3167 - val_auc: 0.6936\n",
      "Epoch 19/30\n",
      "2474/2474 [==============================] - 4s 1ms/step - loss: 0.3046 - auc: 0.6559 - val_loss: 0.3040 - val_auc: 0.7006\n",
      "Epoch 20/30\n",
      "2474/2474 [==============================] - 4s 1ms/step - loss: 0.3162 - auc: 0.5647 - val_loss: 0.3220 - val_auc: 0.5000\n",
      "Epoch 21/30\n",
      "2474/2474 [==============================] - 4s 1ms/step - loss: 0.3222 - auc: 0.5047 - val_loss: 0.3219 - val_auc: 0.5000\n",
      "Epoch 22/30\n",
      "2474/2474 [==============================] - 4s 1ms/step - loss: 0.3222 - auc: 0.5059 - val_loss: 0.3232 - val_auc: 0.5000\n",
      "Epoch 23/30\n",
      "2474/2474 [==============================] - 4s 1ms/step - loss: 0.3223 - auc: 0.5034 - val_loss: 0.3225 - val_auc: 0.5000\n",
      "Epoch 24/30\n",
      "2474/2474 [==============================] - 4s 1ms/step - loss: 0.3222 - auc: 0.5053 - val_loss: 0.3231 - val_auc: 0.5000\n",
      "Epoch 25/30\n",
      "2474/2474 [==============================] - 4s 1ms/step - loss: 0.3223 - auc: 0.4989 - val_loss: 0.3221 - val_auc: 0.5000\n",
      "Epoch 26/30\n",
      "2474/2474 [==============================] - 4s 1ms/step - loss: 0.3223 - auc: 0.4995 - val_loss: 0.3222 - val_auc: 0.5000\n",
      "Epoch 27/30\n",
      "2474/2474 [==============================] - 4s 2ms/step - loss: 0.3223 - auc: 0.4977 - val_loss: 0.3219 - val_auc: 0.5000\n",
      "Epoch 28/30\n",
      "2474/2474 [==============================] - 4s 2ms/step - loss: 0.3223 - auc: 0.5011 - val_loss: 0.3227 - val_auc: 0.5000\n",
      "Epoch 29/30\n",
      "2474/2474 [==============================] - 4s 1ms/step - loss: 0.3222 - auc: 0.5035 - val_loss: 0.3220 - val_auc: 0.5000\n",
      "Epoch 30/30\n",
      "2474/2474 [==============================] - 4s 2ms/step - loss: 0.3223 - auc: 0.4983 - val_loss: 0.3219 - val_auc: 0.5000\n"
     ]
    }
   ],
   "source": [
    "model1_597 = build_model_1(xtrain_597)\n",
    "history1_597 = model1_597.fit(xtrain_597, ytrain_597, validation_data=(xtest_597, ytest_597), epochs=30, batch_size=10).history\n",
    "\n",
    "model2_597 = build_model_2(xtrain_597)\n",
    "history2_597 = model2_597.fit(xtrain_597, ytrain_597, validation_data=(xtest_597, ytest_597), epochs=30, batch_size=50).history"
   ]
  },
  {
   "cell_type": "code",
   "execution_count": 75,
   "metadata": {},
   "outputs": [
    {
     "data": {
      "image/png": "[encoded data removed]",
      "text/plain": [
       "<Figure size 432x288 with 1 Axes>"
      ]
     },
     "metadata": {
      "needs_background": "light"
     },
     "output_type": "display_data"
    }
   ],
   "source": [
    "plt.plot(history1_597['loss'], label='Loss 10 (batch_size)')\n",
    "plt.plot(history2_597['loss'], label='Loss 50 (batch_size)')\n",
    "plt.xlabel('Epochs')\n",
    "plt.ylabel('Cross-Entropy')\n",
    "plt.legend()\n",
    "plt.show()"
   ]
  },
  {
   "cell_type": "code",
   "execution_count": 76,
   "metadata": {},
   "outputs": [
    {
     "data": {
      "image/png": "[encoded data removed]",
      "text/plain": [
       "<Figure size 432x288 with 1 Axes>"
      ]
     },
     "metadata": {
      "needs_background": "light"
     },
     "output_type": "display_data"
    }
   ],
   "source": [
    "plt.plot(history1_597['loss'], label='Train')\n",
    "plt.plot(history1_597['val_loss'], label='Val')\n",
    "plt.xlabel('Epochs')\n",
    "plt.ylabel('Cross-Entropy')\n",
    "plt.legend()\n",
    "plt.show()"
   ]
  },
  {
   "cell_type": "code",
   "execution_count": 77,
   "metadata": {},
   "outputs": [
    {
     "data": {
      "image/png": "[encoded data removed]",
      "text/plain": [
       "<Figure size 432x288 with 1 Axes>"
      ]
     },
     "metadata": {
      "needs_background": "light"
     },
     "output_type": "display_data"
    }
   ],
   "source": [
    "plt.plot(history2_597['loss'], label='Train')\n",
    "plt.plot(history2_597['val_loss'], label='Val')\n",
    "plt.xlabel('Epochs')\n",
    "plt.ylabel('Cross-Entropy')\n",
    "plt.legend()\n",
    "plt.show()"
   ]
  },
  {
   "cell_type": "code",
   "execution_count": 78,
   "metadata": {},
   "outputs": [
    {
     "name": "stdout",
     "output_type": "stream",
     "text": [
      "1657/1657 [==============================] - 1s 866us/step - loss: 0.2933 - auc: 0.6956\n",
      "1657/1657 [==============================] - 1s 846us/step - loss: 0.3219 - auc: 0.5000\n",
      "Loss 0.293333, AUC 0.695588\n",
      "Loss 0.321902, AUC 0.500000\n"
     ]
    }
   ],
   "source": [
    "test_loss_1_597, test_auc_1_597 = model1_597.evaluate(xtest_597, ytest_597)\n",
    "test_loss_2_597, test_auc_2_597 = model2_597.evaluate(xtest_597, ytest_597)\n",
    "\n",
    "print('Loss %f, AUC %f' % (test_loss_1_597, test_auc_1_597))\n",
    "print('Loss %f, AUC %f' % (test_loss_2_597, test_auc_2_597))"
   ]
  },
  {
   "cell_type": "code",
   "execution_count": 79,
   "metadata": {},
   "outputs": [],
   "source": [
    "def create_model(X_train, learning_rate=0.1, momentum = 0.9, nesterov = True,\n",
    "                 activation = 'sigmoid', regularizer = 0.01, units=3, hidden_layers=1):\n",
    "    # create model\n",
    "    model = Sequential()\n",
    "    #initializer = initializers.RandomUniform(minval=0, maxval=0.5, seed=None)\n",
    "    model.add(Dense(units, input_dim=X_train.shape[1], activation = activation, \n",
    "                         kernel_regularizer=regularizers.l2(regularizer)))  \n",
    "    for i in range(1,hidden_layers):\n",
    "          model.add(Dense(units, activation = activation, \n",
    "                         kernel_regularizer=regularizers.l2(regularizer)))  \n",
    "    model.add(Dense(1, activation = 'sigmoid',  kernel_regularizer=regularizers.l2(regularizer)))\n",
    "    sgd = optimizers.SGD(learning_rate=learning_rate, momentum=momentum, nesterov=nesterov)\n",
    "    model.compile(optimizer=sgd, loss='binary_crossentropy', metrics=['AUC'])\n",
    "    return model"
   ]
  },
  {
   "cell_type": "code",
   "execution_count": 80,
   "metadata": {},
   "outputs": [],
   "source": [
    "param_list = {'batch_size': [128],\n",
    "              'epochs': [100],\n",
    "             'learning_rate': [0.261],\n",
    "             'momentum':[0.9],\n",
    "             'nesterov':[False],\n",
    "             'activation':['tanh'],\n",
    "              'regularizer':[0.0001],\n",
    "              'units': [10],\n",
    "             'hidden_layers': [1]}"
   ]
  },
  {
   "cell_type": "code",
   "execution_count": 81,
   "metadata": {},
   "outputs": [],
   "source": [
    "class Model:\n",
    "    def __init__(self, loss = 0, accuracy = 0, batch_size = 0, epochs = 0, learning_rate=0, momentum=0,nesterov=False,\n",
    "                activation='sigmoid', regularizer=0, units=0):\n",
    "        self.accuracy_CV_list = []\n",
    "        self.accuracy = accuracy\n",
    "        self.loss_CV_list = []\n",
    "        self.loss = loss\n",
    "        self.mee_list = []\n",
    "        self.mee = 0\n",
    "        self.std = 0\n",
    "        self.batch_size = batch_size\n",
    "        self.epochs = epochs\n",
    "        self.learning_rate = learning_rate\n",
    "        self.momentum = momentum\n",
    "        self.nesterov = nesterov\n",
    "        self.activation = activation\n",
    "        self.regularizer = regularizer\n",
    "        self.units = units\n",
    "        self.noise = 0\n",
    "    def toString(self):\n",
    "        print(\"\"\"{MEE: %f (+/- %0.2f), Number of Units: %d, Batch Size: %d, Epochs: %d, Learning Rate: %f, Momentum: %f,\n",
    "              \"Nesterov: %s, Activation: %s, Regularization: %f, Noise: %f}\"\"\" % \n",
    "              (self.mee, self.std, self.units, self.batch_size, self.epochs, self.learning_rate, self.momentum,\n",
    "              self.nesterov, self.activation, self.regularizer, self.noise))"
   ]
  },
  {
   "cell_type": "code",
   "execution_count": 82,
   "metadata": {},
   "outputs": [],
   "source": [
    "def GridSearchNN(X_train, Y_train, parameters, cv = 3, rand=False):\n",
    "    models = []\n",
    "    allNames = list(parameters)\n",
    "    combinations = itertools.product(*(parameters[Name] for Name in allNames))\n",
    "    searchList = []\n",
    "    if rand:\n",
    "        searchList = random.sample(list(combinations), k=100)\n",
    "    else:\n",
    "        searchList = list(combinations)\n",
    "    for i in searchList:\n",
    "        print(searchList.index(i), i)\n",
    "        batch_size = i[0]\n",
    "        epochs=i[1]\n",
    "        learning_rate=i[2]\n",
    "        momentum=i[3]\n",
    "        nesterov=i[4]\n",
    "        activation=i[5]\n",
    "        regularizer=i[6]\n",
    "        units = i[7]\n",
    "        temp = Model(batch_size=batch_size, epochs=epochs, learning_rate=learning_rate,\n",
    "                     momentum=momentum, nesterov=nesterov, activation=activation, regularizer=regularizer, units=units)\n",
    "        model = None # Clearing the NN.\n",
    "        model = create_model(X_train, learning_rate=learning_rate, momentum=momentum, nesterov=nesterov, \n",
    "                                 activation=activation, regularizer=regularizer, units=units)\n",
    "        r = model.fit(X_train, Y_train,validation_split = float(1.0/cv),\n",
    "                      batch_size =batch_size, epochs=epochs, verbose=1)\n",
    "        loss = r.history['val_loss'][-1]\n",
    "        #accuracy = r.history['val_acc'][-1]\n",
    "        temp.loss = loss\n",
    "        #temp.accuracy = accuracy\n",
    "        models.append(temp) \n",
    "          \n",
    "    result = sorted(models, key=lambda x: x.loss, reverse=False)\n",
    "    return result, r, model"
   ]
  },
  {
   "cell_type": "code",
   "execution_count": 83,
   "metadata": {
    "scrolled": true
   },
   "outputs": [
    {
     "name": "stdout",
     "output_type": "stream",
     "text": [
      "0 (128, 100, 0.261, 0.9, False, 'tanh', 0.0001, 10, 1)\n",
      "Epoch 1/100\n",
      "645/645 [==============================] - 1s 2ms/step - loss: 0.3254 - auc: 0.5399 - val_loss: 0.3136 - val_auc: 0.6287\n",
      "Epoch 2/100\n",
      "645/645 [==============================] - 1s 2ms/step - loss: 0.3174 - auc: 0.5988 - val_loss: 0.3112 - val_auc: 0.6355\n",
      "Epoch 3/100\n",
      "645/645 [==============================] - 1s 2ms/step - loss: 0.3160 - auc: 0.6099 - val_loss: 0.3145 - val_auc: 0.6389\n",
      "Epoch 4/100\n",
      "645/645 [==============================] - 1s 2ms/step - loss: 0.3170 - auc: 0.6053 - val_loss: 0.3138 - val_auc: 0.6412\n",
      "Epoch 5/100\n",
      "645/645 [==============================] - 1s 2ms/step - loss: 0.3158 - auc: 0.6112 - val_loss: 0.3101 - val_auc: 0.6440\n",
      "Epoch 6/100\n",
      "645/645 [==============================] - 1s 2ms/step - loss: 0.3159 - auc: 0.6114 - val_loss: 0.3100 - val_auc: 0.6454\n",
      "Epoch 7/100\n",
      "645/645 [==============================] - 1s 2ms/step - loss: 0.3157 - auc: 0.6154 - val_loss: 0.3180 - val_auc: 0.6462\n",
      "Epoch 8/100\n",
      "645/645 [==============================] - 1s 2ms/step - loss: 0.3156 - auc: 0.6127 - val_loss: 0.3154 - val_auc: 0.6507\n",
      "Epoch 9/100\n",
      "645/645 [==============================] - 1s 2ms/step - loss: 0.3158 - auc: 0.6148 - val_loss: 0.3103 - val_auc: 0.6501\n",
      "Epoch 10/100\n",
      "645/645 [==============================] - 1s 2ms/step - loss: 0.3157 - auc: 0.6126 - val_loss: 0.3102 - val_auc: 0.6512\n",
      "Epoch 11/100\n",
      "645/645 [==============================] - 1s 1ms/step - loss: 0.3158 - auc: 0.6141 - val_loss: 0.3097 - val_auc: 0.6536\n",
      "Epoch 12/100\n",
      "645/645 [==============================] - 1s 2ms/step - loss: 0.3155 - auc: 0.6182 - val_loss: 0.3105 - val_auc: 0.6519\n",
      "Epoch 13/100\n",
      "645/645 [==============================] - 1s 2ms/step - loss: 0.3158 - auc: 0.6137 - val_loss: 0.3114 - val_auc: 0.6542\n",
      "Epoch 14/100\n",
      "645/645 [==============================] - 1s 2ms/step - loss: 0.3155 - auc: 0.6161 - val_loss: 0.3110 - val_auc: 0.6535\n",
      "Epoch 15/100\n",
      "645/645 [==============================] - 1s 2ms/step - loss: 0.3159 - auc: 0.6128 - val_loss: 0.3116 - val_auc: 0.6526\n",
      "Epoch 16/100\n",
      "645/645 [==============================] - 1s 2ms/step - loss: 0.3159 - auc: 0.6149 - val_loss: 0.3128 - val_auc: 0.6532\n",
      "Epoch 17/100\n",
      "645/645 [==============================] - 1s 2ms/step - loss: 0.3162 - auc: 0.6115 - val_loss: 0.3100 - val_auc: 0.6514\n",
      "Epoch 18/100\n",
      "645/645 [==============================] - 1s 2ms/step - loss: 0.3156 - auc: 0.6149 - val_loss: 0.3102 - val_auc: 0.6504\n",
      "Epoch 19/100\n",
      "645/645 [==============================] - 1s 2ms/step - loss: 0.3159 - auc: 0.6148 - val_loss: 0.3185 - val_auc: 0.6530\n",
      "Epoch 20/100\n",
      "645/645 [==============================] - 1s 2ms/step - loss: 0.3164 - auc: 0.6108 - val_loss: 0.3102 - val_auc: 0.6490\n",
      "Epoch 21/100\n",
      "645/645 [==============================] - 1s 2ms/step - loss: 0.3156 - auc: 0.6139 - val_loss: 0.3106 - val_auc: 0.6532\n",
      "Epoch 22/100\n",
      "645/645 [==============================] - 1s 2ms/step - loss: 0.3162 - auc: 0.6109 - val_loss: 0.3117 - val_auc: 0.6518\n",
      "Epoch 23/100\n",
      "645/645 [==============================] - 1s 2ms/step - loss: 0.3153 - auc: 0.6189 - val_loss: 0.3118 - val_auc: 0.6522\n",
      "Epoch 24/100\n",
      "645/645 [==============================] - 1s 2ms/step - loss: 0.3159 - auc: 0.6152 - val_loss: 0.3100 - val_auc: 0.6531\n",
      "Epoch 25/100\n",
      "645/645 [==============================] - 1s 2ms/step - loss: 0.3160 - auc: 0.6114 - val_loss: 0.3106 - val_auc: 0.6524\n",
      "Epoch 26/100\n",
      "645/645 [==============================] - 1s 2ms/step - loss: 0.3151 - auc: 0.6198 - val_loss: 0.3128 - val_auc: 0.6546\n",
      "Epoch 27/100\n",
      "645/645 [==============================] - 1s 2ms/step - loss: 0.3150 - auc: 0.6197 - val_loss: 0.3141 - val_auc: 0.6559\n",
      "Epoch 28/100\n",
      "645/645 [==============================] - 1s 2ms/step - loss: 0.3162 - auc: 0.6133 - val_loss: 0.3095 - val_auc: 0.6533\n",
      "Epoch 29/100\n",
      "645/645 [==============================] - 1s 2ms/step - loss: 0.3162 - auc: 0.6125 - val_loss: 0.3097 - val_auc: 0.6525\n",
      "Epoch 30/100\n",
      "645/645 [==============================] - 1s 2ms/step - loss: 0.3165 - auc: 0.6070 - val_loss: 0.3101 - val_auc: 0.6505\n",
      "Epoch 31/100\n",
      "645/645 [==============================] - 1s 2ms/step - loss: 0.3158 - auc: 0.6161 - val_loss: 0.3100 - val_auc: 0.6524\n",
      "Epoch 32/100\n",
      "645/645 [==============================] - 1s 2ms/step - loss: 0.3153 - auc: 0.6165 - val_loss: 0.3152 - val_auc: 0.6523\n",
      "Epoch 33/100\n",
      "645/645 [==============================] - 1s 2ms/step - loss: 0.3152 - auc: 0.6195 - val_loss: 0.3095 - val_auc: 0.6544\n",
      "Epoch 34/100\n",
      "645/645 [==============================] - 1s 2ms/step - loss: 0.3159 - auc: 0.6148 - val_loss: 0.3143 - val_auc: 0.6558\n",
      "Epoch 35/100\n",
      "645/645 [==============================] - 1s 2ms/step - loss: 0.3153 - auc: 0.6181 - val_loss: 0.3117 - val_auc: 0.6558\n",
      "Epoch 36/100\n",
      "645/645 [==============================] - 1s 2ms/step - loss: 0.3153 - auc: 0.6208 - val_loss: 0.3095 - val_auc: 0.6573\n",
      "Epoch 37/100\n",
      "645/645 [==============================] - 1s 2ms/step - loss: 0.3164 - auc: 0.6108 - val_loss: 0.3097 - val_auc: 0.6536\n",
      "Epoch 38/100\n",
      "645/645 [==============================] - 1s 2ms/step - loss: 0.3156 - auc: 0.6186 - val_loss: 0.3095 - val_auc: 0.6541\n",
      "Epoch 39/100\n",
      "645/645 [==============================] - 1s 2ms/step - loss: 0.3157 - auc: 0.6148 - val_loss: 0.3122 - val_auc: 0.6512\n",
      "Epoch 40/100\n",
      "645/645 [==============================] - 1s 2ms/step - loss: 0.3169 - auc: 0.6059 - val_loss: 0.3115 - val_auc: 0.6518\n",
      "Epoch 41/100\n",
      "645/645 [==============================] - 1s 2ms/step - loss: 0.3163 - auc: 0.6093 - val_loss: 0.3128 - val_auc: 0.6519\n",
      "Epoch 42/100\n",
      "645/645 [==============================] - 1s 2ms/step - loss: 0.3152 - auc: 0.6177 - val_loss: 0.3098 - val_auc: 0.6531\n",
      "Epoch 43/100\n",
      "645/645 [==============================] - 1s 2ms/step - loss: 0.3158 - auc: 0.6153 - val_loss: 0.3107 - val_auc: 0.6522\n",
      "Epoch 44/100\n",
      "645/645 [==============================] - 1s 2ms/step - loss: 0.3164 - auc: 0.6108 - val_loss: 0.3103 - val_auc: 0.6493\n",
      "Epoch 45/100\n",
      "645/645 [==============================] - 1s 2ms/step - loss: 0.3154 - auc: 0.6191 - val_loss: 0.3095 - val_auc: 0.6527\n",
      "Epoch 46/100\n",
      "645/645 [==============================] - 1s 2ms/step - loss: 0.3152 - auc: 0.6198 - val_loss: 0.3099 - val_auc: 0.6545\n",
      "Epoch 47/100\n",
      "645/645 [==============================] - 1s 2ms/step - loss: 0.3157 - auc: 0.6161 - val_loss: 0.3103 - val_auc: 0.6527\n",
      "Epoch 48/100\n",
      "645/645 [==============================] - 1s 2ms/step - loss: 0.3157 - auc: 0.6167 - val_loss: 0.3143 - val_auc: 0.6510\n",
      "Epoch 49/100\n",
      "645/645 [==============================] - 1s 2ms/step - loss: 0.3153 - auc: 0.6191 - val_loss: 0.3166 - val_auc: 0.6525\n",
      "Epoch 50/100\n",
      "645/645 [==============================] - 1s 2ms/step - loss: 0.3158 - auc: 0.6143 - val_loss: 0.3105 - val_auc: 0.6535\n",
      "Epoch 51/100\n",
      "645/645 [==============================] - 1s 2ms/step - loss: 0.3157 - auc: 0.6141 - val_loss: 0.3111 - val_auc: 0.6533\n",
      "Epoch 52/100\n",
      "645/645 [==============================] - 1s 2ms/step - loss: 0.3161 - auc: 0.6135 - val_loss: 0.3138 - val_auc: 0.6528\n",
      "Epoch 53/100\n",
      "645/645 [==============================] - 1s 2ms/step - loss: 0.3161 - auc: 0.6131 - val_loss: 0.3110 - val_auc: 0.6519\n",
      "Epoch 54/100\n",
      "645/645 [==============================] - 1s 2ms/step - loss: 0.3160 - auc: 0.6147 - val_loss: 0.3120 - val_auc: 0.6506\n",
      "Epoch 55/100\n",
      "645/645 [==============================] - 1s 2ms/step - loss: 0.3156 - auc: 0.6178 - val_loss: 0.3109 - val_auc: 0.6540\n",
      "Epoch 56/100\n",
      "645/645 [==============================] - 1s 2ms/step - loss: 0.3160 - auc: 0.6122 - val_loss: 0.3175 - val_auc: 0.6531\n",
      "Epoch 57/100\n",
      "645/645 [==============================] - 1s 2ms/step - loss: 0.3156 - auc: 0.6151 - val_loss: 0.3139 - val_auc: 0.6516\n",
      "Epoch 58/100\n",
      "645/645 [==============================] - 1s 2ms/step - loss: 0.3160 - auc: 0.6145 - val_loss: 0.3131 - val_auc: 0.6515\n",
      "Epoch 59/100\n",
      "645/645 [==============================] - 1s 2ms/step - loss: 0.3159 - auc: 0.6127 - val_loss: 0.3097 - val_auc: 0.6522\n",
      "Epoch 60/100\n",
      "645/645 [==============================] - 1s 2ms/step - loss: 0.3159 - auc: 0.6159 - val_loss: 0.3136 - val_auc: 0.6493\n",
      "Epoch 61/100\n",
      "645/645 [==============================] - 1s 2ms/step - loss: 0.3156 - auc: 0.6177 - val_loss: 0.3127 - val_auc: 0.6521\n"
     ]
    },
    {
     "name": "stdout",
     "output_type": "stream",
     "text": [
      "Epoch 62/100\n",
      "645/645 [==============================] - 1s 2ms/step - loss: 0.3157 - auc: 0.6179 - val_loss: 0.3103 - val_auc: 0.6538\n",
      "Epoch 63/100\n",
      "645/645 [==============================] - 1s 2ms/step - loss: 0.3159 - auc: 0.6165 - val_loss: 0.3179 - val_auc: 0.6500\n",
      "Epoch 64/100\n",
      "645/645 [==============================] - 1s 2ms/step - loss: 0.3158 - auc: 0.6140 - val_loss: 0.3148 - val_auc: 0.6536\n",
      "Epoch 65/100\n",
      "645/645 [==============================] - 1s 2ms/step - loss: 0.3158 - auc: 0.6133 - val_loss: 0.3102 - val_auc: 0.6526\n",
      "Epoch 66/100\n",
      "645/645 [==============================] - 1s 2ms/step - loss: 0.3149 - auc: 0.6226 - val_loss: 0.3093 - val_auc: 0.6551\n",
      "Epoch 67/100\n",
      "645/645 [==============================] - 1s 2ms/step - loss: 0.3155 - auc: 0.6173 - val_loss: 0.3125 - val_auc: 0.6559\n",
      "Epoch 68/100\n",
      "645/645 [==============================] - 1s 2ms/step - loss: 0.3157 - auc: 0.6143 - val_loss: 0.3096 - val_auc: 0.6545\n",
      "Epoch 69/100\n",
      "645/645 [==============================] - 1s 2ms/step - loss: 0.3155 - auc: 0.6190 - val_loss: 0.3099 - val_auc: 0.6542\n",
      "Epoch 70/100\n",
      "645/645 [==============================] - 1s 2ms/step - loss: 0.3168 - auc: 0.6085 - val_loss: 0.3107 - val_auc: 0.6513\n",
      "Epoch 71/100\n",
      "645/645 [==============================] - 1s 2ms/step - loss: 0.3151 - auc: 0.6209 - val_loss: 0.3119 - val_auc: 0.6540\n",
      "Epoch 72/100\n",
      "645/645 [==============================] - 1s 2ms/step - loss: 0.3151 - auc: 0.6213 - val_loss: 0.3101 - val_auc: 0.6561\n",
      "Epoch 73/100\n",
      "645/645 [==============================] - 1s 2ms/step - loss: 0.3151 - auc: 0.6201 - val_loss: 0.3106 - val_auc: 0.6579\n",
      "Epoch 74/100\n",
      "645/645 [==============================] - 1s 2ms/step - loss: 0.3159 - auc: 0.6139 - val_loss: 0.3104 - val_auc: 0.6553\n",
      "Epoch 75/100\n",
      "645/645 [==============================] - 1s 2ms/step - loss: 0.3159 - auc: 0.6160 - val_loss: 0.3145 - val_auc: 0.6543\n",
      "Epoch 76/100\n",
      "645/645 [==============================] - 1s 2ms/step - loss: 0.3164 - auc: 0.6118 - val_loss: 0.3114 - val_auc: 0.6532\n",
      "Epoch 77/100\n",
      "645/645 [==============================] - 1s 2ms/step - loss: 0.3160 - auc: 0.6144 - val_loss: 0.3102 - val_auc: 0.6526\n",
      "Epoch 78/100\n",
      "645/645 [==============================] - 1s 2ms/step - loss: 0.3153 - auc: 0.6207 - val_loss: 0.3110 - val_auc: 0.6534\n",
      "Epoch 79/100\n",
      "645/645 [==============================] - 1s 2ms/step - loss: 0.3156 - auc: 0.6152 - val_loss: 0.3139 - val_auc: 0.6558\n",
      "Epoch 80/100\n",
      "645/645 [==============================] - 1s 2ms/step - loss: 0.3165 - auc: 0.6115 - val_loss: 0.3172 - val_auc: 0.6532\n",
      "Epoch 81/100\n",
      "645/645 [==============================] - 1s 2ms/step - loss: 0.3155 - auc: 0.6194 - val_loss: 0.3102 - val_auc: 0.6537\n",
      "Epoch 82/100\n",
      "645/645 [==============================] - 1s 2ms/step - loss: 0.3161 - auc: 0.6105 - val_loss: 0.3117 - val_auc: 0.6510\n",
      "Epoch 83/100\n",
      "645/645 [==============================] - 1s 2ms/step - loss: 0.3156 - auc: 0.6163 - val_loss: 0.3121 - val_auc: 0.6537\n",
      "Epoch 84/100\n",
      "645/645 [==============================] - 1s 2ms/step - loss: 0.3156 - auc: 0.6184 - val_loss: 0.3095 - val_auc: 0.6528\n",
      "Epoch 85/100\n",
      "645/645 [==============================] - 1s 2ms/step - loss: 0.3157 - auc: 0.6151 - val_loss: 0.3102 - val_auc: 0.6531\n",
      "Epoch 86/100\n",
      "645/645 [==============================] - 1s 2ms/step - loss: 0.3160 - auc: 0.6132 - val_loss: 0.3110 - val_auc: 0.6503\n",
      "Epoch 87/100\n",
      "645/645 [==============================] - 1s 2ms/step - loss: 0.3156 - auc: 0.6171 - val_loss: 0.3112 - val_auc: 0.6524\n",
      "Epoch 88/100\n",
      "645/645 [==============================] - 1s 2ms/step - loss: 0.3153 - auc: 0.6175 - val_loss: 0.3095 - val_auc: 0.6548\n",
      "Epoch 89/100\n",
      "645/645 [==============================] - 1s 2ms/step - loss: 0.3155 - auc: 0.6143 - val_loss: 0.3097 - val_auc: 0.6543\n",
      "Epoch 90/100\n",
      "645/645 [==============================] - 1s 2ms/step - loss: 0.3160 - auc: 0.6133 - val_loss: 0.3163 - val_auc: 0.6521\n",
      "Epoch 91/100\n",
      "645/645 [==============================] - 1s 2ms/step - loss: 0.3164 - auc: 0.6091 - val_loss: 0.3131 - val_auc: 0.6503\n",
      "Epoch 92/100\n",
      "645/645 [==============================] - 1s 2ms/step - loss: 0.3166 - auc: 0.6092 - val_loss: 0.3129 - val_auc: 0.6484\n",
      "Epoch 93/100\n",
      "645/645 [==============================] - 1s 2ms/step - loss: 0.3156 - auc: 0.6159 - val_loss: 0.3112 - val_auc: 0.6530\n",
      "Epoch 94/100\n",
      "645/645 [==============================] - 1s 2ms/step - loss: 0.3154 - auc: 0.6179 - val_loss: 0.3112 - val_auc: 0.6537\n",
      "Epoch 95/100\n",
      "645/645 [==============================] - 1s 2ms/step - loss: 0.3151 - auc: 0.6195 - val_loss: 0.3095 - val_auc: 0.6548\n",
      "Epoch 96/100\n",
      "645/645 [==============================] - 1s 2ms/step - loss: 0.3156 - auc: 0.6175 - val_loss: 0.3111 - val_auc: 0.6533\n",
      "Epoch 97/100\n",
      "645/645 [==============================] - 1s 2ms/step - loss: 0.3147 - auc: 0.6233 - val_loss: 0.3101 - val_auc: 0.6561\n",
      "Epoch 98/100\n",
      "645/645 [==============================] - 1s 2ms/step - loss: 0.3154 - auc: 0.6178 - val_loss: 0.3109 - val_auc: 0.6554\n",
      "Epoch 99/100\n",
      "645/645 [==============================] - 1s 2ms/step - loss: 0.3155 - auc: 0.6173 - val_loss: 0.3092 - val_auc: 0.6565\n",
      "Epoch 100/100\n",
      "645/645 [==============================] - 1s 2ms/step - loss: 0.3152 - auc: 0.6202 - val_loss: 0.3122 - val_auc: 0.6585\n"
     ]
    }
   ],
   "source": [
    "allModels_597, r_597, model_597 = GridSearchNN(xtrain_597, ytrain_597, param_list, cv=3, rand=False)"
   ]
  },
  {
   "cell_type": "code",
   "execution_count": 84,
   "metadata": {},
   "outputs": [
    {
     "name": "stdout",
     "output_type": "stream",
     "text": [
      "WARNING:tensorflow:From <ipython-input-84-c3d12cfdea5c>:1: Sequential.predict_classes (from tensorflow.python.keras.engine.sequential) is deprecated and will be removed after 2021-01-01.\n",
      "Instructions for updating:\n",
      "Please use instead:* `np.argmax(model.predict(x), axis=-1)`,   if your model does multi-class classification   (e.g. if it uses a `softmax` last-layer activation).* `(model.predict(x) > 0.5).astype(\"int32\")`,   if your model does binary classification   (e.g. if it uses a `sigmoid` last-layer activation).\n"
     ]
    }
   ],
   "source": [
    "pred_597 = model_597.predict_classes(xtest_597)"
   ]
  },
  {
   "cell_type": "code",
   "execution_count": 85,
   "metadata": {},
   "outputs": [],
   "source": [
    "y_pred_keras_597 = model_597.predict(xtest_597).ravel()\n",
    "fpr_keras, tpr_keras, thresholds_keras = roc_curve(ytest_597, y_pred_keras_597)\n",
    "auc_keras_597 = auc(fpr_keras, tpr_keras)"
   ]
  },
  {
   "cell_type": "code",
   "execution_count": 86,
   "metadata": {},
   "outputs": [
    {
     "data": {
      "image/png": "[encoded data removed]",
      "text/plain": [
       "<Figure size 432x288 with 1 Axes>"
      ]
     },
     "metadata": {
      "needs_background": "light"
     },
     "output_type": "display_data"
    }
   ],
   "source": [
    "plt.figure(1)\n",
    "plt.plot([0, 1], [0, 1], 'k--')\n",
    "plt.plot(fpr_keras, tpr_keras, label='Keras 597 (area = {:.3f})'.format(auc_keras_597))\n",
    "\n",
    "plt.xlabel('False positive rate')\n",
    "plt.ylabel('True positive rate')\n",
    "plt.title('ROC curve')\n",
    "plt.legend(loc='best')\n",
    "plt.show()"
   ]
  },
  {
   "cell_type": "markdown",
   "metadata": {},
   "source": [
    "# 4 - NN_Bilanciato"
   ]
  },
  {
   "cell_type": "code",
   "execution_count": 87,
   "metadata": {},
   "outputs": [
    {
     "name": "stdout",
     "output_type": "stream",
     "text": [
      "Epoch 1/30\n",
      "2439/2439 [==============================] - 3s 1ms/step - loss: 0.6917 - auc: 0.5478 - val_loss: 0.6907 - val_auc: 0.5928\n",
      "Epoch 2/30\n",
      "2439/2439 [==============================] - 3s 1ms/step - loss: 0.6891 - auc: 0.5943 - val_loss: 0.6868 - val_auc: 0.6111\n",
      "Epoch 3/30\n",
      "2439/2439 [==============================] - 3s 1ms/step - loss: 0.6827 - auc: 0.6089 - val_loss: 0.6776 - val_auc: 0.6191\n",
      "Epoch 4/30\n",
      "2439/2439 [==============================] - 3s 1ms/step - loss: 0.6722 - auc: 0.6182 - val_loss: 0.6681 - val_auc: 0.6228\n",
      "Epoch 5/30\n",
      "2439/2439 [==============================] - 3s 1ms/step - loss: 0.6670 - auc: 0.6239 - val_loss: 0.6662 - val_auc: 0.6260\n",
      "Epoch 6/30\n",
      "2439/2439 [==============================] - 3s 1ms/step - loss: 0.6655 - auc: 0.6283 - val_loss: 0.6652 - val_auc: 0.6295\n",
      "Epoch 7/30\n",
      "2439/2439 [==============================] - 3s 1ms/step - loss: 0.6645 - auc: 0.6321 - val_loss: 0.6644 - val_auc: 0.6329\n",
      "Epoch 8/30\n",
      "2439/2439 [==============================] - 3s 1ms/step - loss: 0.6634 - auc: 0.6352 - val_loss: 0.6635 - val_auc: 0.6361\n",
      "Epoch 9/30\n",
      "2439/2439 [==============================] - 3s 1ms/step - loss: 0.6625 - auc: 0.6390 - val_loss: 0.6627 - val_auc: 0.6387\n",
      "Epoch 10/30\n",
      "2439/2439 [==============================] - 3s 1ms/step - loss: 0.6614 - auc: 0.6426 - val_loss: 0.6618 - val_auc: 0.6418\n",
      "Epoch 11/30\n",
      "2439/2439 [==============================] - 3s 1ms/step - loss: 0.6603 - auc: 0.6457 - val_loss: 0.6608 - val_auc: 0.6449\n",
      "Epoch 12/30\n",
      "2439/2439 [==============================] - 3s 1ms/step - loss: 0.6590 - auc: 0.6491 - val_loss: 0.6597 - val_auc: 0.6481\n",
      "Epoch 13/30\n",
      "2439/2439 [==============================] - 3s 1ms/step - loss: 0.6577 - auc: 0.6527 - val_loss: 0.6587 - val_auc: 0.6507\n",
      "Epoch 14/30\n",
      "2439/2439 [==============================] - 3s 1ms/step - loss: 0.6562 - auc: 0.6561 - val_loss: 0.6574 - val_auc: 0.6535\n",
      "Epoch 15/30\n",
      "2439/2439 [==============================] - 3s 1ms/step - loss: 0.6545 - auc: 0.6597 - val_loss: 0.6558 - val_auc: 0.6567\n",
      "Epoch 16/30\n",
      "2439/2439 [==============================] - 3s 1ms/step - loss: 0.6526 - auc: 0.6632 - val_loss: 0.6541 - val_auc: 0.6597\n",
      "Epoch 17/30\n",
      "2439/2439 [==============================] - 3s 1ms/step - loss: 0.6504 - auc: 0.6668 - val_loss: 0.6528 - val_auc: 0.6622\n",
      "Epoch 18/30\n",
      "2439/2439 [==============================] - 3s 1ms/step - loss: 0.6480 - auc: 0.6700 - val_loss: 0.6503 - val_auc: 0.6650\n",
      "Epoch 19/30\n",
      "2439/2439 [==============================] - 3s 1ms/step - loss: 0.6454 - auc: 0.6735 - val_loss: 0.6482 - val_auc: 0.6676\n",
      "Epoch 20/30\n",
      "2439/2439 [==============================] - 3s 1ms/step - loss: 0.6426 - auc: 0.6770 - val_loss: 0.6461 - val_auc: 0.6698\n",
      "Epoch 21/30\n",
      "2439/2439 [==============================] - 3s 1ms/step - loss: 0.6400 - auc: 0.6800 - val_loss: 0.6443 - val_auc: 0.6720\n",
      "Epoch 22/30\n",
      "2439/2439 [==============================] - 3s 1ms/step - loss: 0.6377 - auc: 0.6830 - val_loss: 0.6429 - val_auc: 0.6739\n",
      "Epoch 23/30\n",
      "2439/2439 [==============================] - 3s 1ms/step - loss: 0.6356 - auc: 0.6854 - val_loss: 0.6414 - val_auc: 0.6759\n",
      "Epoch 24/30\n",
      "2439/2439 [==============================] - 3s 1ms/step - loss: 0.6339 - auc: 0.6877 - val_loss: 0.6403 - val_auc: 0.6779\n",
      "Epoch 25/30\n",
      "2439/2439 [==============================] - 3s 1ms/step - loss: 0.6323 - auc: 0.6902 - val_loss: 0.6393 - val_auc: 0.6798\n",
      "Epoch 26/30\n",
      "2439/2439 [==============================] - 3s 1ms/step - loss: 0.6311 - auc: 0.6918 - val_loss: 0.6383 - val_auc: 0.6814\n",
      "Epoch 27/30\n",
      "2439/2439 [==============================] - 3s 1ms/step - loss: 0.6298 - auc: 0.6937 - val_loss: 0.6380 - val_auc: 0.6828\n",
      "Epoch 28/30\n",
      "2439/2439 [==============================] - 3s 1ms/step - loss: 0.6289 - auc: 0.6956 - val_loss: 0.6369 - val_auc: 0.6841\n",
      "Epoch 29/30\n",
      "2439/2439 [==============================] - 3s 1ms/step - loss: 0.6280 - auc: 0.6969 - val_loss: 0.6362 - val_auc: 0.6855\n",
      "Epoch 30/30\n",
      "2439/2439 [==============================] - 3s 1ms/step - loss: 0.6270 - auc: 0.6983 - val_loss: 0.6356 - val_auc: 0.6865\n",
      "Epoch 1/30\n",
      "488/488 [==============================] - 1s 2ms/step - loss: 0.6890 - auc: 0.5548 - val_loss: 0.6855 - val_auc: 0.5896\n",
      "Epoch 2/30\n",
      "488/488 [==============================] - 1s 2ms/step - loss: 0.6741 - auc: 0.6026 - val_loss: 0.6692 - val_auc: 0.6344\n",
      "Epoch 3/30\n",
      "488/488 [==============================] - 1s 2ms/step - loss: 0.6719 - auc: 0.6086 - val_loss: 0.6739 - val_auc: 0.6408\n",
      "Epoch 4/30\n",
      "488/488 [==============================] - 1s 2ms/step - loss: 0.6715 - auc: 0.6102 - val_loss: 0.6688 - val_auc: 0.6437\n",
      "Epoch 5/30\n",
      "488/488 [==============================] - 1s 2ms/step - loss: 0.6688 - auc: 0.6212 - val_loss: 0.6749 - val_auc: 0.6498\n",
      "Epoch 6/30\n",
      "488/488 [==============================] - 1s 2ms/step - loss: 0.6697 - auc: 0.6176 - val_loss: 0.6734 - val_auc: 0.6489\n",
      "Epoch 7/30\n",
      "488/488 [==============================] - 1s 2ms/step - loss: 0.6654 - auc: 0.6309 - val_loss: 0.6579 - val_auc: 0.6611\n",
      "Epoch 8/30\n",
      "488/488 [==============================] - 1s 2ms/step - loss: 0.6649 - auc: 0.6307 - val_loss: 0.6779 - val_auc: 0.6668\n",
      "Epoch 9/30\n",
      "488/488 [==============================] - 1s 2ms/step - loss: 0.6668 - auc: 0.6250 - val_loss: 0.6740 - val_auc: 0.5398\n",
      "Epoch 10/30\n",
      "488/488 [==============================] - 1s 2ms/step - loss: 0.6633 - auc: 0.6360 - val_loss: 0.6540 - val_auc: 0.6698\n",
      "Epoch 11/30\n",
      "488/488 [==============================] - 1s 2ms/step - loss: 0.6597 - auc: 0.6446 - val_loss: 0.6482 - val_auc: 0.6812\n",
      "Epoch 12/30\n",
      "488/488 [==============================] - 1s 2ms/step - loss: 0.6553 - auc: 0.6537 - val_loss: 0.6794 - val_auc: 0.6864\n",
      "Epoch 13/30\n",
      "488/488 [==============================] - 1s 2ms/step - loss: 0.6711 - auc: 0.6161 - val_loss: 0.6679 - val_auc: 0.6743\n",
      "Epoch 14/30\n",
      "488/488 [==============================] - 1s 2ms/step - loss: 0.6646 - auc: 0.6380 - val_loss: 0.6509 - val_auc: 0.6816\n",
      "Epoch 15/30\n",
      "488/488 [==============================] - 1s 2ms/step - loss: 0.6644 - auc: 0.6352 - val_loss: 0.6656 - val_auc: 0.6732\n",
      "Epoch 16/30\n",
      "488/488 [==============================] - 1s 2ms/step - loss: 0.6594 - auc: 0.6442 - val_loss: 0.6480 - val_auc: 0.6851\n",
      "Epoch 17/30\n",
      "488/488 [==============================] - 1s 2ms/step - loss: 0.6577 - auc: 0.6507 - val_loss: 0.6452 - val_auc: 0.6887\n",
      "Epoch 18/30\n",
      "488/488 [==============================] - 1s 2ms/step - loss: 0.6660 - auc: 0.6309 - val_loss: 0.6952 - val_auc: 0.5021\n",
      "Epoch 19/30\n",
      "488/488 [==============================] - 1s 2ms/step - loss: 0.6837 - auc: 0.5602 - val_loss: 0.6491 - val_auc: 0.6845\n",
      "Epoch 20/30\n",
      "488/488 [==============================] - 1s 2ms/step - loss: 0.6633 - auc: 0.6395 - val_loss: 0.6712 - val_auc: 0.6871\n",
      "Epoch 21/30\n",
      "488/488 [==============================] - 1s 2ms/step - loss: 0.6517 - auc: 0.6613 - val_loss: 0.6380 - val_auc: 0.6944\n",
      "Epoch 22/30\n",
      "488/488 [==============================] - 1s 2ms/step - loss: 0.6728 - auc: 0.6196 - val_loss: 0.6567 - val_auc: 0.6902\n",
      "Epoch 23/30\n",
      "488/488 [==============================] - 1s 2ms/step - loss: 0.6626 - auc: 0.6419 - val_loss: 0.6456 - val_auc: 0.6879\n",
      "Epoch 24/30\n",
      "488/488 [==============================] - 1s 2ms/step - loss: 0.6601 - auc: 0.6464 - val_loss: 0.6852 - val_auc: 0.6916\n",
      "Epoch 25/30\n",
      "488/488 [==============================] - 1s 2ms/step - loss: 0.6572 - auc: 0.6535 - val_loss: 0.6743 - val_auc: 0.6929\n",
      "Epoch 26/30\n",
      "488/488 [==============================] - 1s 2ms/step - loss: 0.6531 - auc: 0.6622 - val_loss: 0.6363 - val_auc: 0.6967\n",
      "Epoch 27/30\n",
      "488/488 [==============================] - 1s 2ms/step - loss: 0.6508 - auc: 0.6637 - val_loss: 0.6532 - val_auc: 0.6965\n",
      "Epoch 28/30\n",
      "488/488 [==============================] - 1s 2ms/step - loss: 0.6602 - auc: 0.6466 - val_loss: 0.6521 - val_auc: 0.6972\n",
      "Epoch 29/30\n",
      "488/488 [==============================] - 1s 2ms/step - loss: 0.6608 - auc: 0.6526 - val_loss: 0.6396 - val_auc: 0.6976\n",
      "Epoch 30/30\n",
      "488/488 [==============================] - 1s 2ms/step - loss: 0.6544 - auc: 0.6649 - val_loss: 0.6488 - val_auc: 0.6987\n"
     ]
    }
   ],
   "source": [
    "model1_sb_597 = build_model_1(xtrain_sb_597)\n",
    "history1_sb_597 = model1_sb_597.fit(xtrain_sb_597, ytrain_sb_597, validation_data=(xtest_sb_597, ytest_sb_597), epochs=30, batch_size=10).history\n",
    "\n",
    "model2_sb_597 = build_model_2(xtrain_sb_597)\n",
    "history2_sb_597 = model2_sb_597.fit(xtrain_sb_597, ytrain_sb_597, validation_data=(xtest_sb_597, ytest_sb_597), epochs=30, batch_size=50).history"
   ]
  },
  {
   "cell_type": "code",
   "execution_count": 88,
   "metadata": {},
   "outputs": [
    {
     "name": "stdout",
     "output_type": "stream",
     "text": [
      "327/327 [==============================] - 0s 1ms/step - loss: 0.6356 - auc: 0.6865\n",
      "327/327 [==============================] - 0s 1ms/step - loss: 0.6488 - auc: 0.6987\n",
      "Loss 0.635597, AUC 0.686511\n",
      "Loss 0.648818, AUC 0.698730\n"
     ]
    }
   ],
   "source": [
    "test_loss_1_sb_597, test_auc_1_sb_597 = model1_sb_597.evaluate(xtest_sb_597, ytest_sb_597)\n",
    "test_loss_2_sb_597, test_auc_2_sb_597 = model2_sb_597.evaluate(xtest_sb_597, ytest_sb_597)\n",
    "\n",
    "print('Loss %f, AUC %f' % (test_loss_1_sb_597, test_auc_1_sb_597))\n",
    "print('Loss %f, AUC %f' % (test_loss_2_sb_597, test_auc_2_sb_597))"
   ]
  },
  {
   "cell_type": "code",
   "execution_count": 90,
   "metadata": {},
   "outputs": [
    {
     "name": "stdout",
     "output_type": "stream",
     "text": [
      "0 (128, 100, 0.261, 0.9, False, 'tanh', 0.0001, 10, 1)\n",
      "Epoch 1/100\n",
      "127/127 [==============================] - 1s 4ms/step - loss: 0.6925 - auc: 0.5413 - val_loss: 0.6883 - val_auc: 0.6233\n",
      "Epoch 2/100\n",
      "127/127 [==============================] - 0s 2ms/step - loss: 0.6796 - auc: 0.5892 - val_loss: 0.6717 - val_auc: 0.6280\n",
      "Epoch 3/100\n",
      "127/127 [==============================] - 0s 2ms/step - loss: 0.6734 - auc: 0.6091 - val_loss: 0.6814 - val_auc: 0.6330\n",
      "Epoch 4/100\n",
      "127/127 [==============================] - 0s 2ms/step - loss: 0.6721 - auc: 0.6133 - val_loss: 0.6683 - val_auc: 0.6371\n",
      "Epoch 5/100\n",
      "127/127 [==============================] - 0s 2ms/step - loss: 0.6745 - auc: 0.6070 - val_loss: 0.6743 - val_auc: 0.6405\n",
      "Epoch 6/100\n",
      "127/127 [==============================] - 0s 2ms/step - loss: 0.6731 - auc: 0.6117 - val_loss: 0.6689 - val_auc: 0.6430\n",
      "Epoch 7/100\n",
      "127/127 [==============================] - 0s 2ms/step - loss: 0.6717 - auc: 0.6150 - val_loss: 0.6665 - val_auc: 0.6448\n",
      "Epoch 8/100\n",
      "127/127 [==============================] - 0s 2ms/step - loss: 0.6711 - auc: 0.6191 - val_loss: 0.6724 - val_auc: 0.6483\n",
      "Epoch 9/100\n",
      "127/127 [==============================] - 0s 2ms/step - loss: 0.6698 - auc: 0.6215 - val_loss: 0.6671 - val_auc: 0.6500\n",
      "Epoch 10/100\n",
      "127/127 [==============================] - 0s 2ms/step - loss: 0.6673 - auc: 0.6311 - val_loss: 0.6671 - val_auc: 0.6538\n",
      "Epoch 11/100\n",
      "127/127 [==============================] - 0s 2ms/step - loss: 0.6709 - auc: 0.6199 - val_loss: 0.6679 - val_auc: 0.6564\n",
      "Epoch 12/100\n",
      "127/127 [==============================] - 0s 2ms/step - loss: 0.6683 - auc: 0.6284 - val_loss: 0.6690 - val_auc: 0.6598\n",
      "Epoch 13/100\n",
      "127/127 [==============================] - 0s 2ms/step - loss: 0.6729 - auc: 0.6145 - val_loss: 0.7281 - val_auc: 0.6596\n",
      "Epoch 14/100\n",
      "127/127 [==============================] - 0s 2ms/step - loss: 0.6711 - auc: 0.6203 - val_loss: 0.6780 - val_auc: 0.6607\n",
      "Epoch 15/100\n",
      "127/127 [==============================] - 0s 2ms/step - loss: 0.6669 - auc: 0.6333 - val_loss: 0.6674 - val_auc: 0.6644\n",
      "Epoch 16/100\n",
      "127/127 [==============================] - 0s 2ms/step - loss: 0.6680 - auc: 0.6315 - val_loss: 0.6807 - val_auc: 0.6663\n",
      "Epoch 17/100\n",
      "127/127 [==============================] - 0s 2ms/step - loss: 0.6733 - auc: 0.6207 - val_loss: 0.6665 - val_auc: 0.6659\n",
      "Epoch 18/100\n",
      "127/127 [==============================] - 0s 2ms/step - loss: 0.6644 - auc: 0.6433 - val_loss: 0.6610 - val_auc: 0.6683\n",
      "Epoch 19/100\n",
      "127/127 [==============================] - 0s 2ms/step - loss: 0.6626 - auc: 0.6484 - val_loss: 0.6857 - val_auc: 0.6733\n",
      "Epoch 20/100\n",
      "127/127 [==============================] - ETA: 0s - loss: 0.6729 - auc: 0.623 - 0s 2ms/step - loss: 0.6719 - auc: 0.6238 - val_loss: 0.6677 - val_auc: 0.6740\n",
      "Epoch 21/100\n",
      "127/127 [==============================] - 0s 2ms/step - loss: 0.6635 - auc: 0.6471 - val_loss: 0.6593 - val_auc: 0.6760\n",
      "Epoch 22/100\n",
      "127/127 [==============================] - 0s 2ms/step - loss: 0.6687 - auc: 0.6343 - val_loss: 0.6590 - val_auc: 0.6766\n",
      "Epoch 23/100\n",
      "127/127 [==============================] - 0s 2ms/step - loss: 0.6708 - auc: 0.6306 - val_loss: 0.6815 - val_auc: 0.6774\n",
      "Epoch 24/100\n",
      "127/127 [==============================] - 0s 2ms/step - loss: 0.6649 - auc: 0.6456 - val_loss: 0.6726 - val_auc: 0.6770\n",
      "Epoch 25/100\n",
      "127/127 [==============================] - 0s 2ms/step - loss: 0.6627 - auc: 0.6484 - val_loss: 0.6596 - val_auc: 0.6805\n",
      "Epoch 26/100\n",
      "127/127 [==============================] - 0s 2ms/step - loss: 0.6671 - auc: 0.6384 - val_loss: 0.6716 - val_auc: 0.6826\n",
      "Epoch 27/100\n",
      "127/127 [==============================] - 0s 2ms/step - loss: 0.6677 - auc: 0.6378 - val_loss: 0.6657 - val_auc: 0.6807\n",
      "Epoch 28/100\n",
      "127/127 [==============================] - 0s 2ms/step - loss: 0.6697 - auc: 0.6330 - val_loss: 0.6649 - val_auc: 0.6801\n",
      "Epoch 29/100\n",
      "127/127 [==============================] - 0s 2ms/step - loss: 0.6644 - auc: 0.6478 - val_loss: 0.6614 - val_auc: 0.6822\n",
      "Epoch 30/100\n",
      "127/127 [==============================] - 0s 2ms/step - loss: 0.6663 - auc: 0.6423 - val_loss: 0.6654 - val_auc: 0.6828\n",
      "Epoch 31/100\n",
      "127/127 [==============================] - 0s 2ms/step - loss: 0.6682 - auc: 0.6403 - val_loss: 0.7124 - val_auc: 0.6846\n",
      "Epoch 32/100\n",
      "127/127 [==============================] - 0s 2ms/step - loss: 0.6751 - auc: 0.6256 - val_loss: 0.6592 - val_auc: 0.6803\n",
      "Epoch 33/100\n",
      "127/127 [==============================] - 0s 2ms/step - loss: 0.6701 - auc: 0.6381 - val_loss: 0.6807 - val_auc: 0.6821\n",
      "Epoch 34/100\n",
      "127/127 [==============================] - 0s 2ms/step - loss: 0.6649 - auc: 0.6489 - val_loss: 0.6584 - val_auc: 0.6823\n",
      "Epoch 35/100\n",
      "127/127 [==============================] - 0s 2ms/step - loss: 0.6738 - auc: 0.6286 - val_loss: 0.6718 - val_auc: 0.6811\n",
      "Epoch 36/100\n",
      "127/127 [==============================] - 0s 2ms/step - loss: 0.6657 - auc: 0.6474 - val_loss: 0.7059 - val_auc: 0.6812\n",
      "Epoch 37/100\n",
      "127/127 [==============================] - 0s 2ms/step - loss: 0.6720 - auc: 0.6316 - val_loss: 0.6623 - val_auc: 0.6792\n",
      "Epoch 38/100\n",
      "127/127 [==============================] - 0s 2ms/step - loss: 0.6708 - auc: 0.6332 - val_loss: 0.6636 - val_auc: 0.6801\n",
      "Epoch 39/100\n",
      "127/127 [==============================] - 0s 2ms/step - loss: 0.6687 - auc: 0.6387 - val_loss: 0.6635 - val_auc: 0.6796\n",
      "Epoch 40/100\n",
      "127/127 [==============================] - 0s 2ms/step - loss: 0.6635 - auc: 0.6523 - val_loss: 0.6628 - val_auc: 0.6830\n",
      "Epoch 41/100\n",
      "127/127 [==============================] - 0s 2ms/step - loss: 0.6694 - auc: 0.6430 - val_loss: 0.6611 - val_auc: 0.6846\n",
      "Epoch 42/100\n",
      "127/127 [==============================] - 0s 2ms/step - loss: 0.6611 - auc: 0.6604 - val_loss: 0.6905 - val_auc: 0.6867\n",
      "Epoch 43/100\n",
      "127/127 [==============================] - 0s 2ms/step - loss: 0.6714 - auc: 0.6342 - val_loss: 0.6629 - val_auc: 0.6843\n",
      "Epoch 44/100\n",
      "127/127 [==============================] - 0s 2ms/step - loss: 0.6667 - auc: 0.6455 - val_loss: 0.6574 - val_auc: 0.6855\n",
      "Epoch 45/100\n",
      "127/127 [==============================] - 0s 2ms/step - loss: 0.6592 - auc: 0.6662 - val_loss: 0.6553 - val_auc: 0.6884\n",
      "Epoch 46/100\n",
      "127/127 [==============================] - 0s 2ms/step - loss: 0.6600 - auc: 0.6615 - val_loss: 0.6532 - val_auc: 0.6933\n",
      "Epoch 47/100\n",
      "127/127 [==============================] - 0s 2ms/step - loss: 0.6679 - auc: 0.6427 - val_loss: 0.6575 - val_auc: 0.6906\n",
      "Epoch 48/100\n",
      "127/127 [==============================] - 0s 2ms/step - loss: 0.6659 - auc: 0.6514 - val_loss: 0.6621 - val_auc: 0.6896\n",
      "Epoch 49/100\n",
      "127/127 [==============================] - 0s 2ms/step - loss: 0.6651 - auc: 0.6511 - val_loss: 0.6665 - val_auc: 0.6882\n",
      "Epoch 50/100\n",
      "127/127 [==============================] - 0s 2ms/step - loss: 0.6636 - auc: 0.6559 - val_loss: 0.6577 - val_auc: 0.6894\n",
      "Epoch 51/100\n",
      "127/127 [==============================] - 0s 2ms/step - loss: 0.6665 - auc: 0.6487 - val_loss: 0.6667 - val_auc: 0.6870\n",
      "Epoch 52/100\n",
      "127/127 [==============================] - 0s 2ms/step - loss: 0.6630 - auc: 0.6555 - val_loss: 0.6827 - val_auc: 0.6909\n",
      "Epoch 53/100\n",
      "127/127 [==============================] - 0s 2ms/step - loss: 0.6588 - auc: 0.6641 - val_loss: 0.6611 - val_auc: 0.6931\n",
      "Epoch 54/100\n",
      "127/127 [==============================] - 0s 2ms/step - loss: 0.6699 - auc: 0.6405 - val_loss: 0.6565 - val_auc: 0.6899\n",
      "Epoch 55/100\n",
      "127/127 [==============================] - 0s 2ms/step - loss: 0.6702 - auc: 0.6416 - val_loss: 0.6603 - val_auc: 0.6895\n",
      "Epoch 56/100\n",
      "127/127 [==============================] - 0s 2ms/step - loss: 0.6669 - auc: 0.6515 - val_loss: 0.6613 - val_auc: 0.6879\n",
      "Epoch 57/100\n",
      "127/127 [==============================] - 0s 2ms/step - loss: 0.6617 - auc: 0.6609 - val_loss: 0.6558 - val_auc: 0.6904\n",
      "Epoch 58/100\n",
      "127/127 [==============================] - 0s 2ms/step - loss: 0.6718 - auc: 0.6397 - val_loss: 0.6654 - val_auc: 0.6871\n",
      "Epoch 59/100\n",
      "127/127 [==============================] - 0s 2ms/step - loss: 0.6666 - auc: 0.6513 - val_loss: 0.6568 - val_auc: 0.6864\n",
      "Epoch 60/100\n",
      "127/127 [==============================] - 0s 2ms/step - loss: 0.6639 - auc: 0.6548 - val_loss: 0.6564 - val_auc: 0.6899\n",
      "Epoch 61/100\n",
      "127/127 [==============================] - 0s 2ms/step - loss: 0.6705 - auc: 0.6408 - val_loss: 0.6620 - val_auc: 0.6875\n",
      "Epoch 62/100\n",
      "127/127 [==============================] - 0s 2ms/step - loss: 0.6690 - auc: 0.6417 - val_loss: 0.6607 - val_auc: 0.6872\n",
      "Epoch 63/100\n",
      "127/127 [==============================] - 0s 2ms/step - loss: 0.6704 - auc: 0.6382 - val_loss: 0.6598 - val_auc: 0.6859\n",
      "Epoch 64/100\n",
      "127/127 [==============================] - 0s 2ms/step - loss: 0.6642 - auc: 0.6538 - val_loss: 0.6609 - val_auc: 0.6881\n",
      "Epoch 65/100\n",
      "127/127 [==============================] - 0s 2ms/step - loss: 0.6668 - auc: 0.6479 - val_loss: 0.6812 - val_auc: 0.6868\n",
      "Epoch 66/100\n",
      "127/127 [==============================] - 0s 2ms/step - loss: 0.6666 - auc: 0.6473 - val_loss: 0.6584 - val_auc: 0.6871\n",
      "Epoch 67/100\n",
      "127/127 [==============================] - 0s 2ms/step - loss: 0.6609 - auc: 0.6633 - val_loss: 0.6603 - val_auc: 0.6916\n",
      "Epoch 68/100\n",
      "127/127 [==============================] - 0s 2ms/step - loss: 0.6778 - auc: 0.6268 - val_loss: 0.6586 - val_auc: 0.6866\n",
      "Epoch 69/100\n",
      "127/127 [==============================] - 0s 2ms/step - loss: 0.6641 - auc: 0.6537 - val_loss: 0.6584 - val_auc: 0.6887\n",
      "Epoch 70/100\n",
      "127/127 [==============================] - 0s 2ms/step - loss: 0.6620 - auc: 0.6588 - val_loss: 0.6644 - val_auc: 0.6923\n",
      "Epoch 71/100\n",
      "127/127 [==============================] - 0s 2ms/step - loss: 0.6768 - auc: 0.6271 - val_loss: 0.6830 - val_auc: 0.6859\n",
      "Epoch 72/100\n",
      "127/127 [==============================] - 0s 2ms/step - loss: 0.6725 - auc: 0.6370 - val_loss: 0.6688 - val_auc: 0.6865\n",
      "Epoch 73/100\n",
      "127/127 [==============================] - 0s 2ms/step - loss: 0.6680 - auc: 0.6439 - val_loss: 0.6597 - val_auc: 0.6855\n",
      "Epoch 74/100\n",
      "127/127 [==============================] - 0s 2ms/step - loss: 0.6720 - auc: 0.6390 - val_loss: 0.6593 - val_auc: 0.6833\n",
      "Epoch 75/100\n",
      "127/127 [==============================] - 0s 2ms/step - loss: 0.6661 - auc: 0.6505 - val_loss: 0.6616 - val_auc: 0.6860\n",
      "Epoch 76/100\n",
      "127/127 [==============================] - 0s 2ms/step - loss: 0.6646 - auc: 0.6523 - val_loss: 0.6779 - val_auc: 0.6880\n",
      "Epoch 77/100\n",
      "127/127 [==============================] - 0s 2ms/step - loss: 0.6676 - auc: 0.6428 - val_loss: 0.6590 - val_auc: 0.6868\n",
      "Epoch 78/100\n",
      "127/127 [==============================] - 0s 2ms/step - loss: 0.6647 - auc: 0.6517 - val_loss: 0.6641 - val_auc: 0.6881\n",
      "Epoch 79/100\n",
      "127/127 [==============================] - 0s 2ms/step - loss: 0.6597 - auc: 0.6661 - val_loss: 0.6542 - val_auc: 0.6910\n",
      "Epoch 80/100\n",
      "127/127 [==============================] - 0s 2ms/step - loss: 0.6637 - auc: 0.6567 - val_loss: 0.6741 - val_auc: 0.6923\n",
      "Epoch 81/100\n",
      "127/127 [==============================] - 0s 2ms/step - loss: 0.6728 - auc: 0.6358 - val_loss: 0.6725 - val_auc: 0.6874\n",
      "Epoch 82/100\n",
      "127/127 [==============================] - 0s 2ms/step - loss: 0.6682 - auc: 0.6449 - val_loss: 0.6592 - val_auc: 0.6863\n",
      "Epoch 83/100\n",
      "127/127 [==============================] - 0s 2ms/step - loss: 0.6757 - auc: 0.6322 - val_loss: 0.6666 - val_auc: 0.6835\n",
      "Epoch 84/100\n",
      "127/127 [==============================] - 0s 2ms/step - loss: 0.6616 - auc: 0.6614 - val_loss: 0.6866 - val_auc: 0.6878\n",
      "Epoch 85/100\n",
      "127/127 [==============================] - 0s 2ms/step - loss: 0.6743 - auc: 0.6305 - val_loss: 0.6675 - val_auc: 0.6859\n",
      "Epoch 86/100\n",
      "127/127 [==============================] - 0s 2ms/step - loss: 0.6689 - auc: 0.6432 - val_loss: 0.6586 - val_auc: 0.6837\n",
      "Epoch 87/100\n",
      "127/127 [==============================] - 0s 2ms/step - loss: 0.6671 - auc: 0.6473 - val_loss: 0.6578 - val_auc: 0.6858\n",
      "Epoch 88/100\n",
      "127/127 [==============================] - 0s 2ms/step - loss: 0.6653 - auc: 0.6481 - val_loss: 0.6570 - val_auc: 0.6871\n",
      "Epoch 89/100\n",
      "127/127 [==============================] - 0s 2ms/step - loss: 0.6624 - auc: 0.6574 - val_loss: 0.6557 - val_auc: 0.6898\n",
      "Epoch 90/100\n",
      "127/127 [==============================] - 0s 2ms/step - loss: 0.6626 - auc: 0.6593 - val_loss: 0.6601 - val_auc: 0.6922\n",
      "Epoch 91/100\n",
      "127/127 [==============================] - 0s 2ms/step - loss: 0.6850 - auc: 0.6131 - val_loss: 0.6577 - val_auc: 0.6855\n",
      "Epoch 92/100\n",
      "127/127 [==============================] - 0s 2ms/step - loss: 0.6789 - auc: 0.6214 - val_loss: 0.7438 - val_auc: 0.6828\n",
      "Epoch 93/100\n",
      "127/127 [==============================] - 0s 2ms/step - loss: 0.6728 - auc: 0.6331 - val_loss: 0.6626 - val_auc: 0.6812\n",
      "Epoch 94/100\n",
      "127/127 [==============================] - 0s 2ms/step - loss: 0.6725 - auc: 0.6365 - val_loss: 0.6671 - val_auc: 0.6823\n",
      "Epoch 95/100\n",
      "127/127 [==============================] - 0s 2ms/step - loss: 0.6717 - auc: 0.6351 - val_loss: 0.7033 - val_auc: 0.6807\n",
      "Epoch 96/100\n",
      "127/127 [==============================] - 0s 2ms/step - loss: 0.6705 - auc: 0.6377 - val_loss: 0.6639 - val_auc: 0.6805\n",
      "Epoch 97/100\n",
      "127/127 [==============================] - 0s 2ms/step - loss: 0.6623 - auc: 0.6590 - val_loss: 0.6603 - val_auc: 0.6853\n",
      "Epoch 98/100\n",
      "127/127 [==============================] - 0s 2ms/step - loss: 0.6673 - auc: 0.6445 - val_loss: 0.6697 - val_auc: 0.6856\n",
      "Epoch 99/100\n",
      "127/127 [==============================] - 0s 2ms/step - loss: 0.6697 - auc: 0.6399 - val_loss: 0.6742 - val_auc: 0.6859\n",
      "Epoch 100/100\n",
      "127/127 [==============================] - 0s 2ms/step - loss: 0.6648 - auc: 0.6537 - val_loss: 0.6583 - val_auc: 0.6867\n"
     ]
    }
   ],
   "source": [
    "allModels_sb_597, r_sb_597, model_sb_597 = GridSearchNN(xtrain_sb_597, ytrain_sb_597, param_list, cv=3, rand=False)"
   ]
  },
  {
   "cell_type": "code",
   "execution_count": 91,
   "metadata": {},
   "outputs": [],
   "source": [
    "pred_sb_597 = model_sb_597.predict_classes(xtest_sb_597)"
   ]
  },
  {
   "cell_type": "code",
   "execution_count": 92,
   "metadata": {},
   "outputs": [],
   "source": [
    "y_pred_keras_sb_597 = model_sb_597.predict(xtest_sb_597).ravel()\n",
    "fpr_keras, tpr_keras, thresholds_keras = roc_curve(ytest_sb_597, y_pred_keras_sb_597)\n",
    "auc_keras_sb_597 = auc(fpr_keras, tpr_keras)"
   ]
  },
  {
   "cell_type": "code",
   "execution_count": 93,
   "metadata": {},
   "outputs": [
    {
     "data": {
      "image/png": "[encoded data removed]",
      "text/plain": [
       "<Figure size 432x288 with 1 Axes>"
      ]
     },
     "metadata": {
      "needs_background": "light"
     },
     "output_type": "display_data"
    }
   ],
   "source": [
    "plt.figure(1)\n",
    "plt.plot([0, 1], [0, 1], 'k--')\n",
    "plt.plot(fpr_keras, tpr_keras, label='Keras bilancato 597 (area = {:.3f})'.format(auc_keras_sb_597))\n",
    "\n",
    "plt.xlabel('False positive rate')\n",
    "plt.ylabel('True positive rate')\n",
    "plt.title('ROC curve')\n",
    "plt.legend(loc='best')\n",
    "plt.show()"
   ]
  },
  {
   "cell_type": "code",
   "execution_count": null,
   "metadata": {},
   "outputs": [],
   "source": []
  },
  {
   "cell_type": "code",
   "execution_count": null,
   "metadata": {},
   "outputs": [],
   "source": []
  },
  {
   "cell_type": "code",
   "execution_count": null,
   "metadata": {},
   "outputs": [],
   "source": []
  },
  {
   "cell_type": "code",
   "execution_count": null,
   "metadata": {},
   "outputs": [],
   "source": []
  },
  {
   "cell_type": "markdown",
   "metadata": {},
   "source": [
    "# ----- Curve d'apprendimento"
   ]
  },
  {
   "cell_type": "code",
   "execution_count": 10,
   "metadata": {},
   "outputs": [],
   "source": [
    "from sklearn.model_selection import learning_curve\n",
    "def plot_learning_curve(estimator, title, X, y, axes=None, ylim=None, cv=None,\n",
    "                        n_jobs=None, train_sizes=np.linspace(.1, 1.0, 5)):\n",
    "    if axes is None:\n",
    "        _, axes = plt.subplots(1, 3, figsize=(20, 5))\n",
    "\n",
    "    axes.set_title(title)\n",
    "    if ylim is not None:\n",
    "        axes.set_ylim(*ylim)\n",
    "    axes.set_xlabel(\"Examples\")\n",
    "    axes.set_ylabel(\"Score\")\n",
    "\n",
    "    train_sizes, train_scores, test_scores, fit_times, _ = \\\n",
    "        learning_curve(estimator, X, y, cv=cv, n_jobs=n_jobs,\n",
    "                       train_sizes=train_sizes,\n",
    "                       return_times=True)\n",
    "    train_scores_mean = np.mean(train_scores, axis=1)\n",
    "    train_scores_std = np.std(train_scores, axis=1)\n",
    "    test_scores_mean = np.mean(test_scores, axis=1)\n",
    "    test_scores_std = np.std(test_scores, axis=1)\n",
    "    fit_times_mean = np.mean(fit_times, axis=1)\n",
    "    fit_times_std = np.std(fit_times, axis=1)\n",
    "\n",
    "    # Plot learning curve\n",
    "    axes.grid()\n",
    "    axes.fill_between(train_sizes, train_scores_mean - train_scores_std,\n",
    "                         train_scores_mean + train_scores_std, alpha=0.1,\n",
    "                         color=\"r\")\n",
    "    axes.fill_between(train_sizes, test_scores_mean - test_scores_std,\n",
    "                         test_scores_mean + test_scores_std, alpha=0.1,\n",
    "                         color=\"g\")\n",
    "    axes.plot(train_sizes, train_scores_mean, 'o-', color=\"r\",\n",
    "                 label=\"Training score\")\n",
    "    axes.plot(train_sizes, test_scores_mean, 'o-', color=\"g\",\n",
    "                 label=\"Cross-validation score\")\n",
    "    axes.legend(loc=\"best\")\n",
    "    return plt"
   ]
  },
  {
   "cell_type": "code",
   "execution_count": 11,
   "metadata": {},
   "outputs": [],
   "source": [
    "def plot_learning_dt(X1, y1, X2, y2):\n",
    "    \n",
    "    fig, axes = plt.subplots(1, 2, figsize=(16, 5))\n",
    "\n",
    "    cv = ShuffleSplit(n_splits=10, test_size=0.3, random_state=0)\n",
    "    estimator = tree.DecisionTreeClassifier(criterion = \"entropy\", max_depth = None, min_samples_leaf = 20, min_samples_split = 10)\n",
    "    title = \"Decision Tree G1\"\n",
    "    plot_learning_curve(estimator, title, X1, y1, axes=axes[0], ylim=(0.3, 1.01),\n",
    "                        cv=cv, n_jobs=10)\n",
    "    print(\"done\")\n",
    "    cv = ShuffleSplit(n_splits=10, test_size=0.3, random_state=0)\n",
    "    estimator = tree.DecisionTreeClassifier(criterion = \"gini\", max_depth = None, min_samples_leaf = 20, min_samples_split = 10)\n",
    "    title = \"Decision Tree G1 Bilanciato\"\n",
    "    plot_learning_curve(estimator, title, X2, y2, axes=axes[1], ylim=(0.3, 1.01),\n",
    "                        cv=cv, n_jobs=10)\n",
    "    plt.show()"
   ]
  },
  {
   "cell_type": "code",
   "execution_count": 14,
   "metadata": {},
   "outputs": [
    {
     "ename": "KeyboardInterrupt",
     "evalue": "",
     "output_type": "error",
     "traceback": [
      "\u001b[1;31m---------------------------------------------------------------------------\u001b[0m",
      "\u001b[1;31mKeyboardInterrupt\u001b[0m                         Traceback (most recent call last)",
      "\u001b[1;32m<ipython-input-14-1b4f7b357599>\u001b[0m in \u001b[0;36m<module>\u001b[1;34m\u001b[0m\n\u001b[1;32m----> 1\u001b[1;33m \u001b[0mplot_learning_dt\u001b[0m\u001b[1;33m(\u001b[0m\u001b[0mxtrain_597\u001b[0m\u001b[1;33m,\u001b[0m \u001b[0mytrain_597\u001b[0m\u001b[1;33m,\u001b[0m \u001b[0mxtrain_sb_597\u001b[0m\u001b[1;33m,\u001b[0m \u001b[0mytrain_sb_597\u001b[0m\u001b[1;33m)\u001b[0m\u001b[1;33m\u001b[0m\u001b[1;33m\u001b[0m\u001b[0m\n\u001b[0m",
      "\u001b[1;32m<ipython-input-11-84e4e633a2fc>\u001b[0m in \u001b[0;36mplot_learning_dt\u001b[1;34m(X1, y1, X2, y2)\u001b[0m\n\u001b[0;32m      6\u001b[0m     \u001b[0mestimator\u001b[0m \u001b[1;33m=\u001b[0m \u001b[0mtree\u001b[0m\u001b[1;33m.\u001b[0m\u001b[0mDecisionTreeClassifier\u001b[0m\u001b[1;33m(\u001b[0m\u001b[0mcriterion\u001b[0m \u001b[1;33m=\u001b[0m \u001b[1;34m\"entropy\"\u001b[0m\u001b[1;33m,\u001b[0m \u001b[0mmax_depth\u001b[0m \u001b[1;33m=\u001b[0m \u001b[1;32mNone\u001b[0m\u001b[1;33m,\u001b[0m \u001b[0mmin_samples_leaf\u001b[0m \u001b[1;33m=\u001b[0m \u001b[1;36m20\u001b[0m\u001b[1;33m,\u001b[0m \u001b[0mmin_samples_split\u001b[0m \u001b[1;33m=\u001b[0m \u001b[1;36m10\u001b[0m\u001b[1;33m)\u001b[0m\u001b[1;33m\u001b[0m\u001b[1;33m\u001b[0m\u001b[0m\n\u001b[0;32m      7\u001b[0m     \u001b[0mtitle\u001b[0m \u001b[1;33m=\u001b[0m \u001b[1;34m\"Decision Tree G1\"\u001b[0m\u001b[1;33m\u001b[0m\u001b[1;33m\u001b[0m\u001b[0m\n\u001b[1;32m----> 8\u001b[1;33m     plot_learning_curve(estimator, title, X1, y1, axes=axes[0], ylim=(0.3, 1.01),\n\u001b[0m\u001b[0;32m      9\u001b[0m                         cv=cv, n_jobs=10)\n\u001b[0;32m     10\u001b[0m     \u001b[0mprint\u001b[0m\u001b[1;33m(\u001b[0m\u001b[1;34m\"done\"\u001b[0m\u001b[1;33m)\u001b[0m\u001b[1;33m\u001b[0m\u001b[1;33m\u001b[0m\u001b[0m\n",
      "\u001b[1;32m<ipython-input-10-29fffed95a3d>\u001b[0m in \u001b[0;36mplot_learning_curve\u001b[1;34m(estimator, title, X, y, axes, ylim, cv, n_jobs, train_sizes)\u001b[0m\n\u001b[0;32m     12\u001b[0m \u001b[1;33m\u001b[0m\u001b[0m\n\u001b[0;32m     13\u001b[0m     \u001b[0mtrain_sizes\u001b[0m\u001b[1;33m,\u001b[0m \u001b[0mtrain_scores\u001b[0m\u001b[1;33m,\u001b[0m \u001b[0mtest_scores\u001b[0m\u001b[1;33m,\u001b[0m \u001b[0mfit_times\u001b[0m\u001b[1;33m,\u001b[0m \u001b[0m_\u001b[0m \u001b[1;33m=\u001b[0m\u001b[0;31m \u001b[0m\u001b[0;31m\\\u001b[0m\u001b[1;33m\u001b[0m\u001b[1;33m\u001b[0m\u001b[0m\n\u001b[1;32m---> 14\u001b[1;33m         learning_curve(estimator, X, y, cv=cv, n_jobs=n_jobs,\n\u001b[0m\u001b[0;32m     15\u001b[0m                        \u001b[0mtrain_sizes\u001b[0m\u001b[1;33m=\u001b[0m\u001b[0mtrain_sizes\u001b[0m\u001b[1;33m,\u001b[0m\u001b[1;33m\u001b[0m\u001b[1;33m\u001b[0m\u001b[0m\n\u001b[0;32m     16\u001b[0m                        return_times=True)\n",
      "\u001b[1;32mC:\\ProgramData\\Anaconda3\\lib\\site-packages\\sklearn\\utils\\validation.py\u001b[0m in \u001b[0;36minner_f\u001b[1;34m(*args, **kwargs)\u001b[0m\n\u001b[0;32m     71\u001b[0m                           FutureWarning)\n\u001b[0;32m     72\u001b[0m         \u001b[0mkwargs\u001b[0m\u001b[1;33m.\u001b[0m\u001b[0mupdate\u001b[0m\u001b[1;33m(\u001b[0m\u001b[1;33m{\u001b[0m\u001b[0mk\u001b[0m\u001b[1;33m:\u001b[0m \u001b[0marg\u001b[0m \u001b[1;32mfor\u001b[0m \u001b[0mk\u001b[0m\u001b[1;33m,\u001b[0m \u001b[0marg\u001b[0m \u001b[1;32min\u001b[0m \u001b[0mzip\u001b[0m\u001b[1;33m(\u001b[0m\u001b[0msig\u001b[0m\u001b[1;33m.\u001b[0m\u001b[0mparameters\u001b[0m\u001b[1;33m,\u001b[0m \u001b[0margs\u001b[0m\u001b[1;33m)\u001b[0m\u001b[1;33m}\u001b[0m\u001b[1;33m)\u001b[0m\u001b[1;33m\u001b[0m\u001b[1;33m\u001b[0m\u001b[0m\n\u001b[1;32m---> 73\u001b[1;33m         \u001b[1;32mreturn\u001b[0m \u001b[0mf\u001b[0m\u001b[1;33m(\u001b[0m\u001b[1;33m**\u001b[0m\u001b[0mkwargs\u001b[0m\u001b[1;33m)\u001b[0m\u001b[1;33m\u001b[0m\u001b[1;33m\u001b[0m\u001b[0m\n\u001b[0m\u001b[0;32m     74\u001b[0m     \u001b[1;32mreturn\u001b[0m \u001b[0minner_f\u001b[0m\u001b[1;33m\u001b[0m\u001b[1;33m\u001b[0m\u001b[0m\n\u001b[0;32m     75\u001b[0m \u001b[1;33m\u001b[0m\u001b[0m\n",
      "\u001b[1;32mC:\\ProgramData\\Anaconda3\\lib\\site-packages\\sklearn\\model_selection\\_validation.py\u001b[0m in \u001b[0;36mlearning_curve\u001b[1;34m(estimator, X, y, groups, train_sizes, cv, scoring, exploit_incremental_learning, n_jobs, pre_dispatch, verbose, shuffle, random_state, error_score, return_times)\u001b[0m\n\u001b[0;32m   1277\u001b[0m                 \u001b[0mtrain_test_proportions\u001b[0m\u001b[1;33m.\u001b[0m\u001b[0mappend\u001b[0m\u001b[1;33m(\u001b[0m\u001b[1;33m(\u001b[0m\u001b[0mtrain\u001b[0m\u001b[1;33m[\u001b[0m\u001b[1;33m:\u001b[0m\u001b[0mn_train_samples\u001b[0m\u001b[1;33m]\u001b[0m\u001b[1;33m,\u001b[0m \u001b[0mtest\u001b[0m\u001b[1;33m)\u001b[0m\u001b[1;33m)\u001b[0m\u001b[1;33m\u001b[0m\u001b[1;33m\u001b[0m\u001b[0m\n\u001b[0;32m   1278\u001b[0m \u001b[1;33m\u001b[0m\u001b[0m\n\u001b[1;32m-> 1279\u001b[1;33m         out = parallel(delayed(_fit_and_score)(\n\u001b[0m\u001b[0;32m   1280\u001b[0m             \u001b[0mclone\u001b[0m\u001b[1;33m(\u001b[0m\u001b[0mestimator\u001b[0m\u001b[1;33m)\u001b[0m\u001b[1;33m,\u001b[0m \u001b[0mX\u001b[0m\u001b[1;33m,\u001b[0m \u001b[0my\u001b[0m\u001b[1;33m,\u001b[0m \u001b[0mscorer\u001b[0m\u001b[1;33m,\u001b[0m \u001b[0mtrain\u001b[0m\u001b[1;33m,\u001b[0m \u001b[0mtest\u001b[0m\u001b[1;33m,\u001b[0m \u001b[0mverbose\u001b[0m\u001b[1;33m,\u001b[0m\u001b[1;33m\u001b[0m\u001b[1;33m\u001b[0m\u001b[0m\n\u001b[0;32m   1281\u001b[0m             \u001b[0mparameters\u001b[0m\u001b[1;33m=\u001b[0m\u001b[1;32mNone\u001b[0m\u001b[1;33m,\u001b[0m \u001b[0mfit_params\u001b[0m\u001b[1;33m=\u001b[0m\u001b[1;32mNone\u001b[0m\u001b[1;33m,\u001b[0m \u001b[0mreturn_train_score\u001b[0m\u001b[1;33m=\u001b[0m\u001b[1;32mTrue\u001b[0m\u001b[1;33m,\u001b[0m\u001b[1;33m\u001b[0m\u001b[1;33m\u001b[0m\u001b[0m\n",
      "\u001b[1;32mC:\\ProgramData\\Anaconda3\\lib\\site-packages\\joblib\\parallel.py\u001b[0m in \u001b[0;36m__call__\u001b[1;34m(self, iterable)\u001b[0m\n\u001b[0;32m   1040\u001b[0m \u001b[1;33m\u001b[0m\u001b[0m\n\u001b[0;32m   1041\u001b[0m             \u001b[1;32mwith\u001b[0m \u001b[0mself\u001b[0m\u001b[1;33m.\u001b[0m\u001b[0m_backend\u001b[0m\u001b[1;33m.\u001b[0m\u001b[0mretrieval_context\u001b[0m\u001b[1;33m(\u001b[0m\u001b[1;33m)\u001b[0m\u001b[1;33m:\u001b[0m\u001b[1;33m\u001b[0m\u001b[1;33m\u001b[0m\u001b[0m\n\u001b[1;32m-> 1042\u001b[1;33m                 \u001b[0mself\u001b[0m\u001b[1;33m.\u001b[0m\u001b[0mretrieve\u001b[0m\u001b[1;33m(\u001b[0m\u001b[1;33m)\u001b[0m\u001b[1;33m\u001b[0m\u001b[1;33m\u001b[0m\u001b[0m\n\u001b[0m\u001b[0;32m   1043\u001b[0m             \u001b[1;31m# Make sure that we get a last message telling us we are done\u001b[0m\u001b[1;33m\u001b[0m\u001b[1;33m\u001b[0m\u001b[1;33m\u001b[0m\u001b[0m\n\u001b[0;32m   1044\u001b[0m             \u001b[0melapsed_time\u001b[0m \u001b[1;33m=\u001b[0m \u001b[0mtime\u001b[0m\u001b[1;33m.\u001b[0m\u001b[0mtime\u001b[0m\u001b[1;33m(\u001b[0m\u001b[1;33m)\u001b[0m \u001b[1;33m-\u001b[0m \u001b[0mself\u001b[0m\u001b[1;33m.\u001b[0m\u001b[0m_start_time\u001b[0m\u001b[1;33m\u001b[0m\u001b[1;33m\u001b[0m\u001b[0m\n",
      "\u001b[1;32mC:\\ProgramData\\Anaconda3\\lib\\site-packages\\joblib\\parallel.py\u001b[0m in \u001b[0;36mretrieve\u001b[1;34m(self)\u001b[0m\n\u001b[0;32m    919\u001b[0m             \u001b[1;32mtry\u001b[0m\u001b[1;33m:\u001b[0m\u001b[1;33m\u001b[0m\u001b[1;33m\u001b[0m\u001b[0m\n\u001b[0;32m    920\u001b[0m                 \u001b[1;32mif\u001b[0m \u001b[0mgetattr\u001b[0m\u001b[1;33m(\u001b[0m\u001b[0mself\u001b[0m\u001b[1;33m.\u001b[0m\u001b[0m_backend\u001b[0m\u001b[1;33m,\u001b[0m \u001b[1;34m'supports_timeout'\u001b[0m\u001b[1;33m,\u001b[0m \u001b[1;32mFalse\u001b[0m\u001b[1;33m)\u001b[0m\u001b[1;33m:\u001b[0m\u001b[1;33m\u001b[0m\u001b[1;33m\u001b[0m\u001b[0m\n\u001b[1;32m--> 921\u001b[1;33m                     \u001b[0mself\u001b[0m\u001b[1;33m.\u001b[0m\u001b[0m_output\u001b[0m\u001b[1;33m.\u001b[0m\u001b[0mextend\u001b[0m\u001b[1;33m(\u001b[0m\u001b[0mjob\u001b[0m\u001b[1;33m.\u001b[0m\u001b[0mget\u001b[0m\u001b[1;33m(\u001b[0m\u001b[0mtimeout\u001b[0m\u001b[1;33m=\u001b[0m\u001b[0mself\u001b[0m\u001b[1;33m.\u001b[0m\u001b[0mtimeout\u001b[0m\u001b[1;33m)\u001b[0m\u001b[1;33m)\u001b[0m\u001b[1;33m\u001b[0m\u001b[1;33m\u001b[0m\u001b[0m\n\u001b[0m\u001b[0;32m    922\u001b[0m                 \u001b[1;32melse\u001b[0m\u001b[1;33m:\u001b[0m\u001b[1;33m\u001b[0m\u001b[1;33m\u001b[0m\u001b[0m\n\u001b[0;32m    923\u001b[0m                     \u001b[0mself\u001b[0m\u001b[1;33m.\u001b[0m\u001b[0m_output\u001b[0m\u001b[1;33m.\u001b[0m\u001b[0mextend\u001b[0m\u001b[1;33m(\u001b[0m\u001b[0mjob\u001b[0m\u001b[1;33m.\u001b[0m\u001b[0mget\u001b[0m\u001b[1;33m(\u001b[0m\u001b[1;33m)\u001b[0m\u001b[1;33m)\u001b[0m\u001b[1;33m\u001b[0m\u001b[1;33m\u001b[0m\u001b[0m\n",
      "\u001b[1;32mC:\\ProgramData\\Anaconda3\\lib\\site-packages\\joblib\\_parallel_backends.py\u001b[0m in \u001b[0;36mwrap_future_result\u001b[1;34m(future, timeout)\u001b[0m\n\u001b[0;32m    540\u001b[0m         AsyncResults.get from multiprocessing.\"\"\"\n\u001b[0;32m    541\u001b[0m         \u001b[1;32mtry\u001b[0m\u001b[1;33m:\u001b[0m\u001b[1;33m\u001b[0m\u001b[1;33m\u001b[0m\u001b[0m\n\u001b[1;32m--> 542\u001b[1;33m             \u001b[1;32mreturn\u001b[0m \u001b[0mfuture\u001b[0m\u001b[1;33m.\u001b[0m\u001b[0mresult\u001b[0m\u001b[1;33m(\u001b[0m\u001b[0mtimeout\u001b[0m\u001b[1;33m=\u001b[0m\u001b[0mtimeout\u001b[0m\u001b[1;33m)\u001b[0m\u001b[1;33m\u001b[0m\u001b[1;33m\u001b[0m\u001b[0m\n\u001b[0m\u001b[0;32m    543\u001b[0m         \u001b[1;32mexcept\u001b[0m \u001b[0mCfTimeoutError\u001b[0m \u001b[1;32mas\u001b[0m \u001b[0me\u001b[0m\u001b[1;33m:\u001b[0m\u001b[1;33m\u001b[0m\u001b[1;33m\u001b[0m\u001b[0m\n\u001b[0;32m    544\u001b[0m             \u001b[1;32mraise\u001b[0m \u001b[0mTimeoutError\u001b[0m \u001b[1;32mfrom\u001b[0m \u001b[0me\u001b[0m\u001b[1;33m\u001b[0m\u001b[1;33m\u001b[0m\u001b[0m\n",
      "\u001b[1;32mC:\\ProgramData\\Anaconda3\\lib\\concurrent\\futures\\_base.py\u001b[0m in \u001b[0;36mresult\u001b[1;34m(self, timeout)\u001b[0m\n\u001b[0;32m    432\u001b[0m                 \u001b[1;32mreturn\u001b[0m \u001b[0mself\u001b[0m\u001b[1;33m.\u001b[0m\u001b[0m__get_result\u001b[0m\u001b[1;33m(\u001b[0m\u001b[1;33m)\u001b[0m\u001b[1;33m\u001b[0m\u001b[1;33m\u001b[0m\u001b[0m\n\u001b[0;32m    433\u001b[0m \u001b[1;33m\u001b[0m\u001b[0m\n\u001b[1;32m--> 434\u001b[1;33m             \u001b[0mself\u001b[0m\u001b[1;33m.\u001b[0m\u001b[0m_condition\u001b[0m\u001b[1;33m.\u001b[0m\u001b[0mwait\u001b[0m\u001b[1;33m(\u001b[0m\u001b[0mtimeout\u001b[0m\u001b[1;33m)\u001b[0m\u001b[1;33m\u001b[0m\u001b[1;33m\u001b[0m\u001b[0m\n\u001b[0m\u001b[0;32m    435\u001b[0m \u001b[1;33m\u001b[0m\u001b[0m\n\u001b[0;32m    436\u001b[0m             \u001b[1;32mif\u001b[0m \u001b[0mself\u001b[0m\u001b[1;33m.\u001b[0m\u001b[0m_state\u001b[0m \u001b[1;32min\u001b[0m \u001b[1;33m[\u001b[0m\u001b[0mCANCELLED\u001b[0m\u001b[1;33m,\u001b[0m \u001b[0mCANCELLED_AND_NOTIFIED\u001b[0m\u001b[1;33m]\u001b[0m\u001b[1;33m:\u001b[0m\u001b[1;33m\u001b[0m\u001b[1;33m\u001b[0m\u001b[0m\n",
      "\u001b[1;32mC:\\ProgramData\\Anaconda3\\lib\\threading.py\u001b[0m in \u001b[0;36mwait\u001b[1;34m(self, timeout)\u001b[0m\n\u001b[0;32m    300\u001b[0m         \u001b[1;32mtry\u001b[0m\u001b[1;33m:\u001b[0m    \u001b[1;31m# restore state no matter what (e.g., KeyboardInterrupt)\u001b[0m\u001b[1;33m\u001b[0m\u001b[1;33m\u001b[0m\u001b[0m\n\u001b[0;32m    301\u001b[0m             \u001b[1;32mif\u001b[0m \u001b[0mtimeout\u001b[0m \u001b[1;32mis\u001b[0m \u001b[1;32mNone\u001b[0m\u001b[1;33m:\u001b[0m\u001b[1;33m\u001b[0m\u001b[1;33m\u001b[0m\u001b[0m\n\u001b[1;32m--> 302\u001b[1;33m                 \u001b[0mwaiter\u001b[0m\u001b[1;33m.\u001b[0m\u001b[0macquire\u001b[0m\u001b[1;33m(\u001b[0m\u001b[1;33m)\u001b[0m\u001b[1;33m\u001b[0m\u001b[1;33m\u001b[0m\u001b[0m\n\u001b[0m\u001b[0;32m    303\u001b[0m                 \u001b[0mgotit\u001b[0m \u001b[1;33m=\u001b[0m \u001b[1;32mTrue\u001b[0m\u001b[1;33m\u001b[0m\u001b[1;33m\u001b[0m\u001b[0m\n\u001b[0;32m    304\u001b[0m             \u001b[1;32melse\u001b[0m\u001b[1;33m:\u001b[0m\u001b[1;33m\u001b[0m\u001b[1;33m\u001b[0m\u001b[0m\n",
      "\u001b[1;31mKeyboardInterrupt\u001b[0m: "
     ]
    },
    {
     "data": {
      "image/png": "[encoded data removed]",
      "text/plain": [
       "<Figure size 1152x360 with 2 Axes>"
      ]
     },
     "metadata": {
      "needs_background": "light"
     },
     "output_type": "display_data"
    }
   ],
   "source": [
    "plot_learning_dt(xtrain_597, ytrain_597, xtrain_sb_597, ytrain_sb_597)"
   ]
  },
  {
   "cell_type": "code",
   "execution_count": null,
   "metadata": {},
   "outputs": [],
   "source": [
    "def plot_learning_regr(X1, y1, X2, y2):\n",
    "    \n",
    "    fig, axes = plt.subplots(1, 2, figsize=(16, 5))\n",
    "\n",
    "    cv = ShuffleSplit(n_splits=10, test_size=0.3, random_state=0)\n",
    "    estimator = LogisticRegression()\n",
    "    title = \"Logistic Regression 597\"\n",
    "    plot_learning_curve(estimator, title, X1, y1, axes=axes[0], ylim=(0.3, 1.01),\n",
    "                        cv=cv, n_jobs=10)\n",
    "\n",
    "    cv = ShuffleSplit(n_splits=10, test_size=0.3, random_state=0)\n",
    "    estimator = LogisticRegression()\n",
    "    title = \"Logistic Regression 597 Bilanciato\"\n",
    "    plot_learning_curve(estimator, title, X2, y2, axes=axes[1], ylim=(0.3, 1.01),\n",
    "                        cv=cv, n_jobs=10)\n",
    "    plt.show()"
   ]
  },
  {
   "cell_type": "code",
   "execution_count": null,
   "metadata": {},
   "outputs": [],
   "source": [
    "plot_learning_regr(xtrain_597, ytrain_597, xtrain_sb_597, ytrain_sb_597)"
   ]
  },
  {
   "cell_type": "code",
   "execution_count": null,
   "metadata": {},
   "outputs": [],
   "source": []
  }
 ],
 "metadata": {
  "kernelspec": {
   "display_name": "Python 3",
   "language": "python",
   "name": "python3"
  },
  "language_info": {
   "codemirror_mode": {
    "name": "ipython",
    "version": 3
   },
   "file_extension": ".py",
   "mimetype": "text/x-python",
   "name": "python",
   "nbconvert_exporter": "python",
   "pygments_lexer": "ipython3",
   "version": "3.8.3"
  }
 },
 "nbformat": 4,
 "nbformat_minor": 5
}
