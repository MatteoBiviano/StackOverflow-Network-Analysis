{
 "cells": [
  {
   "cell_type": "code",
   "execution_count": 1,
   "id": "caf8bc02",
   "metadata": {},
   "outputs": [],
   "source": [
    "from cdlib import algorithms, evaluation\n",
    "from cdlib import TemporalClustering"
   ]
  },
  {
   "cell_type": "code",
   "execution_count": 48,
   "id": "0354a684",
   "metadata": {},
   "outputs": [],
   "source": [
    "import pandas as pd"
   ]
  },
  {
   "cell_type": "code",
   "execution_count": 2,
   "id": "823eab56",
   "metadata": {},
   "outputs": [],
   "source": [
    "import matplotlib.pyplot as plt"
   ]
  },
  {
   "cell_type": "code",
   "execution_count": 3,
   "id": "94bf2f59",
   "metadata": {},
   "outputs": [],
   "source": [
    "import networkx as nx"
   ]
  },
  {
   "cell_type": "code",
   "execution_count": 4,
   "id": "bafedd20",
   "metadata": {},
   "outputs": [],
   "source": [
    "import pickle"
   ]
  },
  {
   "cell_type": "code",
   "execution_count": 5,
   "id": "a1bedc35",
   "metadata": {},
   "outputs": [],
   "source": [
    "#Per plottare le communities per dimensione\n",
    "def plot_communities_dimentions(coms):\n",
    "    myd = {}\n",
    "    for t in coms:\n",
    "        lunghezza = len(t)\n",
    "\n",
    "        if str(lunghezza) in myd:\n",
    "            myd[str(lunghezza)] = myd[str(lunghezza)] + 1\n",
    "        else:\n",
    "            myd[str(lunghezza)] = 1\n",
    "\n",
    "    print(myd)\n",
    "    plt.figure(figsize=(20,5))\n",
    "    plt.bar(myd.keys(), myd.values(), color='b')"
   ]
  },
  {
   "cell_type": "code",
   "execution_count": 6,
   "id": "d980cc06",
   "metadata": {},
   "outputs": [],
   "source": [
    "coms_months = []\n",
    "for i in range(12):\n",
    "    with open(f'CommunityDiscovery/communities_{i}.pickle', 'rb') as f:\n",
    "        louvain_coms = pickle.load(f)\n",
    "    coms_months.append(louvain_coms)"
   ]
  },
  {
   "cell_type": "code",
   "execution_count": 7,
   "id": "02525ad4",
   "metadata": {},
   "outputs": [
    {
     "name": "stdout",
     "output_type": "stream",
     "text": [
      "56 - 889\n",
      "49 - 572\n",
      "40 - 567\n",
      "48 - 600\n",
      "54 - 580\n",
      "53 - 519\n",
      "45 - 571\n",
      "39 - 532\n",
      "39 - 444\n",
      "38 - 384\n",
      "41 - 374\n",
      "41 - 350\n"
     ]
    }
   ],
   "source": [
    "for i in coms_months:\n",
    "    \n",
    "    max_c=0\n",
    "    for com in i.communities:\n",
    "        if(len(com)>max_c):\n",
    "            max_c = len(com)\n",
    "    print(str(len(i.communities)) + \" - \" + str(max_c))"
   ]
  },
  {
   "cell_type": "code",
   "execution_count": 8,
   "id": "e2e22548",
   "metadata": {},
   "outputs": [],
   "source": [
    "tc = TemporalClustering()\n",
    "for t in range(12):\n",
    "    tc.add_clustering(coms_months[t], t)"
   ]
  },
  {
   "cell_type": "code",
   "execution_count": 9,
   "id": "1e533cd3",
   "metadata": {},
   "outputs": [
    {
     "data": {
      "text/plain": [
       "[0, 1, 2, 3, 4, 5, 6, 7, 8, 9, 10, 11]"
      ]
     },
     "execution_count": 9,
     "metadata": {},
     "output_type": "execute_result"
    }
   ],
   "source": [
    "tc.get_observation_ids()"
   ]
  },
  {
   "cell_type": "markdown",
   "id": "fa60d990",
   "metadata": {},
   "source": [
    "Una semplice misura della stabilità temporale è il \"clustering stability trend\" <br>\n",
    "Dato come input un TemporalClustering e un punteggio di somiglianza delle partizioni (ad esempio, NMI, NF1...) tale trend descrive quante partizioni tendono a rimanere le stesse con il passare del tempo.\n",
    "\n",
    "L'indice di stabilità viene calcolato per coppie di cluster temporalmente adiacenti."
   ]
  },
  {
   "cell_type": "code",
   "execution_count": 155,
   "id": "45bc3559",
   "metadata": {
    "scrolled": true
   },
   "outputs": [
    {
     "data": {
      "text/plain": [
       "[0.011268988798526927,\n",
       " 0.012863895558223285,\n",
       " 0.013032670454545455,\n",
       " 0.012792803768680958,\n",
       " 0.018884968723901076,\n",
       " 0.015707058001397625,\n",
       " 0.010484330484330484,\n",
       " 0.02177514792899408,\n",
       " 0.019532855808159447,\n",
       " 0.009858793324775352,\n",
       " 0.011968366168597123]"
      ]
     },
     "execution_count": 155,
     "metadata": {},
     "output_type": "execute_result"
    }
   ],
   "source": [
    "trend = tc.clustering_stability_trend(evaluation.nf1)\n",
    "trend"
   ]
  },
  {
   "cell_type": "markdown",
   "id": "1c2d2fae",
   "metadata": {},
   "source": [
    "Poiché il nostro obiettivo è trasformare un algoritmo statico in uno dinamico, una volta calcolati i clustering dobbiamo abbinarli tra id temporali consecutivi."
   ]
  },
  {
   "cell_type": "code",
   "execution_count": 11,
   "id": "7f88ddc8",
   "metadata": {},
   "outputs": [
    {
     "data": {
      "text/plain": [
       "False"
      ]
     },
     "execution_count": 11,
     "metadata": {},
     "output_type": "execute_result"
    }
   ],
   "source": [
    "tc.has_explicit_match()"
   ]
  },
  {
   "cell_type": "markdown",
   "id": "db5efc4b",
   "metadata": {},
   "source": [
    "Dall'approccio personalizzato non è venuto fuori però un abbinamento esplicito.\n",
    "Si definisce una funzione di somiglianza (prendendo come input due set e restituendo un valore float) per eseguire tale corrispondenza intertemporale"
   ]
  },
  {
   "cell_type": "code",
   "execution_count": 12,
   "id": "a3eabf92",
   "metadata": {},
   "outputs": [],
   "source": [
    "# una funzione di similarità il cui co-dominio è in [0, 1]\n",
    "jaccard = lambda x, y: len(set(x) & set(y)) / len(set(x) | set(y))"
   ]
  },
  {
   "cell_type": "markdown",
   "id": "298e8bb6",
   "metadata": {},
   "source": [
    "Successivamente possiamo applicarlo alla nostra partizione temporale, specificando se deve essere applicato solo dal passato al futuro (un lato) o anche dal futuro al passato (due lati).\n",
    "\n",
    "Il primo scenario consente di identificare eventi di merge, il secondo anche di split."
   ]
  },
  {
   "cell_type": "code",
   "execution_count": 13,
   "id": "3169184a",
   "metadata": {},
   "outputs": [],
   "source": [
    "matches = tc.community_matching(jaccard, two_sided=True)"
   ]
  },
  {
   "cell_type": "markdown",
   "id": "59329ecf",
   "metadata": {},
   "source": [
    "community_matching restituisce una lista di tuple della forma: <br>\n",
    "                (Ti_Ca, Tj_Cb, score) <br>\n",
    "I nomi di comunità vengono assegnati seguendo lo schema {tid}_{cid}, dove tid è il tempo di osservazione e cid è la posizione della comunità all'interno dell'oggetto Clustering."
   ]
  },
  {
   "cell_type": "markdown",
   "id": "ebf9b959",
   "metadata": {},
   "source": [
    "Una volta ottenuta la corrispondenza tra le comunità, possiamo calcolare il loro grafo del ciclo di vita: un polytree diretto che rappresenta la trasformazione della comunità nel tempo."
   ]
  },
  {
   "cell_type": "code",
   "execution_count": 14,
   "id": "f1f02380",
   "metadata": {},
   "outputs": [],
   "source": [
    "com_polytree = tc.lifecycle_polytree(jaccard, two_sided=True)"
   ]
  },
  {
   "cell_type": "code",
   "execution_count": 15,
   "id": "9d4d4411",
   "metadata": {},
   "outputs": [],
   "source": [
    "edges = list(com_polytree.edges(data=True))"
   ]
  },
  {
   "cell_type": "code",
   "execution_count": 23,
   "id": "52c5ffeb",
   "metadata": {},
   "outputs": [
    {
     "data": {
      "text/plain": [
       "('0_0', '1_0', {'weight': 0.20943708609271522})"
      ]
     },
     "execution_count": 23,
     "metadata": {},
     "output_type": "execute_result"
    }
   ],
   "source": [
    "edges[0]"
   ]
  },
  {
   "cell_type": "code",
   "execution_count": 18,
   "id": "c57c5404",
   "metadata": {},
   "outputs": [],
   "source": [
    "new = com_polytree.edge_subgraph([edges[0][0:2]]).copy()"
   ]
  },
  {
   "cell_type": "code",
   "execution_count": 22,
   "id": "ef32563d",
   "metadata": {},
   "outputs": [
    {
     "data": {
      "text/plain": [
       "OutEdgeDataView([('0_0', '1_0', {'weight': 0.20943708609271522})])"
      ]
     },
     "execution_count": 22,
     "metadata": {},
     "output_type": "execute_result"
    }
   ],
   "source": [
    "new.edges(data=True)"
   ]
  },
  {
   "cell_type": "code",
   "execution_count": 24,
   "id": "71d234e8",
   "metadata": {},
   "outputs": [],
   "source": [
    "selelected_edges = []"
   ]
  },
  {
   "cell_type": "code",
   "execution_count": 25,
   "id": "6e658ee5",
   "metadata": {},
   "outputs": [],
   "source": [
    "for i in edges:\n",
    "    if i[2][\"weight\"] > 0:\n",
    "        selelected_edges.append(i[0:2])\n",
    "new_polytree = com_polytree.edge_subgraph(selelected_edges).copy()"
   ]
  },
  {
   "cell_type": "code",
   "execution_count": 28,
   "id": "7536ee33",
   "metadata": {},
   "outputs": [
    {
     "data": {
      "image/png": "[encoded data removed]",
      "text/plain": [
       "<Figure size 432x288 with 1 Axes>"
      ]
     },
     "metadata": {},
     "output_type": "display_data"
    }
   ],
   "source": [
    "for nodes in nx.weakly_connected_components(new_polytree):\n",
    "    sub =  com_polytree.subgraph(nodes)\n",
    "    nx.draw(sub, pos=nx.spring_layout(sub), with_labels=True)"
   ]
  },
  {
   "cell_type": "code",
   "execution_count": null,
   "id": "710258ca",
   "metadata": {},
   "outputs": [],
   "source": []
  },
  {
   "cell_type": "code",
   "execution_count": 38,
   "id": "f6230a74",
   "metadata": {},
   "outputs": [],
   "source": [
    "n_nodes = []\n",
    "month_com = []\n",
    "for i in list(new_polytree.nodes()):\n",
    "    month_com.append(int(i.split(\"_\")[0]))\n",
    "    n_nodes.append(i)"
   ]
  },
  {
   "cell_type": "code",
   "execution_count": 46,
   "id": "84f0d27c",
   "metadata": {},
   "outputs": [],
   "source": [
    "s_edges = []\n",
    "t_edges = []\n",
    "for i in list(new_polytree.edges()):\n",
    "    s_edges.append(i[0])\n",
    "    t_edges.append(i[1])"
   ]
  },
  {
   "cell_type": "code",
   "execution_count": 49,
   "id": "158e77f0",
   "metadata": {},
   "outputs": [],
   "source": [
    "new_df = pd.DataFrame({\"Id\": n_nodes, \"month\": month_com})\n",
    "new_df.to_csv(\"nodes.csv\", index=False)"
   ]
  },
  {
   "cell_type": "code",
   "execution_count": 50,
   "id": "66d959cb",
   "metadata": {},
   "outputs": [],
   "source": [
    "new_df = pd.DataFrame({\"Source\": s_edges, \"Target\": t_edges})\n",
    "new_df.to_csv(\"edges.csv\", index=False)"
   ]
  },
  {
   "cell_type": "code",
   "execution_count": 64,
   "id": "f36fc0e0",
   "metadata": {},
   "outputs": [],
   "source": [
    "nx.write_graphml(new_polytree, \"polytree_threshold.graphml\")"
   ]
  },
  {
   "cell_type": "code",
   "execution_count": 52,
   "id": "22a647c7",
   "metadata": {},
   "outputs": [],
   "source": [
    "def birth(nodes, edges):\n",
    "    n_birth = 0\n",
    "    birth_nodes = []\n",
    "    for node in nodes:\n",
    "        is_birth = True\n",
    "        for edge in edges:\n",
    "            if node == edge[1]:\n",
    "                is_birth = False\n",
    "                break\n",
    "        if is_birth:\n",
    "            n_birth+=1\n",
    "            birth_nodes.append(node)\n",
    "    return n_birth, birth_nodes"
   ]
  },
  {
   "cell_type": "code",
   "execution_count": 53,
   "id": "78caf978",
   "metadata": {},
   "outputs": [],
   "source": [
    "def death(nodes, edges):\n",
    "    n_death = 0\n",
    "    death_nodes = []\n",
    "    for node in nodes:\n",
    "        is_death = True\n",
    "        for edge in edges:\n",
    "            if node == edge[0]:\n",
    "                is_death = False\n",
    "                break\n",
    "        if is_death:\n",
    "            n_death+=1\n",
    "            death_nodes.append(node)\n",
    "    return n_death, death_nodes"
   ]
  },
  {
   "cell_type": "code",
   "execution_count": 54,
   "id": "324fd0b0",
   "metadata": {},
   "outputs": [],
   "source": [
    "def merge(nodes, edges):\n",
    "    n_merge = 0\n",
    "    merge_nodes = {}\n",
    "    for node in nodes:\n",
    "        tmp_from = []\n",
    "        n_from = 0\n",
    "        for edge in edges:\n",
    "            if node == edge[1]:\n",
    "                tmp_from.append(edge[0])\n",
    "                n_from+=1\n",
    "        if n_from >1:\n",
    "            n_merge+=1\n",
    "            merge_nodes[node]=tmp_from\n",
    "    return n_merge, merge_nodes"
   ]
  },
  {
   "cell_type": "code",
   "execution_count": 55,
   "id": "e9d964b1",
   "metadata": {},
   "outputs": [],
   "source": [
    "def split(nodes, edges):\n",
    "    n_split = 0\n",
    "    split_nodes = {}\n",
    "    for node in nodes:\n",
    "        tmp_to = []\n",
    "        n_to = 0\n",
    "        for edge in edges:\n",
    "            if node == edge[0]:\n",
    "                tmp_to.append(edge[1])\n",
    "                n_to+=1\n",
    "        if n_to >1:\n",
    "            n_split+=1\n",
    "            split_nodes[node]=tmp_to\n",
    "    return n_split, split_nodes"
   ]
  },
  {
   "cell_type": "code",
   "execution_count": 138,
   "id": "1caf3442",
   "metadata": {},
   "outputs": [],
   "source": [
    "def continue_(nodes, edges):\n",
    "    n_continue = 0\n",
    "    continue_nodes = []\n",
    "    for node in nodes:\n",
    "        n_to = 0\n",
    "        tmp_to = \"\"\n",
    "        for edge in edges:\n",
    "            if node == edge[0]:\n",
    "                tmp_to=edge[1]\n",
    "                n_to+=1\n",
    "        if n_to ==1:\n",
    "            n_in = 0\n",
    "            for edge in edges:\n",
    "                if edge[1] == tmp_to:\n",
    "                    n_in+=1\n",
    "            if n_in ==1:\n",
    "                n_continue+=1\n",
    "                continue_nodes.append((node, tmp_to))\n",
    "    return n_continue, continue_nodes"
   ]
  },
  {
   "cell_type": "code",
   "execution_count": 120,
   "id": "4a7608d2",
   "metadata": {},
   "outputs": [],
   "source": [
    "def type_continue(continue_nodes, tc):\n",
    "    grow = 0\n",
    "    contraction = 0\n",
    "    grow_ll = []\n",
    "    contraction_ll = []\n",
    "    for u,v in continue_nodes:\n",
    "        u_  = u.split(\"_\")\n",
    "        v_  = v.split(\"_\")\n",
    "        com_u = tc.get_clustering_at(int(u_[0])).named_communities[u]\n",
    "        com_v = tc.get_clustering_at(int(v_[0])).named_communities[v]\n",
    "        l_u = len(com_u)\n",
    "        l_v = len(com_v)\n",
    "        if l_u < l_v:\n",
    "            grow+=1\n",
    "            grow_ll.append((u, v))\n",
    "        if l_u > l_v:\n",
    "            contraction+=1\n",
    "            contraction_ll.append((u, v))\n",
    "    return grow, contraction, grow_ll, contraction_ll"
   ]
  },
  {
   "cell_type": "code",
   "execution_count": 148,
   "id": "2e0957c4",
   "metadata": {},
   "outputs": [],
   "source": [
    "def resourge(nodes, edges, tc):\n",
    "    #nodes without exit edges\n",
    "    no_exit_nodes = []\n",
    "    for node in nodes:\n",
    "        no_exit = True\n",
    "        for edge in edges:\n",
    "            if node == edge[0]:\n",
    "                no_exit = False\n",
    "                break\n",
    "        if no_exit:\n",
    "            no_exit_nodes.append(node)\n",
    "    #nodes withou entry edges\n",
    "    no_entry_nodes = []\n",
    "    for node in nodes:\n",
    "        no_entry = True\n",
    "        for edge in edges:\n",
    "            if node == edge[1]:\n",
    "                no_entry = False\n",
    "                break\n",
    "        if no_entry:\n",
    "            no_entry_nodes.append(node)\n",
    "    #for all no_exit (at t):\n",
    "    #       if there is a no_entry (at t + n) == no_exit (at t)\n",
    "    #              resourge found\n",
    "    resourge = 0\n",
    "    resourge_ll = []\n",
    "    for n_ex in no_exit_nodes:\n",
    "        clust_ex, commu_ex = n_ex.split(\"_\")\n",
    "        for n_en in no_entry_nodes:\n",
    "            clust_en, commu_en = n_en.split(\"_\")\n",
    "            if int(clust_en) > int(clust_ex):\n",
    "                # from t to t+n\n",
    "                com_ex = tc.get_clustering_at(int(clust_ex)).named_communities[n_ex]\n",
    "                com_en = tc.get_clustering_at(int(clust_en)).named_communities[n_en]\n",
    "                com_ex.sort()\n",
    "                com_en.sort()\n",
    "                if com_ex == com_en:\n",
    "                    resourge+=1\n",
    "                    resourge_ll.append((n_ex, n_en))\n",
    "    return resourge, resourge_ll"
   ]
  },
  {
   "cell_type": "code",
   "execution_count": 58,
   "id": "3167fbab",
   "metadata": {},
   "outputs": [],
   "source": [
    "nodes_polytree = list(com_polytree.nodes())\n",
    "edges_polytree = list(com_polytree.edges())"
   ]
  },
  {
   "cell_type": "code",
   "execution_count": 61,
   "id": "6e94cd61",
   "metadata": {},
   "outputs": [
    {
     "name": "stdout",
     "output_type": "stream",
     "text": [
      "543\n",
      "12502\n"
     ]
    }
   ],
   "source": [
    "print(len(nodes_polytree))\n",
    "print(len(edges_polytree))"
   ]
  },
  {
   "cell_type": "code",
   "execution_count": 65,
   "id": "614f1367",
   "metadata": {},
   "outputs": [],
   "source": [
    "nodes_new = list(new_polytree.nodes())\n",
    "edges_new = list(new_polytree.edges())"
   ]
  },
  {
   "cell_type": "code",
   "execution_count": 66,
   "id": "525d7aba",
   "metadata": {},
   "outputs": [
    {
     "name": "stdout",
     "output_type": "stream",
     "text": [
      "423\n",
      "514\n"
     ]
    }
   ],
   "source": [
    "print(len(nodes_new))\n",
    "print(len(edges_new))"
   ]
  },
  {
   "cell_type": "code",
   "execution_count": 67,
   "id": "35d72913",
   "metadata": {},
   "outputs": [
    {
     "name": "stdout",
     "output_type": "stream",
     "text": [
      "('0_0', '1_0', {'weight': 0.20943708609271522})\n",
      "('0_0', '1_26', {'weight': 0.0011235955056179776})\n",
      "('1_0', '2_0', {'weight': 0.19142259414225943})\n",
      "('1_0', '2_34', {'weight': 0.0017452006980802793})\n",
      "('0_1', '1_2', {'weight': 0.19195979899497487})\n",
      "('0_1', '1_19', {'weight': 0.002607561929595828})\n",
      "('0_1', '1_24', {'weight': 0.00261437908496732})\n",
      "('1_2', '2_4', {'weight': 0.14664586583463338})\n",
      "('1_2', '2_17', {'weight': 0.002347417840375587})\n",
      "('0_2', '1_1', {'weight': 0.16942148760330578})\n",
      "('0_2', '1_35', {'weight': 0.001584786053882726})\n",
      "('0_2', '1_37', {'weight': 0.001584786053882726})\n",
      "('1_1', '2_1', {'weight': 0.20672478206724781})\n",
      "('0_3', '1_4', {'weight': 0.16716867469879518})\n",
      "('0_3', '1_36', {'weight': 0.004357298474945534})\n",
      "('1_4', '2_3', {'weight': 0.1771019677996422})\n",
      "('0_4', '1_5', {'weight': 0.08426073131955485})\n",
      "('0_4', '1_17', {'weight': 0.004694835680751174})\n",
      "('1_5', '2_6', {'weight': 0.10067114093959731})\n",
      "('0_5', '1_7', {'weight': 0.05432937181663837})\n",
      "('1_7', '2_8', {'weight': 0.06043956043956044})\n",
      "('1_7', '2_16', {'weight': 0.008264462809917356})\n",
      "('1_7', '2_32', {'weight': 0.004291845493562232})\n",
      "('0_6', '1_3', {'weight': 0.1731669266770671})\n",
      "('0_6', '1_16', {'weight': 0.002770083102493075})\n",
      "('0_6', '1_32', {'weight': 0.0028011204481792717})\n",
      "('1_3', '2_2', {'weight': 0.19068413391557495})\n",
      "('1_3', '2_24', {'weight': 0.005037783375314861})\n",
      "('0_7', '1_6', {'weight': 0.16056910569105692})\n",
      "('0_7', '1_21', {'weight': 0.002967359050445104})\n",
      "('1_6', '2_7', {'weight': 0.14463840399002495})\n",
      "('0_8', '1_3', {'weight': 0.08333333333333333})\n",
      "('0_8', '1_15', {'weight': 0.06111111111111111})\n",
      "('0_8', '1_23', {'weight': 0.003105590062111801})\n",
      "('0_9', '1_7', {'weight': 0.0870488322717622})\n",
      "('0_9', '1_34', {'weight': 0.0035587188612099642})\n",
      "('0_10', '1_10', {'weight': 0.10344827586206896})\n",
      "('0_10', '1_18', {'weight': 0.01098901098901099})\n",
      "('0_10', '1_29', {'weight': 0.005555555555555556})\n",
      "('1_10', '2_10', {'weight': 0.12195121951219512})\n",
      "('1_10', '2_38', {'weight': 0.007042253521126761})\n",
      "('0_11', '1_11', {'weight': 0.09219858156028368})\n",
      "('0_11', '1_20', {'weight': 0.005649717514124294})\n",
      "('1_11', '2_11', {'weight': 0.11057692307692307})\n",
      "('1_11', '2_29', {'weight': 0.007407407407407408})\n",
      "('1_11', '2_30', {'weight': 0.007407407407407408})\n",
      "('0_12', '1_8', {'weight': 0.13553113553113552})\n",
      "('0_12', '1_22', {'weight': 0.025477707006369428})\n",
      "('1_8', '2_0', {'weight': 0.051094890510948905})\n",
      "('1_8', '2_14', {'weight': 0.03571428571428571})\n",
      "('1_8', '2_15', {'weight': 0.012269938650306749})\n",
      "('1_8', '2_20', {'weight': 0.00641025641025641})\n",
      "('0_13', '1_13', {'weight': 0.056074766355140186})\n",
      "('0_13', '1_12', {'weight': 0.04054054054054054})\n",
      "('0_13', '1_44', {'weight': 0.006756756756756757})\n",
      "('1_13', '2_12', {'weight': 0.03424657534246575})\n",
      "('1_13', '2_22', {'weight': 0.012345679012345678})\n",
      "('0_14', '1_5', {'weight': 0.06793478260869565})\n",
      "('0_14', '1_30', {'weight': 0.007407407407407408})\n",
      "('0_15', '1_12', {'weight': 0.03428571428571429})\n",
      "('0_15', '1_43', {'weight': 0.01020408163265306})\n",
      "('1_12', '2_13', {'weight': 0.03816793893129771})\n",
      "('0_16', '1_9', {'weight': 0.024793388429752067})\n",
      "('1_9', '2_5', {'weight': 0.07650273224043716})\n",
      "('1_9', '2_19', {'weight': 0.00641025641025641})\n",
      "('0_17', '1_9', {'weight': 0.05263157894736842})\n",
      "('0_17', '1_46', {'weight': 0.014705882352941176})\n",
      "('0_18', '1_14', {'weight': 0.10344827586206896})\n",
      "('1_14', '2_9', {'weight': 0.07368421052631578})\n",
      "('0_19', '1_6', {'weight': 0.019011406844106463})\n",
      "('0_20', '1_6', {'weight': 0.004048582995951417})\n",
      "('0_21', '1_7', {'weight': 0.004149377593360996})\n",
      "('0_22', '1_1', {'weight': 0.0019646365422396855})\n",
      "('0_23', '1_2', {'weight': 0.00468384074941452})\n",
      "('0_24', '1_4', {'weight': 0.003115264797507788})\n",
      "('1_15', '2_1', {'weight': 0.023166023166023165})\n",
      "('1_17', '2_3', {'weight': 0.002890173410404624})\n",
      "('1_18', '2_12', {'weight': 0.013157894736842105})\n",
      "('1_20', '2_4', {'weight': 0.0031645569620253164})\n",
      "('1_21', '2_13', {'weight': 0.01818181818181818})\n",
      "('1_22', '2_28', {'weight': 0.2})\n",
      "('1_23', '2_23', {'weight': 0.16666666666666666})\n",
      "('1_25', '2_1', {'weight': 0.0021321961620469083})\n",
      "('1_27', '2_2', {'weight': 0.002364066193853428})\n",
      "('1_29', '2_1', {'weight': 0.002136752136752137})\n",
      "('1_30', '2_6', {'weight': 0.004273504273504274})\n",
      "('1_32', '2_5', {'weight': 0.004132231404958678})\n",
      "('1_36', '2_9', {'weight': 0.0070921985815602835})\n",
      "('1_41', '2_6', {'weight': 0.004273504273504274})\n",
      "('1_43', '2_10', {'weight': 0.014814814814814815})\n",
      "('0_26', '1_5', {'weight': 0.0038022813688212928})\n",
      "('0_31', '1_5', {'weight': 0.0038314176245210726})\n",
      "('0_32', '1_28', {'weight': 0.25})\n",
      "('0_34', '1_5', {'weight': 0.007692307692307693})\n",
      "('0_36', '1_25', {'weight': 0.2})\n",
      "('0_42', '1_14', {'weight': 0.015384615384615385})\n",
      "('0_43', '1_4', {'weight': 0.0031545741324921135})\n",
      "('0_47', '1_6', {'weight': 0.004201680672268907})\n",
      "('0_48', '1_3', {'weight': 0.0025188916876574307})\n",
      "('0_49', '1_8', {'weight': 0.006493506493506494})\n",
      "('0_53', '1_8', {'weight': 0.013071895424836602})\n",
      "('2_0', '3_0', {'weight': 0.1847715736040609})\n",
      "('2_0', '3_22', {'weight': 0.0017574692442882249})\n",
      "('2_1', '3_1', {'weight': 0.19788918205804748})\n",
      "('2_1', '3_19', {'weight': 0.002127659574468085})\n",
      "('2_4', '3_2', {'weight': 0.14925373134328357})\n",
      "('2_4', '3_17', {'weight': 0.006329113924050633})\n",
      "('2_4', '3_23', {'weight': 0.0031746031746031746})\n",
      "('2_4', '3_31', {'weight': 0.0031746031746031746})\n",
      "('2_4', '3_46', {'weight': 0.0031847133757961785})\n",
      "('2_2', '3_5', {'weight': 0.13804713804713806})\n",
      "('2_2', '3_10', {'weight': 0.07460035523978685})\n",
      "('2_2', '3_24', {'weight': 0.0023584905660377358})\n",
      "('2_2', '3_30', {'weight': 0.004728132387706856})\n",
      "('2_2', '3_41', {'weight': 0.002364066193853428})\n",
      "('2_3', '3_4', {'weight': 0.16054158607350097})\n",
      "('2_3', '3_15', {'weight': 0.00872093023255814})\n",
      "('2_3', '3_32', {'weight': 0.0029069767441860465})\n",
      "('2_3', '3_36', {'weight': 0.0029154518950437317})\n",
      "('2_3', '3_43', {'weight': 0.0029154518950437317})\n",
      "('2_3', '3_44', {'weight': 0.0029154518950437317})\n",
      "('2_6', '3_3', {'weight': 0.12249443207126949})\n",
      "('2_7', '3_7', {'weight': 0.1326530612244898})\n",
      "('2_7', '3_33', {'weight': 0.004484304932735426})\n",
      "('2_8', '3_3', {'weight': 0.0340632603406326})\n",
      "('2_8', '3_16', {'weight': 0.032467532467532464})\n",
      "('2_5', '3_6', {'weight': 0.09339407744874716})\n",
      "('2_5', '3_8', {'weight': 0.06264501160092807})\n",
      "('2_5', '3_27', {'weight': 0.00411522633744856})\n",
      "('2_5', '3_37', {'weight': 0.004132231404958678})\n",
      "('2_10', '3_9', {'weight': 0.13058419243986255})\n",
      "('2_11', '3_11', {'weight': 0.10548523206751055})\n",
      "('2_11', '3_14', {'weight': 0.01818181818181818})\n",
      "('2_13', '3_0', {'weight': 0.01557632398753894})\n",
      "('2_12', '3_2', {'weight': 0.02727272727272727})\n",
      "('2_9', '3_12', {'weight': 0.08786610878661087})\n",
      "('2_9', '3_13', {'weight': 0.04225352112676056})\n",
      "('2_14', '3_8', {'weight': 0.04296875})\n",
      "('2_15', '3_0', {'weight': 0.0049261083743842365})\n",
      "('2_16', '3_3', {'weight': 0.0071174377224199285})\n",
      "('2_17', '3_6', {'weight': 0.00411522633744856})\n",
      "('2_20', '3_8', {'weight': 0.0091324200913242})\n",
      "('2_22', '3_6', {'weight': 0.008333333333333333})\n",
      "('2_23', '3_4', {'weight': 0.0038461538461538464})\n",
      "('2_24', '3_12', {'weight': 0.00819672131147541})\n",
      "('2_25', '3_18', {'weight': 0.2})\n",
      "('2_27', '3_2', {'weight': 0.0026246719160104987})\n",
      "('2_28', '3_8', {'weight': 0.0045871559633027525})\n",
      "('2_29', '3_9', {'weight': 0.005128205128205128})\n",
      "('2_31', '3_0', {'weight': 0.0016638935108153079})\n",
      "('2_32', '3_20', {'weight': 0.2})\n",
      "('2_34', '3_0', {'weight': 0.0016638935108153079})\n",
      "('2_35', '3_13', {'weight': 0.012048192771084338})\n",
      "('2_38', '3_1', {'weight': 0.0022624434389140274})\n",
      "('3_0', '4_0', {'weight': 0.22533748701973})\n",
      "('3_0', '4_34', {'weight': 0.0016611295681063123})\n",
      "('3_1', '4_1', {'weight': 0.20545977011494254})\n",
      "('3_5', '4_6', {'weight': 0.1744186046511628})\n",
      "('3_4', '4_3', {'weight': 0.16149068322981366})\n",
      "('3_4', '4_20', {'weight': 0.007692307692307693})\n",
      "('3_4', '4_36', {'weight': 0.0038461538461538464})\n",
      "('3_2', '4_2', {'weight': 0.16329704510108864})\n",
      "('3_2', '4_41', {'weight': 0.005263157894736842})\n",
      "('3_2', '4_44', {'weight': 0.0026246719160104987})\n",
      "('3_2', '4_50', {'weight': 0.0026246719160104987})\n",
      "('3_6', '4_12', {'weight': 0.08797653958944282})\n",
      "('3_6', '4_11', {'weight': 0.036211699164345405})\n",
      "('3_6', '4_45', {'weight': 0.004166666666666667})\n",
      "('3_6', '4_46', {'weight': 0.004166666666666667})\n",
      "('3_3', '4_5', {'weight': 0.15098468271334792})\n",
      "('3_3', '4_21', {'weight': 0.007326007326007326})\n",
      "('3_7', '4_7', {'weight': 0.184})\n",
      "('3_12', '4_13', {'weight': 0.09090909090909091})\n",
      "('3_12', '4_14', {'weight': 0.026595744680851064})\n",
      "('3_12', '4_26', {'weight': 0.01652892561983471})\n",
      "('3_12', '4_49', {'weight': 0.008264462809917356})\n",
      "('3_9', '4_8', {'weight': 0.11351351351351352})\n",
      "('3_9', '4_37', {'weight': 0.005128205128205128})\n",
      "('3_11', '4_10', {'weight': 0.12781954887218044})\n",
      "('3_11', '4_17', {'weight': 0.03508771929824561})\n",
      "('3_8', '4_4', {'weight': 0.125})\n",
      "('3_8', '4_27', {'weight': 0.0045662100456621})\n",
      "('3_8', '4_47', {'weight': 0.0045871559633027525})\n",
      "('3_10', '4_9', {'weight': 0.1482758620689655})\n",
      "('3_10', '4_19', {'weight': 0.010752688172043012})\n",
      "('3_10', '4_33', {'weight': 0.005405405405405406})\n",
      "('3_13', '4_2', {'weight': 0.034482758620689655})\n",
      "('3_13', '4_18', {'weight': 0.011363636363636364})\n",
      "('3_13', '4_28', {'weight': 0.024096385542168676})\n",
      "('3_14', '4_15', {'weight': 0.04225352112676056})\n",
      "('3_15', '4_9', {'weight': 0.013071895424836602})\n",
      "('3_16', '4_16', {'weight': 0.09375})\n",
      "('3_17', '4_0', {'weight': 0.0017123287671232876})\n",
      "('3_18', '4_3', {'weight': 0.006557377049180328})\n",
      "('3_19', '4_1', {'weight': 0.005})\n",
      "('3_20', '4_5', {'weight': 0.007782101167315175})\n",
      "('3_21', '4_13', {'weight': 0.009009009009009009})\n",
      "('3_22', '4_0', {'weight': 0.0034423407917383822})\n",
      "('3_25', '4_7', {'weight': 0.004464285714285714})\n",
      "('3_29', '4_3', {'weight': 0.006578947368421052})\n",
      "('3_30', '4_10', {'weight': 0.0072992700729927005})\n",
      "('3_33', '4_7', {'weight': 0.004484304932735426})\n",
      "('3_37', '4_11', {'weight': 0.007462686567164179})\n",
      "('3_39', '4_10', {'weight': 0.007352941176470588})\n",
      "('3_40', '4_6', {'weight': 0.003968253968253968})\n",
      "('3_41', '4_12', {'weight': 0.007518796992481203})\n",
      "('3_42', '4_12', {'weight': 0.007518796992481203})\n",
      "('3_43', '4_0', {'weight': 0.0017211703958691911})\n",
      "('3_47', '4_25', {'weight': 0.25})\n",
      "('4_0', '5_0', {'weight': 0.2076923076923077})\n",
      "('4_0', '5_18', {'weight': 0.0017123287671232876})\n",
      "('4_1', '5_1', {'weight': 0.19161676646706588})\n",
      "('4_1', '5_24', {'weight': 0.0025})\n",
      "('4_2', '5_2', {'weight': 0.162754303599374})\n",
      "('4_2', '5_35', {'weight': 0.0027100271002710027})\n",
      "('4_5', '5_4', {'weight': 0.12605042016806722})\n",
      "('4_3', '5_6', {'weight': 0.1673469387755102})\n",
      "('4_3', '5_26', {'weight': 0.006578947368421052})\n",
      "('4_3', '5_29', {'weight': 0.003278688524590164})\n",
      "('4_6', '5_5', {'weight': 0.16703786191536749})\n",
      "('4_6', '5_25', {'weight': 0.003952569169960474})\n",
      "('4_6', '5_49', {'weight': 0.003968253968253968})\n",
      "('4_12', '5_12', {'weight': 0.05855855855855856})\n",
      "('4_12', '5_13', {'weight': 0.05504587155963303})\n",
      "('4_12', '5_15', {'weight': 0.017241379310344827})\n",
      "('4_12', '5_43', {'weight': 0.007518796992481203})\n",
      "('4_12', '5_44', {'weight': 0.007518796992481203})\n",
      "('4_7', '5_3', {'weight': 0.11471861471861472})\n",
      "('4_4', '5_7', {'weight': 0.106})\n",
      "('4_8', '5_8', {'weight': 0.13445378151260504})\n",
      "('4_9', '5_3', {'weight': 0.09382716049382717})\n",
      "('4_10', '5_11', {'weight': 0.10084033613445378})\n",
      "('4_10', '5_17', {'weight': 0.007042253521126761})\n",
      "('4_13', '5_9', {'weight': 0.07142857142857142})\n",
      "('4_15', '5_14', {'weight': 0.037037037037037035})\n",
      "('4_16', '5_11', {'weight': 0.03289473684210526})\n",
      "('4_11', '5_10', {'weight': 0.05555555555555555})\n",
      "('4_11', '5_27', {'weight': 0.007407407407407408})\n",
      "('4_11', '5_31', {'weight': 0.014925373134328358})\n",
      "('4_11', '5_33', {'weight': 0.014925373134328358})\n",
      "('4_14', '5_2', {'weight': 0.013574660633484163})\n",
      "('4_17', '5_9', {'weight': 0.029585798816568046})\n",
      "('4_18', '5_46', {'weight': 0.2857142857142857})\n",
      "('4_20', '5_20', {'weight': 0.14285714285714285})\n",
      "('4_23', '5_10', {'weight': 0.007407407407407408})\n",
      "('4_25', '5_19', {'weight': 0.16666666666666666})\n",
      "('4_27', '5_7', {'weight': 0.00749063670411985})\n",
      "('4_28', '5_16', {'weight': 0.23076923076923078})\n",
      "('4_31', '5_10', {'weight': 0.007407407407407408})\n",
      "('4_32', '5_5', {'weight': 0.0036363636363636364})\n",
      "('4_33', '5_2', {'weight': 0.002652519893899204})\n",
      "('4_34', '5_16', {'weight': 0.06666666666666667})\n",
      "('4_36', '5_12', {'weight': 0.009523809523809525})\n",
      "('4_41', '5_2', {'weight': 0.0026595744680851063})\n",
      "('4_43', '5_11', {'weight': 0.0078125})\n",
      "('4_44', '5_38', {'weight': 0.3333333333333333})\n",
      "('4_46', '5_13', {'weight': 0.010101010101010102})\n",
      "('4_47', '5_7', {'weight': 0.003745318352059925})\n",
      "('4_48', '5_7', {'weight': 0.003745318352059925})\n",
      "('4_50', '5_2', {'weight': 0.005333333333333333})\n",
      "('4_52', '5_4', {'weight': 0.0035460992907801418})\n",
      "('4_53', '5_4', {'weight': 0.0035460992907801418})\n",
      "('5_0', '6_0', {'weight': 0.1978021978021978})\n",
      "('5_0', '6_23', {'weight': 0.0019157088122605363})\n",
      "('5_0', '6_32', {'weight': 0.0019230769230769232})\n",
      "('5_1', '6_1', {'weight': 0.15281501340482573})\n",
      "('5_1', '6_29', {'weight': 0.0025})\n",
      "('5_1', '6_31', {'weight': 0.0025})\n",
      "('5_1', '6_44', {'weight': 0.002506265664160401})\n",
      "('5_2', '6_2', {'weight': 0.17684887459807075})\n",
      "('5_2', '6_17', {'weight': 0.005291005291005291})\n",
      "('5_2', '6_33', {'weight': 0.0026595744680851063})\n",
      "('5_6', '6_6', {'weight': 0.17772511848341233})\n",
      "('5_6', '6_34', {'weight': 0.003703703703703704})\n",
      "('5_7', '6_3', {'weight': 0.12357414448669202})\n",
      "('5_7', '6_26', {'weight': 0.0037313432835820895})\n",
      "('5_4', '6_7', {'weight': 0.1185682326621924})\n",
      "('5_4', '6_18', {'weight': 0.0035087719298245615})\n",
      "('5_4', '6_39', {'weight': 0.0071174377224199285})\n",
      "('5_5', '6_5', {'weight': 0.15301724137931033})\n",
      "('5_3', '6_4', {'weight': 0.14081632653061224})\n",
      "('5_8', '6_10', {'weight': 0.09923664122137404})\n",
      "('5_8', '6_28', {'weight': 0.010638297872340425})\n",
      "('5_11', '6_3', {'weight': 0.06103286384976526})\n",
      "('5_11', '6_13', {'weight': 0.02185792349726776})\n",
      "('5_11', '6_19', {'weight': 0.015503875968992248})\n",
      "('5_10', '6_14', {'weight': 0.058823529411764705})\n",
      "('5_10', '6_9', {'weight': 0.05309734513274336})\n",
      "('5_12', '6_8', {'weight': 0.06310679611650485})\n",
      "('5_9', '6_12', {'weight': 0.08530805687203792})\n",
      "('5_9', '6_24', {'weight': 0.006060606060606061})\n",
      "('5_9', '6_38', {'weight': 0.006134969325153374})\n",
      "('5_9', '6_42', {'weight': 0.006134969325153374})\n",
      "('5_14', '6_15', {'weight': 0.05})\n",
      "('5_13', '6_11', {'weight': 0.05357142857142857})\n",
      "('5_15', '6_8', {'weight': 0.03205128205128205})\n",
      "('5_16', '6_9', {'weight': 0.008547008547008548})\n",
      "('5_17', '6_0', {'weight': 0.0017301038062283738})\n",
      "('5_18', '6_27', {'weight': 0.3333333333333333})\n",
      "('5_19', '6_1', {'weight': 0.004310344827586207})\n",
      "('5_22', '6_3', {'weight': 0.003048780487804878})\n",
      "('5_25', '6_7', {'weight': 0.004524886877828055})\n",
      "('5_31', '6_0', {'weight': 0.0034965034965034965})\n",
      "('5_33', '6_8', {'weight': 0.00847457627118644})\n",
      "('5_38', '6_20', {'weight': 0.2})\n",
      "('5_41', '6_6', {'weight': 0.004366812227074236})\n",
      "('5_43', '6_1', {'weight': 0.0021598272138228943})\n",
      "('5_50', '6_16', {'weight': 0.2857142857142857})\n",
      "('6_0', '7_0', {'weight': 0.1860215053763441})\n",
      "('6_0', '7_29', {'weight': 0.0017482517482517483})\n",
      "('6_1', '7_1', {'weight': 0.19731543624161074})\n",
      "('6_1', '7_27', {'weight': 0.0021598272138228943})\n",
      "('6_2', '7_3', {'weight': 0.2222222222222222})\n",
      "('6_4', '7_2', {'weight': 0.11666666666666667})\n",
      "('6_7', '7_4', {'weight': 0.14074074074074075})\n",
      "('6_7', '7_30', {'weight': 0.0091324200913242})\n",
      "('6_5', '7_2', {'weight': 0.125})\n",
      "('6_5', '7_24', {'weight': 0.0076045627376425855})\n",
      "('6_6', '7_5', {'weight': 0.16847826086956522})\n",
      "('6_3', '7_6', {'weight': 0.09956709956709957})\n",
      "('6_3', '7_10', {'weight': 0.03508771929824561})\n",
      "('6_3', '7_26', {'weight': 0.0030581039755351682})\n",
      "('6_10', '7_8', {'weight': 0.08629441624365482})\n",
      "('6_10', '7_11', {'weight': 0.04938271604938271})\n",
      "('6_10', '7_16', {'weight': 0.009523809523809525})\n",
      "('6_10', '7_25', {'weight': 0.009708737864077669})\n",
      "('6_12', '7_9', {'weight': 0.06134969325153374})\n",
      "('6_12', '7_18', {'weight': 0.014285714285714285})\n",
      "('6_14', '7_6', {'weight': 0.03414634146341464})\n",
      "('6_8', '7_7', {'weight': 0.08536585365853659})\n",
      "('6_8', '7_34', {'weight': 0.008547008547008548})\n",
      "('6_11', '7_9', {'weight': 0.04519774011299435})\n",
      "('6_11', '7_33', {'weight': 0.0125})\n",
      "('6_15', '7_0', {'weight': 0.016453382084095063})\n",
      "('6_9', '7_6', {'weight': 0.043478260869565216})\n",
      "('6_9', '7_21', {'weight': 0.018691588785046728})\n",
      "('6_9', '7_23', {'weight': 0.009345794392523364})\n",
      "('6_13', '7_14', {'weight': 0.047619047619047616})\n",
      "('6_13', '7_13', {'weight': 0.031578947368421054})\n",
      "('6_17', '7_12', {'weight': 0.07142857142857142})\n",
      "('6_20', '7_19', {'weight': 0.14285714285714285})\n",
      "('6_31', '7_1', {'weight': 0.0023148148148148147})\n",
      "('6_32', '7_0', {'weight': 0.0037593984962406013})\n",
      "('6_34', '7_5', {'weight': 0.0049261083743842365})\n",
      "('6_37', '7_2', {'weight': 0.0024691358024691358})\n",
      "('6_39', '7_4', {'weight': 0.00823045267489712})\n",
      "('6_41', '7_3', {'weight': 0.003067484662576687})\n",
      "('6_42', '7_12', {'weight': 0.024390243902439025})\n",
      "('6_43', '7_8', {'weight': 0.017699115044247787})\n",
      "('7_0', '8_0', {'weight': 0.18879415347137637})\n",
      "('7_0', '8_14', {'weight': 0.028169014084507043})\n",
      "('7_0', '8_36', {'weight': 0.001876172607879925})\n",
      "('7_1', '8_1', {'weight': 0.14977973568281938})\n",
      "('7_1', '8_12', {'weight': 0.06431535269709543})\n",
      "('7_1', '8_15', {'weight': 0.015486725663716814})\n",
      "('7_1', '8_25', {'weight': 0.0023148148148148147})\n",
      "('7_1', '8_38', {'weight': 0.002320185614849188})\n",
      "('7_3', '8_2', {'weight': 0.1913214990138067})\n",
      "('7_6', '8_9', {'weight': 0.07246376811594203})\n",
      "('7_6', '8_4', {'weight': 0.05322128851540616})\n",
      "('7_6', '8_29', {'weight': 0.005434782608695652})\n",
      "('7_2', '8_5', {'weight': 0.11797752808988764})\n",
      "('7_2', '8_3', {'weight': 0.09057971014492754})\n",
      "('7_2', '8_10', {'weight': 0.058577405857740586})\n",
      "('7_2', '8_30', {'weight': 0.0024691358024691358})\n",
      "('7_5', '8_7', {'weight': 0.16878980891719744})\n",
      "('7_4', '8_6', {'weight': 0.09946236559139784})\n",
      "('7_4', '8_16', {'weight': 0.004032258064516129})\n",
      "('7_4', '8_19', {'weight': 0.0040650406504065045})\n",
      "('7_7', '8_9', {'weight': 0.06451612903225806})\n",
      "('7_7', '8_8', {'weight': 0.048327137546468404})\n",
      "('7_8', '8_11', {'weight': 0.0918918918918919})\n",
      "('7_9', '8_13', {'weight': 0.09933774834437085})\n",
      "('7_14', '8_17', {'weight': 0.1})\n",
      "('7_10', '8_4', {'weight': 0.029304029304029304})\n",
      "('7_10', '8_32', {'weight': 0.011235955056179775})\n",
      "('7_11', '8_8', {'weight': 0.02040816326530612})\n",
      "('7_11', '8_24', {'weight': 0.014084507042253521})\n",
      "('7_12', '8_10', {'weight': 0.028985507246376812})\n",
      "('7_13', '8_0', {'weight': 0.012605042016806723})\n",
      "('7_15', '8_0', {'weight': 0.002232142857142857})\n",
      "('7_16', '8_2', {'weight': 0.0035335689045936395})\n",
      "('7_17', '8_4', {'weight': 0.005076142131979695})\n",
      "('7_18', '8_0', {'weight': 0.0022371364653243847})\n",
      "('7_21', '8_23', {'weight': 0.16666666666666666})\n",
      "('7_23', '8_9', {'weight': 0.008695652173913044})\n",
      "('7_24', '8_31', {'weight': 0.6666666666666666})\n",
      "('7_26', '8_4', {'weight': 0.015544041450777202})\n",
      "('7_33', '8_0', {'weight': 0.0045045045045045045})\n",
      "('7_34', '8_8', {'weight': 0.007575757575757576})\n",
      "('8_0', '9_0', {'weight': 0.1532033426183844})\n",
      "('8_0', '9_10', {'weight': 0.05410821643286573})\n",
      "('8_0', '9_23', {'weight': 0.0044943820224719105})\n",
      "('8_0', '9_36', {'weight': 0.0022471910112359553})\n",
      "('8_1', '9_1', {'weight': 0.12995245641838352})\n",
      "('8_1', '9_22', {'weight': 0.0028169014084507044})\n",
      "('8_1', '9_30', {'weight': 0.002824858757062147})\n",
      "('8_1', '9_34', {'weight': 0.002824858757062147})\n",
      "('8_5', '9_6', {'weight': 0.14803625377643503})\n",
      "('8_2', '9_2', {'weight': 0.16374269005847952})\n",
      "('8_2', '9_32', {'weight': 0.0035714285714285713})\n",
      "('8_6', '9_4', {'weight': 0.10843373493975904})\n",
      "('8_7', '9_7', {'weight': 0.14675767918088736})\n",
      "('8_7', '9_15', {'weight': 0.011627906976744186})\n",
      "('8_9', '9_9', {'weight': 0.1409090909090909})\n",
      "('8_11', '9_11', {'weight': 0.1360544217687075})\n",
      "('8_11', '9_25', {'weight': 0.01098901098901099})\n",
      "('8_13', '9_8', {'weight': 0.06417112299465241})\n",
      "('8_4', '9_5', {'weight': 0.057692307692307696})\n",
      "('8_4', '9_12', {'weight': 0.05078125})\n",
      "('8_4', '9_24', {'weight': 0.005128205128205128})\n",
      "('8_8', '9_5', {'weight': 0.05211726384364821})\n",
      "('8_10', '9_3', {'weight': 0.06451612903225806})\n",
      "('8_17', '9_14', {'weight': 0.07142857142857142})\n",
      "('8_3', '9_3', {'weight': 0.1561712846347607})\n",
      "('8_12', '9_1', {'weight': 0.052256532066508314})\n",
      "('8_14', '9_0', {'weight': 0.0405727923627685})\n",
      "('8_15', '9_13', {'weight': 0.12698412698412698})\n",
      "('8_16', '9_8', {'weight': 0.006944444444444444})\n",
      "('8_18', '9_9', {'weight': 0.0070921985815602835})\n",
      "('8_23', '9_0', {'weight': 0.0025906735751295338})\n",
      "('8_27', '9_16', {'weight': 0.3333333333333333})\n",
      "('8_29', '9_5', {'weight': 0.010416666666666666})\n",
      "('8_31', '9_5', {'weight': 0.0051813471502590676})\n",
      "('8_32', '9_5', {'weight': 0.0051813471502590676})\n",
      "('8_38', '9_0', {'weight': 0.0025974025974025974})\n",
      "('9_0', '10_1', {'weight': 0.16198347107438016})\n",
      "('9_0', '10_23', {'weight': 0.005194805194805195})\n",
      "('9_0', '10_35', {'weight': 0.0025974025974025974})\n",
      "('9_0', '10_39', {'weight': 0.0025974025974025974})\n",
      "('9_1', '10_2', {'weight': 0.14721723518850988})\n",
      "('9_2', '10_3', {'weight': 0.16738197424892703})\n",
      "('9_2', '10_12', {'weight': 0.030726256983240222})\n",
      "('9_2', '10_15', {'weight': 0.006097560975609756})\n",
      "('9_2', '10_18', {'weight': 0.009375})\n",
      "('9_2', '10_19', {'weight': 0.003105590062111801})\n",
      "('9_3', '10_0', {'weight': 0.14828209764918626})\n",
      "('9_5', '10_7', {'weight': 0.07357859531772576})\n",
      "('9_5', '10_10', {'weight': 0.031496062992125984})\n",
      "('9_5', '10_16', {'weight': 0.004975124378109453})\n",
      "('9_6', '10_0', {'weight': 0.10869565217391304})\n",
      "('9_4', '10_5', {'weight': 0.11403508771929824})\n",
      "('9_4', '10_32', {'weight': 0.0049261083743842365})\n",
      "('9_7', '10_4', {'weight': 0.14563106796116504})\n",
      "('9_7', '10_14', {'weight': 0.03208556149732621})\n",
      "('9_7', '10_20', {'weight': 0.005747126436781609})\n",
      "('9_7', '10_22', {'weight': 0.005780346820809248})\n",
      "('9_9', '10_8', {'weight': 0.11158798283261803})\n",
      "('9_9', '10_13', {'weight': 0.06172839506172839})\n",
      "('9_11', '10_6', {'weight': 0.13227513227513227})\n",
      "('9_8', '10_11', {'weight': 0.04040404040404041})\n",
      "('9_8', '10_36', {'weight': 0.007142857142857143})\n",
      "('9_13', '10_11', {'weight': 0.0380952380952381})\n",
      "('9_13', '10_27', {'weight': 0.022727272727272728})\n",
      "('9_14', '10_7', {'weight': 0.019867549668874173})\n",
      "('9_10', '10_1', {'weight': 0.04155844155844156})\n",
      "('9_12', '10_9', {'weight': 0.07471264367816093})\n",
      "('9_12', '10_17', {'weight': 0.04938271604938271})\n",
      "('9_16', '10_37', {'weight': 0.16666666666666666})\n",
      "('9_17', '10_1', {'weight': 0.003105590062111801})\n",
      "('9_19', '10_5', {'weight': 0.011049723756906077})\n",
      "('9_24', '10_5', {'weight': 0.0055248618784530384})\n",
      "('9_26', '10_3', {'weight': 0.0043859649122807015})\n",
      "('9_27', '10_1', {'weight': 0.003115264797507788})\n",
      "('9_28', '10_7', {'weight': 0.007692307692307693})\n",
      "('9_29', '10_5', {'weight': 0.005555555555555556})\n",
      "('9_30', '10_8', {'weight': 0.00819672131147541})\n",
      "('9_31', '10_1', {'weight': 0.003125})\n",
      "('9_32', '10_5', {'weight': 0.005555555555555556})\n",
      "('9_34', '10_9', {'weight': 0.018018018018018018})\n",
      "('10_1', '11_0', {'weight': 0.18197879858657243})\n",
      "('10_1', '11_18', {'weight': 0.0030959752321981426})\n",
      "('10_2', '11_1', {'weight': 0.16989247311827957})\n",
      "('10_2', '11_15', {'weight': 0.010033444816053512})\n",
      "('10_2', '11_30', {'weight': 0.007168458781362007})\n",
      "('10_3', '11_2', {'weight': 0.20565552699228792})\n",
      "('10_0', '11_3', {'weight': 0.14147286821705427})\n",
      "('10_0', '11_6', {'weight': 0.11041666666666666})\n",
      "('10_5', '11_8', {'weight': 0.0924092409240924})\n",
      "('10_5', '11_19', {'weight': 0.01098901098901099})\n",
      "('10_5', '11_27', {'weight': 0.0055248618784530384})\n",
      "('10_5', '11_32', {'weight': 0.0111731843575419})\n",
      "('10_7', '11_5', {'weight': 0.07326007326007326})\n",
      "('10_7', '11_13', {'weight': 0.03488372093023256})\n",
      "('10_7', '11_25', {'weight': 0.007633587786259542})\n",
      "('10_4', '11_7', {'weight': 0.17708333333333334})\n",
      "('10_11', '11_4', {'weight': 0.0423728813559322})\n",
      "('10_11', '11_14', {'weight': 0.010752688172043012})\n",
      "('10_8', '11_10', {'weight': 0.06779661016949153})\n",
      "('10_6', '11_12', {'weight': 0.03684210526315789})\n",
      "('10_9', '11_5', {'weight': 0.05363984674329502})\n",
      "('10_9', '11_11', {'weight': 0.03529411764705882})\n",
      "('10_9', '11_24', {'weight': 0.008849557522123894})\n",
      "('10_9', '11_26', {'weight': 0.008849557522123894})\n",
      "('10_10', '11_4', {'weight': 0.0641025641025641})\n",
      "('10_10', '11_9', {'weight': 0.05263157894736842})\n",
      "('10_12', '11_4', {'weight': 0.036036036036036036})\n",
      "('10_12', '11_16', {'weight': 0.017857142857142856})\n",
      "('10_13', '11_5', {'weight': 0.06451612903225806})\n",
      "('10_14', '11_4', {'weight': 0.015151515151515152})\n",
      "('10_15', '11_4', {'weight': 0.010582010582010581})\n",
      "('10_16', '11_7', {'weight': 0.006060606060606061})\n",
      "('10_17', '11_0', {'weight': 0.008426966292134831})\n",
      "('10_18', '11_10', {'weight': 0.013888888888888888})\n",
      "('10_19', '11_5', {'weight': 0.005952380952380952})\n",
      "('10_20', '11_23', {'weight': 0.16666666666666666})\n",
      "('10_21', '11_13', {'weight': 0.0196078431372549})\n",
      "('10_22', '11_8', {'weight': 0.006493506493506494})\n",
      "('10_24', '11_3', {'weight': 0.004608294930875576})\n",
      "('10_30', '11_5', {'weight': 0.006060606060606061})\n",
      "('10_31', '11_34', {'weight': 0.3333333333333333})\n",
      "('10_32', '11_9', {'weight': 0.01098901098901099})\n",
      "('10_34', '11_4', {'weight': 0.005555555555555556})\n",
      "('10_36', '11_8', {'weight': 0.006535947712418301})\n"
     ]
    }
   ],
   "source": [
    "for i in new_polytree.edges(data=True):\n",
    "    print(i)"
   ]
  },
  {
   "cell_type": "code",
   "execution_count": 70,
   "id": "3cddf40a",
   "metadata": {},
   "outputs": [
    {
     "name": "stdout",
     "output_type": "stream",
     "text": [
      "56\n"
     ]
    }
   ],
   "source": [
    "n_birth, birth_nodes = birth(nodes_polytree, edges_polytree)\n",
    "print(n_birth)"
   ]
  },
  {
   "cell_type": "code",
   "execution_count": 71,
   "id": "84e55c47",
   "metadata": {},
   "outputs": [
    {
     "name": "stdout",
     "output_type": "stream",
     "text": [
      "41\n"
     ]
    }
   ],
   "source": [
    "n_death, death_nodes = death(nodes_polytree, edges_polytree)\n",
    "print(n_death)"
   ]
  },
  {
   "cell_type": "code",
   "execution_count": 72,
   "id": "9a712f9e",
   "metadata": {},
   "outputs": [
    {
     "name": "stdout",
     "output_type": "stream",
     "text": [
      "487\n"
     ]
    }
   ],
   "source": [
    "n_merge, merge_nodes = merge(nodes_polytree, edges_polytree)\n",
    "print(n_merge)"
   ]
  },
  {
   "cell_type": "code",
   "execution_count": 73,
   "id": "2748491c",
   "metadata": {},
   "outputs": [
    {
     "name": "stdout",
     "output_type": "stream",
     "text": [
      "502\n"
     ]
    }
   ],
   "source": [
    "n_split, split_nodes = split(nodes_polytree, edges_polytree)\n",
    "print(n_split)"
   ]
  },
  {
   "cell_type": "code",
   "execution_count": 139,
   "id": "b7914d3f",
   "metadata": {},
   "outputs": [
    {
     "name": "stdout",
     "output_type": "stream",
     "text": [
      "0\n"
     ]
    }
   ],
   "source": [
    "n_continue, continue_nodes = continue_(nodes_polytree, edges_polytree)\n",
    "print(n_continue)"
   ]
  },
  {
   "cell_type": "code",
   "execution_count": 75,
   "id": "ee014058",
   "metadata": {},
   "outputs": [],
   "source": [
    "if n_continue > 0:\n",
    "    n_grow, n_contraction = type_continue(continue_nodes, tc)\n",
    "    print(\"N grow events: \", n_grow)\n",
    "    print(\"N contraction events: \", n_contraction)"
   ]
  },
  {
   "cell_type": "code",
   "execution_count": null,
   "id": "ae46aabf",
   "metadata": {},
   "outputs": [],
   "source": []
  },
  {
   "cell_type": "code",
   "execution_count": 78,
   "id": "bcfc39e9",
   "metadata": {},
   "outputs": [
    {
     "name": "stdout",
     "output_type": "stream",
     "text": [
      "78\n"
     ]
    }
   ],
   "source": [
    "n_birth, birth_nodes = birth(nodes_new, edges_new)\n",
    "print(n_birth)"
   ]
  },
  {
   "cell_type": "code",
   "execution_count": 163,
   "id": "6179d9b5",
   "metadata": {},
   "outputs": [
    {
     "name": "stdout",
     "output_type": "stream",
     "text": [
      "42\n"
     ]
    }
   ],
   "source": [
    "real_birth = 0\n",
    "for i in birth_nodes:\n",
    "    if i.split(\"_\")[0] != \"0\":\n",
    "        real_birth+=1\n",
    "print(real_birth)"
   ]
  },
  {
   "cell_type": "code",
   "execution_count": 79,
   "id": "aff16b20",
   "metadata": {},
   "outputs": [
    {
     "name": "stdout",
     "output_type": "stream",
     "text": [
      "94\n"
     ]
    }
   ],
   "source": [
    "n_death, death_nodes = death(nodes_new, edges_new)\n",
    "print(n_death)"
   ]
  },
  {
   "cell_type": "code",
   "execution_count": 164,
   "id": "9c223c7e",
   "metadata": {},
   "outputs": [
    {
     "name": "stdout",
     "output_type": "stream",
     "text": [
      "67\n"
     ]
    }
   ],
   "source": [
    "real_death = 0\n",
    "for i in death_nodes:\n",
    "    if i.split(\"_\")[0] != \"11\":\n",
    "        real_death+=1\n",
    "print(real_death)"
   ]
  },
  {
   "cell_type": "code",
   "execution_count": 80,
   "id": "83d811e6",
   "metadata": {},
   "outputs": [
    {
     "name": "stdout",
     "output_type": "stream",
     "text": [
      "101\n"
     ]
    }
   ],
   "source": [
    "n_merge, merge_nodes = merge(nodes_new, edges_new)\n",
    "print(n_merge)"
   ]
  },
  {
   "cell_type": "code",
   "execution_count": 81,
   "id": "ffdc80a7",
   "metadata": {},
   "outputs": [
    {
     "name": "stdout",
     "output_type": "stream",
     "text": [
      "107\n"
     ]
    }
   ],
   "source": [
    "n_split, split_nodes = split(nodes_new, edges_new)\n",
    "print(n_split)"
   ]
  },
  {
   "cell_type": "code",
   "execution_count": 140,
   "id": "9cce820e",
   "metadata": {},
   "outputs": [
    {
     "name": "stdout",
     "output_type": "stream",
     "text": [
      "42\n"
     ]
    }
   ],
   "source": [
    "n_continue, continue_nodes = continue_(nodes_new, edges_new)\n",
    "print(n_continue)"
   ]
  },
  {
   "cell_type": "code",
   "execution_count": 141,
   "id": "44033b13",
   "metadata": {},
   "outputs": [
    {
     "name": "stdout",
     "output_type": "stream",
     "text": [
      "N grow events:  15\n",
      "N contraction events:  22\n"
     ]
    }
   ],
   "source": [
    "if n_continue > 0:\n",
    "    n_grow, n_contraction, grow_ll, contraction_ll = type_continue(continue_nodes, tc)\n",
    "    print(\"N grow events: \", n_grow)\n",
    "    print(\"N contraction events: \", n_contraction)"
   ]
  },
  {
   "cell_type": "markdown",
   "id": "68850566",
   "metadata": {},
   "source": [
    "Grow event: <br>\n",
    "from 8_27 to 9_16 <br>\n",
    "Contraction event: <br>\n",
    "from 9_16 to 10_37"
   ]
  },
  {
   "cell_type": "code",
   "execution_count": 116,
   "id": "5f37bad9",
   "metadata": {},
   "outputs": [
    {
     "name": "stdout",
     "output_type": "stream",
     "text": [
      "3\n"
     ]
    }
   ],
   "source": [
    "com_8_27 = tc.get_clustering_at(8).named_communities[\"8_27\"]\n",
    "print(len(com_8_27))"
   ]
  },
  {
   "cell_type": "code",
   "execution_count": 117,
   "id": "cd00c2e0",
   "metadata": {},
   "outputs": [
    {
     "name": "stdout",
     "output_type": "stream",
     "text": [
      "5\n"
     ]
    }
   ],
   "source": [
    "com_9_16 = tc.get_clustering_at(9).named_communities[\"9_16\"]\n",
    "print(len(com_9_16))"
   ]
  },
  {
   "cell_type": "code",
   "execution_count": 118,
   "id": "912bb8bf",
   "metadata": {},
   "outputs": [
    {
     "name": "stdout",
     "output_type": "stream",
     "text": [
      "2\n"
     ]
    }
   ],
   "source": [
    "com_10_37 = tc.get_clustering_at(10).named_communities[\"10_37\"]\n",
    "print(len(com_10_37))"
   ]
  },
  {
   "cell_type": "code",
   "execution_count": 127,
   "id": "f59bd9a6",
   "metadata": {},
   "outputs": [
    {
     "data": {
      "text/plain": [
       "<cdlib.classes.named_clustering.NamedClustering at 0x2aceaed9970>"
      ]
     },
     "execution_count": 127,
     "metadata": {},
     "output_type": "execute_result"
    }
   ],
   "source": [
    "tc.get_clustering_at(1)"
   ]
  },
  {
   "cell_type": "code",
   "execution_count": 142,
   "id": "019e0baa",
   "metadata": {},
   "outputs": [
    {
     "name": "stdout",
     "output_type": "stream",
     "text": [
      "('10_3', '11_2')\n"
     ]
    }
   ],
   "source": [
    "max_grow = 0 \n",
    "edge_grow = (\"0\", \"0\")\n",
    "for i in grow_ll:\n",
    "    tt = i[0].split(\"_\")\n",
    "    com_ = tc.get_clustering_at(int(tt[0])).named_communities[i[0]]\n",
    "    if len(com_) > max_grow:\n",
    "        max_grow = len(com_)\n",
    "        edge_grow = i\n",
    "print(edge_grow)"
   ]
  },
  {
   "cell_type": "code",
   "execution_count": 143,
   "id": "8c91bc60",
   "metadata": {},
   "outputs": [
    {
     "name": "stdout",
     "output_type": "stream",
     "text": [
      "5\n",
      "243\n"
     ]
    }
   ],
   "source": [
    "com_10_3 = tc.get_clustering_at(10).named_communities[\"10_3\"]\n",
    "print(len(com_1_17))\n",
    "com_11_2 = tc.get_clustering_at(11).named_communities[\"11_2\"]\n",
    "print(len(com_11_2))"
   ]
  },
  {
   "cell_type": "code",
   "execution_count": null,
   "id": "56d5bf57",
   "metadata": {},
   "outputs": [],
   "source": []
  },
  {
   "cell_type": "code",
   "execution_count": 158,
   "id": "12a9628f",
   "metadata": {},
   "outputs": [
    {
     "name": "stdout",
     "output_type": "stream",
     "text": [
      "316\n"
     ]
    }
   ],
   "source": [
    "com_1_4 = tc.get_clustering_at(1).named_communities[\"1_4\"]\n",
    "print(len(com_1_4))"
   ]
  },
  {
   "cell_type": "code",
   "execution_count": 159,
   "id": "6d6d1806",
   "metadata": {},
   "outputs": [
    {
     "name": "stdout",
     "output_type": "stream",
     "text": [
      "5\n"
     ]
    }
   ],
   "source": [
    "com_1_17 = tc.get_clustering_at(1).named_communities[\"1_17\"]\n",
    "print(len(com_1_17))"
   ]
  },
  {
   "cell_type": "code",
   "execution_count": 160,
   "id": "8ed24d86",
   "metadata": {},
   "outputs": [
    {
     "name": "stdout",
     "output_type": "stream",
     "text": [
      "342\n"
     ]
    }
   ],
   "source": [
    "com_2_3 = tc.get_clustering_at(2).named_communities[\"2_3\"]\n",
    "print(len(com_2_3))"
   ]
  },
  {
   "cell_type": "code",
   "execution_count": 136,
   "id": "48781e82",
   "metadata": {},
   "outputs": [
    {
     "name": "stdout",
     "output_type": "stream",
     "text": [
      "258\n",
      "2\n",
      "3\n",
      "2\n",
      "5\n",
      "2\n"
     ]
    }
   ],
   "source": [
    "com_3_4 = tc.get_clustering_at(3).named_communities[\"3_4\"]\n",
    "print(len(com_3_4))\n",
    "com_3_36 = tc.get_clustering_at(3).named_communities[\"3_36\"]\n",
    "print(len(com_3_36))\n",
    "com_3_32 = tc.get_clustering_at(3).named_communities[\"3_32\"]\n",
    "print(len(com_3_32))\n",
    "com_3_44 = tc.get_clustering_at(3).named_communities[\"3_44\"]\n",
    "print(len(com_3_44))\n",
    "com_3_15 = tc.get_clustering_at(3).named_communities[\"3_15\"]\n",
    "print(len(com_3_15))\n",
    "com_3_43 = tc.get_clustering_at(3).named_communities[\"3_43\"]\n",
    "print(len(com_3_43))"
   ]
  },
  {
   "cell_type": "code",
   "execution_count": 151,
   "id": "eec461b5",
   "metadata": {},
   "outputs": [],
   "source": [
    "n_resourge, resourge_ll = resourge(nodes_new, edges_new, tc)"
   ]
  },
  {
   "cell_type": "code",
   "execution_count": 152,
   "id": "617931d3",
   "metadata": {},
   "outputs": [
    {
     "data": {
      "text/plain": [
       "0"
      ]
     },
     "execution_count": 152,
     "metadata": {},
     "output_type": "execute_result"
    }
   ],
   "source": [
    "n_resourge"
   ]
  }
 ],
 "metadata": {
  "kernelspec": {
   "display_name": "Python 3 (ipykernel)",
   "language": "python",
   "name": "python3"
  },
  "language_info": {
   "codemirror_mode": {
    "name": "ipython",
    "version": 3
   },
   "file_extension": ".py",
   "mimetype": "text/x-python",
   "name": "python",
   "nbconvert_exporter": "python",
   "pygments_lexer": "ipython3",
   "version": "3.8.10"
  }
 },
 "nbformat": 4,
 "nbformat_minor": 5
}
