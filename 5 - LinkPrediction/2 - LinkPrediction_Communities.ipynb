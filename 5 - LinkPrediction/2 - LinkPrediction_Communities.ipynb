{
 "cells": [
  {
   "cell_type": "code",
   "execution_count": 1,
   "metadata": {},
   "outputs": [],
   "source": [
    "import linkpred\n",
    "from linkpred.evaluation import Pair\n",
    "import networkx as nx\n",
    "import random\n",
    "import itertools\n",
    "from operator import itemgetter\n",
    "import pickle\n",
    "import matplotlib.pyplot as plt\n",
    "from sklearn.metrics import auc"
   ]
  },
  {
   "cell_type": "code",
   "execution_count": 12,
   "metadata": {},
   "outputs": [],
   "source": [
    "import networkx as nx\n",
    "import pandas as pd\n",
    "import numpy as np\n",
    "import json\n",
    "import cdlib\n",
    "from cdlib import evaluation\n",
    "from cdlib import algorithms\n",
    "from cdlib import viz\n",
    "from cdlib import ensemble\n",
    "from cdlib import readwrite\n",
    "import pickle\n",
    "import pquality\n",
    "import matplotlib.pyplot as plt\n",
    "%matplotlib inline\n",
    "from nf1 import NF1\n",
    "import networkx as nx\n",
    "import numpy as np\n",
    "import pandas as pd\n",
    "import matplotlib.pyplot as plt\n",
    "from collections import Counter\n",
    "from operator import itemgetter\n",
    "import powerlaw\n",
    "from networkx.drawing.nx_agraph import graphviz_layout\n",
    "import pickle\n",
    "from statistics import mean, stdev\n",
    "import seaborn as sns\n",
    "import json\n",
    "import random"
   ]
  },
  {
   "cell_type": "code",
   "execution_count": 3,
   "metadata": {},
   "outputs": [],
   "source": [
    "path = \"../DataSet StackOverflow/\""
   ]
  },
  {
   "cell_type": "code",
   "execution_count": 4,
   "metadata": {},
   "outputs": [],
   "source": [
    "path_graph = \"../DataSet StackOverflow/Graph_data/\""
   ]
  },
  {
   "cell_type": "code",
   "execution_count": 5,
   "metadata": {},
   "outputs": [],
   "source": [
    "saved_path = \"../DataSet StackOverflow/LinkPrediction_task/communities/\""
   ]
  },
  {
   "cell_type": "code",
   "execution_count": 6,
   "metadata": {},
   "outputs": [],
   "source": [
    "G = nx.read_graphml(path_graph+\"Real_Network.graphml\")"
   ]
  },
  {
   "cell_type": "code",
   "execution_count": 7,
   "metadata": {},
   "outputs": [
    {
     "data": {
      "text/plain": [
       "'Name: \\nType: Graph\\nNumber of nodes: 13780\\nNumber of edges: 97892\\nAverage degree:  14.2078'"
      ]
     },
     "execution_count": 7,
     "metadata": {},
     "output_type": "execute_result"
    }
   ],
   "source": [
    "nx.info(G)"
   ]
  },
  {
   "cell_type": "code",
   "execution_count": 8,
   "metadata": {},
   "outputs": [],
   "source": [
    "community_path = \"../DataSet StackOverflow/Community_task/\""
   ]
  },
  {
   "cell_type": "code",
   "execution_count": 9,
   "metadata": {},
   "outputs": [],
   "source": [
    "with open(community_path+'louvain.pickle', 'rb') as f:\n",
    "    louvain_coms = pickle.load(f)"
   ]
  },
  {
   "cell_type": "code",
   "execution_count": 15,
   "metadata": {},
   "outputs": [
    {
     "name": "stdout",
     "output_type": "stream",
     "text": [
      "2219\n",
      "1850\n",
      "1528\n",
      "1514\n",
      "1234\n",
      "1208\n",
      "1144\n",
      "914\n"
     ]
    }
   ],
   "source": [
    "for i in louvain_coms.communities[:9]:\n",
    "    print(len(i))"
   ]
  },
  {
   "cell_type": "code",
   "execution_count": 16,
   "metadata": {},
   "outputs": [],
   "source": [
    "def prepare_data(G, idx):\n",
    "    training_edge_len = len(G.edges()) - int(len(G.edges())/100 * 20)\n",
    "    test_edge_len = len(G.edges()) - training_edge_len\n",
    "    \n",
    "    training_edges = random.sample(G.edges, training_edge_len)\n",
    "    \n",
    "    training = G.edge_subgraph(training_edges)\n",
    "    \n",
    "    test = G.copy()\n",
    "    test.remove_edges_from(training.edges())\n",
    "    \n",
    "    nodes = list(G.nodes())\n",
    "    nodes.extend(list(test.nodes()))\n",
    "    \n",
    "    test = [Pair(i) for i in test.edges()]\n",
    "    universe = set([Pair(i) for i in itertools.product(nodes, nodes) if i[0]!=i[1]])\n",
    "    print(f\" -- Storing for community {idx}\")\n",
    "    with open(saved_path+f'universe_{idx}.pickle', 'wb') as f:\n",
    "        pickle.dump(universe, f)\n",
    "    with open(saved_path+f'test_{idx}.pickle', 'wb') as f:\n",
    "        pickle.dump(test, f) \n",
    "    nx.write_graphml(training, saved_path+f\"training_{idx}.graphml\")"
   ]
  },
  {
   "cell_type": "code",
   "execution_count": 18,
   "metadata": {},
   "outputs": [
    {
     "name": "stdout",
     "output_type": "stream",
     "text": [
      " -- Storing for community 0\n",
      " -- Storing for community 1\n",
      " -- Storing for community 2\n",
      " -- Storing for community 3\n",
      " -- Storing for community 4\n",
      " -- Storing for community 5\n",
      " -- Storing for community 6\n",
      " -- Storing for community 7\n",
      " -- Storing for community 8\n"
     ]
    }
   ],
   "source": [
    "for idx, com in enumerate(louvain_coms.communities[:9]):\n",
    "    sampled_nodes = random.sample(G.subgraph(com).nodes, 500)\n",
    "    prepare_data(G.subgraph(sampled_nodes), idx)"
   ]
  },
  {
   "cell_type": "code",
   "execution_count": 21,
   "metadata": {},
   "outputs": [],
   "source": [
    "def predict(idx):\n",
    "    with open(saved_path+f'universe_{idx}.pickle', 'rb') as f:\n",
    "        universe = pickle.load(f)\n",
    "    with open(saved_path+f'test_{idx}.pickle', 'rb') as f:\n",
    "        test = pickle.load(f)\n",
    "    training = nx.read_graphml(saved_path+f\"training_{idx}.graphml\")\n",
    "    \n",
    "    print(f\"-- For {idx} predict CommonNeighbours\")\n",
    "    \n",
    "    cn = linkpred.predictors.CommonNeighbours(training, excluded=training.edges())\n",
    "    cn_results = cn.predict()\n",
    "    \n",
    "    res = []\n",
    "    for i, j in zip(cn_results, cn_results.values()):\n",
    "        res.append([Pair(i), j])\n",
    "   \n",
    "    with open(saved_path+f'cn_results_{idx}.pickle', 'wb') as f:\n",
    "        pickle.dump(res, f)\n",
    "        \n",
    "        \n",
    "    print(f\"-- For {idx} predict AdamicAdar\")\n",
    "    aa = linkpred.predictors.AdamicAdar(training, excluded=training.edges())\n",
    "    aa_results = aa.predict()\n",
    "    \n",
    "    \n",
    "    res = []\n",
    "    for i, j in zip(aa_results, aa_results.values()):\n",
    "        res.append([Pair(i), j])\n",
    "   \n",
    "    with open(saved_path+f'aa_results_{idx}.pickle', 'wb') as f:\n",
    "        pickle.dump(res, f)\n",
    "        \n",
    "    print(f\"-- For {idx} predict Jaccard\")\n",
    "    \n",
    "    jc = linkpred.predictors.Jaccard(training, excluded=training.edges())\n",
    "    jc_results = jc.predict()\n",
    "    \n",
    "    \n",
    "    res = []\n",
    "    for i, j in zip(jc_results, jc_results.values()):\n",
    "        res.append([Pair(i), j])\n",
    "\n",
    "    with open(saved_path+f'jc_results_{idx}.pickle', 'wb') as f:\n",
    "        pickle.dump(res, f)\n",
    "    \n",
    "    print(f\"-- For {idx} evaluate CommonNeighbour\")\n",
    "        \n",
    "    cn_evaluation = linkpred.evaluation.EvaluationSheet(cn_results, test, universe)\n",
    "\n",
    "    with open(saved_path+f'cn_evaluation_{idx}.pickle', 'wb') as f:\n",
    "        pickle.dump(cn_evaluation, f) \n",
    "\n",
    "    print(f\"-- For {idx} evaluate AdamicAdar\")\n",
    "        \n",
    "    aa_evaluation = linkpred.evaluation.EvaluationSheet(aa_results, test, universe)\n",
    "\n",
    "    with open(saved_path+f'aa_evaluation_{idx}.pickle', 'wb') as f:\n",
    "        pickle.dump(aa_evaluation, f) \n",
    "        \n",
    "        \n",
    "    print(f\"-- For {idx} evaluate Jaccard\")\n",
    "        \n",
    "    jc_evaluation = linkpred.evaluation.EvaluationSheet(jc_results, test, universe)\n",
    "\n",
    "    with open(saved_path+f'jc_evaluation_{idx}.pickle', 'wb') as f:\n",
    "        pickle.dump(jc_evaluation, f) "
   ]
  },
  {
   "cell_type": "code",
   "execution_count": 22,
   "metadata": {},
   "outputs": [],
   "source": [
    "def evaluate(idx):\n",
    "    \n",
    "    with open(saved_path+f'cn_evaluation_{idx}.pickle', 'rb') as f:\n",
    "        cn_evaluation = pickle.load(f)\n",
    "    with open(saved_path+f'aa_evaluation_{idx}.pickle', 'rb') as f:\n",
    "        aa_evaluation = pickle.load(f)\n",
    "    with open(saved_path+f'jc_evaluation_{idx}.pickle', 'rb') as f:\n",
    "        jc_evaluation = pickle.load(f)\n",
    "\n",
    "    \n",
    "    print(\"Area Under Roc Curve (AUROC)\")\n",
    "    print(f\"CommonNeighbour: \\t {auc(cn_evaluation.fallout(), cn_evaluation.recall())}\")\n",
    "    print(f\"AdamicAdar: \\t {auc(aa_evaluation.fallout(), aa_evaluation.recall())}\")\n",
    "    print(f\"Jaccard: \\t {auc(jc_evaluation.fallout(), jc_evaluation.recall())}\")\n",
    "    \n",
    "    \n",
    "    #plt.plot(jc_evaluation.fallout(), jc_evaluation.recall(), label=\"Jaccard\")\n",
    "\n",
    "    #plt.xlabel(\"FPR\")\n",
    "    #plt.ylabel(\"TPR\")\n",
    "    #plt.legend()\n",
    "    #plt.show()\n",
    "    "
   ]
  },
  {
   "cell_type": "code",
   "execution_count": 23,
   "metadata": {},
   "outputs": [
    {
     "name": "stdout",
     "output_type": "stream",
     "text": [
      "-- For 0 predict CommonNeighbours\n",
      "-- For 0 predict AdamicAdar\n",
      "-- For 0 predict Jaccard\n",
      "-- For 0 evaluate CommonNeighbour\n",
      "-- For 0 evaluate AdamicAdar\n",
      "-- For 0 evaluate Jaccard\n"
     ]
    }
   ],
   "source": [
    "predict(0)"
   ]
  },
  {
   "cell_type": "code",
   "execution_count": 24,
   "metadata": {},
   "outputs": [
    {
     "name": "stdout",
     "output_type": "stream",
     "text": [
      "Area Under Roc Curve (AUROC)\n",
      "CommonNeighbour: \t 0.014611802217855461\n",
      "AdamicAdar: \t 0.0190591418326423\n",
      "Jaccard: \t 0.004636067582722781\n"
     ]
    }
   ],
   "source": [
    "evaluate(0)"
   ]
  },
  {
   "cell_type": "code",
   "execution_count": null,
   "metadata": {},
   "outputs": [],
   "source": []
  },
  {
   "cell_type": "code",
   "execution_count": 25,
   "metadata": {},
   "outputs": [
    {
     "name": "stdout",
     "output_type": "stream",
     "text": [
      "-- For 1 predict CommonNeighbours\n",
      "-- For 1 predict AdamicAdar\n",
      "-- For 1 predict Jaccard\n",
      "-- For 1 evaluate CommonNeighbour\n",
      "-- For 1 evaluate AdamicAdar\n",
      "-- For 1 evaluate Jaccard\n"
     ]
    }
   ],
   "source": [
    "predict(1)"
   ]
  },
  {
   "cell_type": "code",
   "execution_count": 26,
   "metadata": {},
   "outputs": [
    {
     "name": "stdout",
     "output_type": "stream",
     "text": [
      "Area Under Roc Curve (AUROC)\n",
      "CommonNeighbour: \t 0.043849792931871606\n",
      "AdamicAdar: \t 0.05469709108368652\n",
      "Jaccard: \t 0.014099672205548846\n"
     ]
    }
   ],
   "source": [
    "evaluate(1)"
   ]
  },
  {
   "cell_type": "code",
   "execution_count": null,
   "metadata": {},
   "outputs": [],
   "source": []
  },
  {
   "cell_type": "code",
   "execution_count": 27,
   "metadata": {},
   "outputs": [
    {
     "name": "stdout",
     "output_type": "stream",
     "text": [
      "-- For 2 predict CommonNeighbours\n",
      "-- For 2 predict AdamicAdar\n",
      "-- For 2 predict Jaccard\n",
      "-- For 2 evaluate CommonNeighbour\n",
      "-- For 2 evaluate AdamicAdar\n",
      "-- For 2 evaluate Jaccard\n"
     ]
    }
   ],
   "source": [
    "predict(2)"
   ]
  },
  {
   "cell_type": "code",
   "execution_count": 28,
   "metadata": {},
   "outputs": [
    {
     "name": "stdout",
     "output_type": "stream",
     "text": [
      "Area Under Roc Curve (AUROC)\n",
      "CommonNeighbour: \t 0.15245817369768105\n",
      "AdamicAdar: \t 0.18336498910936233\n",
      "Jaccard: \t 0.039878716837338776\n"
     ]
    }
   ],
   "source": [
    "evaluate(2)"
   ]
  },
  {
   "cell_type": "code",
   "execution_count": null,
   "metadata": {},
   "outputs": [],
   "source": []
  },
  {
   "cell_type": "code",
   "execution_count": 29,
   "metadata": {},
   "outputs": [
    {
     "name": "stdout",
     "output_type": "stream",
     "text": [
      "-- For 3 predict CommonNeighbours\n",
      "-- For 3 predict AdamicAdar\n",
      "-- For 3 predict Jaccard\n",
      "-- For 3 evaluate CommonNeighbour\n",
      "-- For 3 evaluate AdamicAdar\n",
      "-- For 3 evaluate Jaccard\n"
     ]
    }
   ],
   "source": [
    "predict(3)"
   ]
  },
  {
   "cell_type": "code",
   "execution_count": 30,
   "metadata": {},
   "outputs": [
    {
     "name": "stdout",
     "output_type": "stream",
     "text": [
      "Area Under Roc Curve (AUROC)\n",
      "CommonNeighbour: \t 0.04700709207758634\n",
      "AdamicAdar: \t 0.055791863362182004\n",
      "Jaccard: \t 0.02199092658306438\n"
     ]
    }
   ],
   "source": [
    "evaluate(3)"
   ]
  },
  {
   "cell_type": "code",
   "execution_count": null,
   "metadata": {},
   "outputs": [],
   "source": []
  },
  {
   "cell_type": "code",
   "execution_count": 31,
   "metadata": {},
   "outputs": [
    {
     "name": "stdout",
     "output_type": "stream",
     "text": [
      "-- For 4 predict CommonNeighbours\n",
      "-- For 4 predict AdamicAdar\n",
      "-- For 4 predict Jaccard\n",
      "-- For 4 evaluate CommonNeighbour\n",
      "-- For 4 evaluate AdamicAdar\n",
      "-- For 4 evaluate Jaccard\n"
     ]
    }
   ],
   "source": [
    "predict(4)"
   ]
  },
  {
   "cell_type": "code",
   "execution_count": 32,
   "metadata": {},
   "outputs": [
    {
     "name": "stdout",
     "output_type": "stream",
     "text": [
      "Area Under Roc Curve (AUROC)\n",
      "CommonNeighbour: \t 0.017317231695085256\n",
      "AdamicAdar: \t 0.020819193580742225\n",
      "Jaccard: \t 0.009571819458375125\n"
     ]
    }
   ],
   "source": [
    "evaluate(4)"
   ]
  },
  {
   "cell_type": "code",
   "execution_count": null,
   "metadata": {},
   "outputs": [],
   "source": []
  },
  {
   "cell_type": "code",
   "execution_count": 33,
   "metadata": {},
   "outputs": [
    {
     "name": "stdout",
     "output_type": "stream",
     "text": [
      "-- For 5 predict CommonNeighbours\n",
      "-- For 5 predict AdamicAdar\n",
      "-- For 5 predict Jaccard\n",
      "-- For 5 evaluate CommonNeighbour\n",
      "-- For 5 evaluate AdamicAdar\n",
      "-- For 5 evaluate Jaccard\n"
     ]
    }
   ],
   "source": [
    "predict(5)"
   ]
  },
  {
   "cell_type": "code",
   "execution_count": 34,
   "metadata": {},
   "outputs": [
    {
     "name": "stdout",
     "output_type": "stream",
     "text": [
      "Area Under Roc Curve (AUROC)\n",
      "CommonNeighbour: \t 0.019945650881809624\n",
      "AdamicAdar: \t 0.02444201397790601\n",
      "Jaccard: \t 0.008297592152552038\n"
     ]
    }
   ],
   "source": [
    "evaluate(5)"
   ]
  },
  {
   "cell_type": "code",
   "execution_count": null,
   "metadata": {},
   "outputs": [],
   "source": []
  },
  {
   "cell_type": "code",
   "execution_count": 35,
   "metadata": {},
   "outputs": [
    {
     "name": "stdout",
     "output_type": "stream",
     "text": [
      "-- For 6 predict CommonNeighbours\n",
      "-- For 6 predict AdamicAdar\n",
      "-- For 6 predict Jaccard\n",
      "-- For 6 evaluate CommonNeighbour\n",
      "-- For 6 evaluate AdamicAdar\n",
      "-- For 6 evaluate Jaccard\n"
     ]
    }
   ],
   "source": [
    "predict(6)"
   ]
  },
  {
   "cell_type": "code",
   "execution_count": 36,
   "metadata": {},
   "outputs": [
    {
     "name": "stdout",
     "output_type": "stream",
     "text": [
      "Area Under Roc Curve (AUROC)\n",
      "CommonNeighbour: \t 0.024456227112956804\n",
      "AdamicAdar: \t 0.02890317587222588\n",
      "Jaccard: \t 0.0090478730589926\n"
     ]
    }
   ],
   "source": [
    "evaluate(6)"
   ]
  },
  {
   "cell_type": "code",
   "execution_count": null,
   "metadata": {},
   "outputs": [],
   "source": []
  },
  {
   "cell_type": "code",
   "execution_count": 37,
   "metadata": {},
   "outputs": [
    {
     "name": "stdout",
     "output_type": "stream",
     "text": [
      "-- For 7 predict CommonNeighbours\n",
      "-- For 7 predict AdamicAdar\n",
      "-- For 7 predict Jaccard\n",
      "-- For 7 evaluate CommonNeighbour\n",
      "-- For 7 evaluate AdamicAdar\n",
      "-- For 7 evaluate Jaccard\n"
     ]
    }
   ],
   "source": [
    "predict(7)"
   ]
  },
  {
   "cell_type": "code",
   "execution_count": 38,
   "metadata": {},
   "outputs": [
    {
     "name": "stdout",
     "output_type": "stream",
     "text": [
      "Area Under Roc Curve (AUROC)\n",
      "CommonNeighbour: \t 0.0056600997739704945\n",
      "AdamicAdar: \t 0.008273898421954433\n",
      "Jaccard: \t 0.005569628529946308\n"
     ]
    }
   ],
   "source": [
    "evaluate(7)"
   ]
  },
  {
   "cell_type": "code",
   "execution_count": null,
   "metadata": {},
   "outputs": [],
   "source": []
  },
  {
   "cell_type": "code",
   "execution_count": 39,
   "metadata": {},
   "outputs": [
    {
     "name": "stdout",
     "output_type": "stream",
     "text": [
      "-- For 8 predict CommonNeighbours\n",
      "-- For 8 predict AdamicAdar\n",
      "-- For 8 predict Jaccard\n",
      "-- For 8 evaluate CommonNeighbour\n",
      "-- For 8 evaluate AdamicAdar\n",
      "-- For 8 evaluate Jaccard\n"
     ]
    }
   ],
   "source": [
    "predict(8)"
   ]
  },
  {
   "cell_type": "code",
   "execution_count": 40,
   "metadata": {},
   "outputs": [
    {
     "name": "stdout",
     "output_type": "stream",
     "text": [
      "Area Under Roc Curve (AUROC)\n",
      "CommonNeighbour: \t 0.06631589840209533\n",
      "AdamicAdar: \t 0.08553909737752631\n",
      "Jaccard: \t 0.030996789463132845\n"
     ]
    }
   ],
   "source": [
    "evaluate(8)"
   ]
  },
  {
   "cell_type": "code",
   "execution_count": null,
   "metadata": {},
   "outputs": [],
   "source": []
  },
  {
   "cell_type": "code",
   "execution_count": null,
   "metadata": {},
   "outputs": [],
   "source": []
  },
  {
   "cell_type": "code",
   "execution_count": 41,
   "metadata": {},
   "outputs": [],
   "source": [
    "def predict2(idx):\n",
    "    with open(saved_path+f'universe_{idx}.pickle', 'rb') as f:\n",
    "        universe = pickle.load(f)\n",
    "    with open(saved_path+f'test_{idx}.pickle', 'rb') as f:\n",
    "        test = pickle.load(f)\n",
    "    training = nx.read_graphml(saved_path+f\"training_{idx}.graphml\")\n",
    "    \n",
    "    print(f\"-- For {idx} predict Katz\")\n",
    "    \n",
    "    kz = linkpred.predictors.Katz(training, excluded=training.edges())\n",
    "    kz_results = kz.predict()\n",
    "    \n",
    "    res = []\n",
    "    for i, j in zip(kz_results, kz_results.values()):\n",
    "        res.append([Pair(i), j])\n",
    "   \n",
    "    with open(saved_path+f'kz_results_{idx}.pickle', 'wb') as f:\n",
    "        pickle.dump(res, f)\n",
    "        \n",
    "        \n",
    "    print(f\"-- For {idx} predict SimRank\")\n",
    "    simrank = linkpred.predictors.SimRank(training, excluded=training.edges())\n",
    "    simrank_results = simrank.predict()\n",
    "    \n",
    "    \n",
    "    res = []\n",
    "    for i, j in zip(simrank_results, simrank_results.values()):\n",
    "        res.append([Pair(i), j])\n",
    "   \n",
    "    with open(saved_path+f'simrank_results_{idx}.pickle', 'wb') as f:\n",
    "        pickle.dump(res, f)\n",
    "        \n",
    "\n",
    "    print(f\"-- For {idx} evaluate Katz\")\n",
    "        \n",
    "    kz_evaluation = linkpred.evaluation.EvaluationSheet(kz_results, test, universe)\n",
    "\n",
    "    with open(saved_path+f'kz_evaluation_{idx}.pickle', 'wb') as f:\n",
    "        pickle.dump(kz_evaluation, f) \n",
    "\n",
    "    print(f\"-- For {idx} evaluate SimRank\")\n",
    "        \n",
    "    simrank_evaluation = linkpred.evaluation.EvaluationSheet(simrank_results, test, universe)\n",
    "\n",
    "    with open(saved_path+f'simrank_evaluation_{idx}.pickle', 'wb') as f:\n",
    "        pickle.dump(simrank_evaluation, f) "
   ]
  },
  {
   "cell_type": "code",
   "execution_count": 42,
   "metadata": {},
   "outputs": [],
   "source": [
    "def evaluate2(idx):\n",
    "    \n",
    "    with open(saved_path+f'kz_evaluation_{idx}.pickle', 'rb') as f:\n",
    "        kz_evaluation = pickle.load(f)\n",
    "    with open(saved_path+f'simrank_evaluation_{idx}.pickle', 'rb') as f:\n",
    "        sm_evaluation = pickle.load(f)\n",
    "\n",
    "    \n",
    "    print(\"Area Under Roc Curve (AUROC)\")\n",
    "    print(f\"Katz: \\t {auc(kz_evaluation.fallout(), kz_evaluation.recall())}\")\n",
    "    print(f\"SimRank: \\t {auc(sm_evaluation.fallout(), sm_evaluation.recall())}\")"
   ]
  },
  {
   "cell_type": "code",
   "execution_count": 43,
   "metadata": {},
   "outputs": [
    {
     "name": "stdout",
     "output_type": "stream",
     "text": [
      "-- For 0 predict Katz\n",
      "Computing matrix powers: [############################################################] 5/5\n",
      "-- For 0 predict SimRank\n",
      "-- For 0 evaluate Katz\n",
      "-- For 0 evaluate SimRank\n"
     ]
    }
   ],
   "source": [
    "predict2(0)"
   ]
  },
  {
   "cell_type": "code",
   "execution_count": 44,
   "metadata": {},
   "outputs": [
    {
     "name": "stdout",
     "output_type": "stream",
     "text": [
      "Area Under Roc Curve (AUROC)\n",
      "Katz: \t 0.125922302697261\n",
      "SimRank: \t 0.10792348478885144\n"
     ]
    }
   ],
   "source": [
    "evaluate2(0)"
   ]
  },
  {
   "cell_type": "code",
   "execution_count": 45,
   "metadata": {},
   "outputs": [
    {
     "name": "stdout",
     "output_type": "stream",
     "text": [
      "-- For 1 predict Katz\n",
      "Computing matrix powers: [############################################################] 5/5\n",
      "-- For 1 predict SimRank\n",
      "-- For 1 evaluate Katz\n",
      "-- For 1 evaluate SimRank\n",
      "Area Under Roc Curve (AUROC)\n",
      "Katz: \t 0.24146000672469833\n",
      "SimRank: \t 0.18306726497110176\n"
     ]
    }
   ],
   "source": [
    "predict2(1)\n",
    "evaluate2(1)"
   ]
  },
  {
   "cell_type": "code",
   "execution_count": 46,
   "metadata": {},
   "outputs": [
    {
     "name": "stdout",
     "output_type": "stream",
     "text": [
      "-- For 2 predict Katz\n",
      "Computing matrix powers: [############################################################] 5/5\n",
      "-- For 2 predict SimRank\n",
      "-- For 2 evaluate Katz\n",
      "-- For 2 evaluate SimRank\n",
      "Area Under Roc Curve (AUROC)\n",
      "Katz: \t 0.4702632682316822\n",
      "SimRank: \t 0.3142765124783215\n"
     ]
    }
   ],
   "source": [
    "predict2(2)\n",
    "evaluate2(2)"
   ]
  },
  {
   "cell_type": "code",
   "execution_count": 47,
   "metadata": {},
   "outputs": [
    {
     "name": "stdout",
     "output_type": "stream",
     "text": [
      "-- For 3 predict Katz\n",
      "Computing matrix powers: [############################################################] 5/5\n",
      "-- For 3 predict SimRank\n",
      "-- For 3 evaluate Katz\n",
      "-- For 3 evaluate SimRank\n",
      "Area Under Roc Curve (AUROC)\n",
      "Katz: \t 0.3933913233861601\n",
      "SimRank: \t 0.35465447488987734\n"
     ]
    }
   ],
   "source": [
    "predict2(3)\n",
    "evaluate2(3)"
   ]
  },
  {
   "cell_type": "code",
   "execution_count": 48,
   "metadata": {},
   "outputs": [
    {
     "name": "stdout",
     "output_type": "stream",
     "text": [
      "-- For 4 predict Katz\n",
      "Computing matrix powers: [############################################################] 5/5\n",
      "-- For 4 predict SimRank\n",
      "-- For 4 evaluate Katz\n",
      "-- For 4 evaluate SimRank\n",
      "Area Under Roc Curve (AUROC)\n",
      "Katz: \t 0.15970741023069207\n",
      "SimRank: \t 0.14666854964894682\n"
     ]
    }
   ],
   "source": [
    "predict2(4)\n",
    "evaluate2(4)"
   ]
  },
  {
   "cell_type": "code",
   "execution_count": 49,
   "metadata": {},
   "outputs": [
    {
     "name": "stdout",
     "output_type": "stream",
     "text": [
      "-- For 5 predict Katz\n",
      "Computing matrix powers: [############################################################] 5/5\n",
      "-- For 5 predict SimRank\n",
      "-- For 5 evaluate Katz\n",
      "-- For 5 evaluate SimRank\n",
      "Area Under Roc Curve (AUROC)\n",
      "Katz: \t 0.16639980850691258\n",
      "SimRank: \t 0.15571517729193474\n"
     ]
    }
   ],
   "source": [
    "predict2(5)\n",
    "evaluate2(5)"
   ]
  },
  {
   "cell_type": "code",
   "execution_count": 50,
   "metadata": {},
   "outputs": [
    {
     "name": "stdout",
     "output_type": "stream",
     "text": [
      "-- For 6 predict Katz\n",
      "Computing matrix powers: [############################################################] 5/5\n",
      "-- For 6 predict SimRank\n",
      "-- For 6 evaluate Katz\n",
      "-- For 6 evaluate SimRank\n",
      "Area Under Roc Curve (AUROC)\n",
      "Katz: \t 0.17788766434490616\n",
      "SimRank: \t 0.15835087128012862\n"
     ]
    }
   ],
   "source": [
    "predict2(6)\n",
    "evaluate2(6)"
   ]
  },
  {
   "cell_type": "code",
   "execution_count": 51,
   "metadata": {},
   "outputs": [
    {
     "name": "stdout",
     "output_type": "stream",
     "text": [
      "-- For 7 predict Katz\n",
      "Computing matrix powers: [############################################################] 5/5\n",
      "-- For 7 predict SimRank\n",
      "-- For 7 evaluate Katz\n",
      "-- For 7 evaluate SimRank\n",
      "Area Under Roc Curve (AUROC)\n",
      "Katz: \t 0.17686646723761035\n",
      "SimRank: \t 0.23126114358149025\n"
     ]
    }
   ],
   "source": [
    "predict2(7)\n",
    "evaluate2(7)"
   ]
  },
  {
   "cell_type": "code",
   "execution_count": 52,
   "metadata": {},
   "outputs": [
    {
     "name": "stdout",
     "output_type": "stream",
     "text": [
      "-- For 8 predict Katz\n",
      "Computing matrix powers: [############################################################] 5/5\n",
      "-- For 8 predict SimRank\n",
      "-- For 8 evaluate Katz\n",
      "-- For 8 evaluate SimRank\n",
      "Area Under Roc Curve (AUROC)\n",
      "Katz: \t 0.44043366577328297\n",
      "SimRank: \t 0.4252993030050002\n"
     ]
    }
   ],
   "source": [
    "predict2(8)\n",
    "evaluate2(8)"
   ]
  },
  {
   "cell_type": "code",
   "execution_count": null,
   "metadata": {},
   "outputs": [],
   "source": []
  }
 ],
 "metadata": {
  "kernelspec": {
   "display_name": "Python 3",
   "language": "python",
   "name": "python3"
  },
  "language_info": {
   "codemirror_mode": {
    "name": "ipython",
    "version": 3
   },
   "file_extension": ".py",
   "mimetype": "text/x-python",
   "name": "python",
   "nbconvert_exporter": "python",
   "pygments_lexer": "ipython3",
   "version": "3.8.3"
  }
 },
 "nbformat": 4,
 "nbformat_minor": 5
}
